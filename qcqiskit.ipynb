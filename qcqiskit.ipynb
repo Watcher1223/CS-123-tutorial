{
 "cells": [
  {
   "cell_type": "markdown",
   "metadata": {},
   "source": [
    "# Learning Quantum Computing with Qiskit\n",
    "\n",
    "Quantum computing is a rapidly advancing field with the potential to redefine computation and problem-solving as we know it. As technology advances, quantum computers show promise in tackling challenges that are currently out of reach for classical computers. By understanding the basics of quantum computing, enthusiasts and professionals alike can begin to appreciate its transformative capabilities and future applications.\n",
    "\n",
    "Quantum computers can solve problems exponentially faster than traditional computers, allowing them to tackle issues that would take classical computers thousands of years in mere minutes. Consequently, it has major applications in fields like materials science, quantum chemistry, and molecular biology. Additionally, quantum computing has significant implications for cybersecurity. It's sheer computational power threatens current encryption protocols. In turn, it drives the development of post-quantum cryptography, which promises stronger data protection in an age where quantum computers are commonplace. Through this tutorial, we aim to provide users with an introduction to this field through Qiskit. Qiskit is an open source Python SDK developed by IBM, who is a leader in quantum computing. Through Qiskit, we can access their quantum computers to run our own programs.\n",
    "\n",
    "#### Learning Objectives\n",
    "By the end of this tutorial, you will:\n",
    "+ Understand the basics of quantum computing\n",
    "+ Be familiar with the basics of the Qiskit SDK\n",
    "+ Understand the Qiskit workflow\n",
    "+ Have enough background knowledge to learn more about and start quantum computing projects"
   ]
  },
  {
   "cell_type": "markdown",
   "metadata": {
    "vscode": {
     "languageId": "powershell"
    }
   },
   "source": [
    "Before you start\n",
    "- pre-reqs\n",
    "\n",
    "jupyter labextension install @jupyterlab/latex"
   ]
  },
  {
   "cell_type": "markdown",
   "metadata": {},
   "source": [
    "# I. Introduction to Quantum Computing\n",
    "\n",
    "In this section, we’ll provide an overview of some foundational concepts in quantum computing. This will be a theory-focused section where we learn crucial background knowledge necessary for the rest of the tutorial. The main goal is to introduce key differences between classical and quantum computing, along with essential quantum concepts, in a beginner-friendly manner. After this section, you should have a high-level understanding of how what quantum computing entails and feel prepared to explore the basics of quantum programming through Qiskit. "
   ]
  },
  {
   "cell_type": "markdown",
   "metadata": {},
   "source": [
    "## Classical Computing vs. Quantum Computing\n",
    "\n",
    "Quantum computing works in a different way than the classical computing that we're used to. A classical computer is what you are viewing this on right now, and includes things like laptops, PCs, smartphones, and tablets. Quantum computers are a new technology, and are typically kept in strictly monitored environments that prevent physical disturbances to the computer. These computers have a much higher processing power than their classical counterparts. Even though they are both computers, the way they operate is fundamentally different. The following are some key differences in how these computers work: \n",
    "\n",
    "### Classical Computers\n",
    "* Store data in bits\n",
    "* Operations are based on Boolean algebra\n",
    "* Circuits are modeled from classical physics\n",
    "* Bits can only be in two states: 0 or 1\n",
    "\n",
    "### Quantum Computers\n",
    "* Store data in qubits\n",
    "* Operations are based on linear algebra\n",
    "* Circuits are modeled from quantum mechanics\n",
    "* Qubits can be in a combination of 0 or 1, meaning there are infinitely many unique qubit states\n"
   ]
  },
  {
   "cell_type": "markdown",
   "metadata": {},
   "source": [
    "## What is a Qubit?\n",
    "\n",
    "A qubit, which is short for quantum bit, is the basic unit of information in quantum computing.\n",
    "A qubit is a two-state quantum system that can represent a 0, a 1, or any proportion of both. A two-state quantum system has two physically distinguishable features. These features are what encode 0 and 1. For example, the spin of an electron can be used as a qubit, with spin up and spin down representing 0 and 1 respectively. Overall, qubits are created by manipulating and measuring quantum particles, such as electrons, photons, and trapped ions. \n",
    "\n",
    "Additionally, qubits use quantum mechanical phenomena like superposition and entanglement to encode and process information.\n",
    "\n",
    "1. **Superposition** is the principle that a quantum system can exist in multiple states simultaneously. For instance, in a classical scenario, a coin must be either heads or tails when observed. However, in quantum mechanics, a qubit can be in a state of \"0\" and \"1\" at the same time until it is measured. When the qubit is measured, it \"collapses\" into one of the two possible outcomes (either \"0\" or \"1\").\n",
    "\n",
    "2. **Entanglement** is a quantum phenomenon where two or more particles become interconnected in such a way that the state of one particle directly affects the state of the other, no matter the distance between them. This connection creates a \"shared\" state across particles.\n",
    "\n",
    "Furthermore, qubits behave differently from classical bits because of the quantum properties they have. Quantum computing uses qubits to execute calculations instead of the electrical signals used in classical computing. "
   ]
  },
  {
   "cell_type": "markdown",
   "metadata": {},
   "source": [
    "## Notation"
   ]
  },
  {
   "cell_type": "markdown",
   "metadata": {},
   "source": [
    "To better understand qubits, we need a way to represent them. The most common way this is done is with **Dirac Notation**, also known as **Bra-ket** notation.\n",
    "\n",
    "We can notate an arbitrary qubit as follows:\n",
    "\n",
    "$$\n",
    "\\ket{\\psi} = \\alpha\\ket{0} + \\beta\\ket{1}\n",
    "$$\n",
    "\n",
    "Note that $\\ket{}$ is called a ket\n",
    "\n",
    "Here, the qubit $\\ket{\\psi}$ is in superposition. Recall that this means that it's some proportion of both $\\ket{0}$ and $\\ket{1}$. Due to quantum mechanics, when we measure this qubit, it collapses and we observe it as either $\\ket{0}$ or $\\ket{1}$. It turns out, what we see depends on the superposition.\n",
    "\n",
    "In particular, the probability that we find the qubit in $\\ket{0}$ is $|\\alpha|^2$ and the probability we find qubit in $\\ket{1}$ is $|\\beta|^2$.\n",
    "\n",
    "Also note that since we find *either* $\\ket{0}$ or $\\ket{1}$, it must be true that $|\\alpha|^2 + |\\beta|^2 = 1$. In other words, the probabilites must sum to 100%. \n",
    "\n",
    "These kets can also be represented as column vectors. In particular,\n",
    "\n",
    "$$\n",
    "\\ket{0} = \\begin{bmatrix}1 \\\\ 0 \\end{bmatrix}\n",
    "\\:\n",
    "\\ket{1} = \\begin{bmatrix}0 \\\\ 1 \\end{bmatrix}\n",
    "$$\n",
    "\n",
    "Therefore,\n",
    "$\\ket{\\psi} = \\begin{bmatrix}\\alpha \\\\ \\beta \\end{bmatrix}$.\n",
    "\n",
    "This notation proves useful when trying to understanding quantum logic gates (explained in the next section).\n",
    "\n",
    "We can extend this notation to include states with multiple qubits. Let's first consider the basis states $\\ket{0}$ and $\\ket{1}$. For a two-qubit state with qubits $A$ and $B$, there are 4 possible basis states: when both qubits are $\\ket{0}$, qubit $A$ is $\\ket{0}$ and qubit $B$ is $\\ket{1}$, qubit $A$ is $\\ket{1}$ and qubit $B$ is $\\ket{0}$, and when both qubits are $\\ket{1}$. In Dirac notation:\n",
    "\n",
    "$$\n",
    "\\ket{0}_A\\ket{0}_B \\to \\ket{00}\n",
    "\\newline\n",
    "\\ket{0}_A\\ket{1}_B \\to \\ket{01}\n",
    "\\newline\n",
    "\\ket{1}_A\\ket{0}_B \\to \\ket{10}\n",
    "\\newline\n",
    "\\ket{1}_A\\ket{1}_B \\to \\ket{11}\n",
    "$$\n",
    "\n",
    "So, for an arbitrary two-qubit state:\n",
    "\n",
    "$$\n",
    "\\ket{\\psi} = \\alpha\\ket{00} + \\beta\\ket{01} + \\gamma\\ket{10} + \\delta\\ket{11}\n",
    "$$\n",
    "\n",
    "Here, $\\ket{\\psi}$ represents a two-qubit state in an arbitrary superposition. From this state, we can see that there's a probability of:\n",
    "+ $|\\alpha|^2$ that both qubits are $\\ket{0}$ (which is notated as $\\ket{00}$)\n",
    "+ $|\\beta|^2$ that the first qubit is $\\ket{0}$ and the second qubit is $\\ket{1}$ (notated as $\\ket{01}$)\n",
    "+ $|\\gamma|^2$ that the first qubit is $\\ket{1}$ and the second qubit is $\\ket{0}$ (notated as $\\ket{10}$)\n",
    "+ $|\\delta|^2$ that both qubits are $\\ket{1}$ (notated as $\\ket{11}$)\n",
    "\n",
    "As vectors:\n",
    "\n",
    "$$\n",
    "\\ket{00} = \\begin{bmatrix}1 \\\\ 0 \\\\ 0 \\\\ 0 \\end{bmatrix}\n",
    "\\:\n",
    "\\ket{01} = \\begin{bmatrix}0 \\\\ 1 \\\\ 0 \\\\ 0 \\end{bmatrix}\n",
    "\\:\n",
    "\\ket{10} = \\begin{bmatrix}0 \\\\ 0 \\\\ 1 \\\\ 0 \\end{bmatrix}\n",
    "\\:\n",
    "\\ket{11} = \\begin{bmatrix}0 \\\\ 0 \\\\ 0 \\\\ 1 \\end{bmatrix}\n",
    "\\:\n",
    "\\ket{\\psi} = \\begin{bmatrix}\\alpha \\\\ \\beta \\\\ \\delta \\\\ \\gamma \\end{bmatrix}\n"
   ]
  },
  {
   "cell_type": "markdown",
   "metadata": {},
   "source": [
    "## Additional Terminology & Concepts"
   ]
  },
  {
   "cell_type": "markdown",
   "metadata": {},
   "source": [
    "**Probabilistic Nature of Quantum Computers**\n",
    "\n",
    "Classical computing calculations yield definite answers (like 0s and 1s). However, since quantum computers use quantum mechanics, calculations are probabilistic. Consequently, a quantum program may yield different results each time it's run. As mentioned previously, the state of a qubit is not known with certainty until it is measured. After it's measured, it's state becomes definite.\n",
    "\n",
    "One example of this is presented through qubit superposition. As mentioned above, a qubit be in a state where it's simultaneously a little bit of both 0 and 1. In such states, qubits are understood as the probabilities of it being measured as 0 or 1. An interesting consequence of this is that we can perform computations in parallel, rather than in sequence like with classical computation. This is what allows for the exponential speedup that quantum computers are famous for. Since qubits can end up in superpostiion, results will reflect its probabilities of being either 0 or 1 over many runs, providing a meaningful distrbuion of possible outcomes.   \n",
    "\n",
    "Each possible basis state (for our purposes, $\\ket{0}$ and $\\ket{1}$) in a quantum system has a complex number called an amplitude, which when squared, gives the probability of observing that state upon measurement. Using the example of $\\ket{\\psi}$ from above, the amplitude for $\\ket{0}$ is $\\alpha$ and the amplitude for $\\ket{1}$ is $\\beta$. The probability distribution is derived from these amplitudes and provides a snapshot of what we will likely find when the qubit is measured. \n",
    "\n",
    "Understanding probability distribution is fundamental to interpreting quantum computing results.  Thankfully, Qiskit includes tools to visualize these distributions which we will go over later in this tutorial. \n"
   ]
  },
  {
   "cell_type": "markdown",
   "metadata": {},
   "source": [
    "**Expectation Values** \n",
    "\n",
    "As we just discussed, the probabilistic nature of quantum mechanics means that each time we measure a system, it's value is dependent on some probability distribution. Just like with classical probability, an expectation value in quantum mechanics is the expected measurement of an experiment. More specifically, the expectation value is the average of all possible events weighted by their probability of occurring. \n",
    "\n",
    "With Dirac Notation:\n",
    "$$\n",
    "\\langle A \\rangle = \\bra{\\psi}A\\ket{\\psi}\n",
    "$$"
   ]
  },
  {
   "cell_type": "markdown",
   "metadata": {},
   "source": [
    "**Observables** \n",
    "\n",
    "An observable is"
   ]
  },
  {
   "cell_type": "markdown",
   "metadata": {},
   "source": [
    "## Quantum Logic Gates\n",
    "At the circuit level, classical computers are a bunch of logic gates. Similarly, the circuits for quantum computers make use of *quantum logic gates*, which are also known as *operators*. Mathematically, these logic gates are matrices. When a qubit goes through a gate in a quantum circuit, the qubit (as a vector) are transformed by the gates (as a matrix) via matrix multiplication. Here, we will go over some of the major gates and what they are used for.\n",
    "\n",
    "### X Gate\n",
    "$$ \n",
    "X = \n",
    "\\begin{bmatrix}\n",
    "0 & 1 \\\\\n",
    "1 & 0\n",
    "\\end{bmatrix}\n",
    "$$ \n",
    "\n",
    "So,\n",
    "\n",
    "$X\\ket{0} = \\ket{1}$\n",
    "\n",
    "$X\\ket{1} = \\ket{0}$\n",
    "\n",
    "$X\\ket{\\psi} = \\alpha\\ket{1} + \\beta\\ket{0}$\n",
    "\n",
    "We can think of the $X$-gate as a NOT gate.\n",
    "\n",
    "### Z Gate\n",
    "$$ \n",
    "Z = \n",
    "\\begin{bmatrix}\n",
    "1 & 0 \\\\\n",
    "0 & -1\n",
    "\\end{bmatrix}\n",
    "$$ \n",
    "\n",
    "So,\n",
    "\n",
    "$Z\\ket{0} = \\ket{0}$\n",
    "\n",
    "$Z\\ket{1} = -\\ket{1}$\n",
    "\n",
    "$Z\\ket{\\psi} = \\alpha\\ket{0} - \\beta\\ket{1}$\n",
    "\n",
    "The $Z$-gate performs a *phase shift* within our qubit. \n",
    "\n",
    "Here, the *phase* is the negative assign that got attached to $\\ket{1}$. Don't worry if you don't understand what a *phase* is, just understand that if we don't account for phases, we limit the number of possible states our qubits can have. So, we will need a way to add a phase to be able to fully manipulate our qubits.\n",
    "\n",
    "### Hadamard Gate\n",
    "$$\n",
    "H =\n",
    "\\begin{bmatrix}\n",
    "\\frac{1}{\\sqrt{2}} & \\frac{1}{\\sqrt{2}} \\\\\n",
    "\\frac{1}{\\sqrt{2}} & -\\frac{1}{\\sqrt{2}}\n",
    "\\end{bmatrix}\n",
    "$$\n",
    "\n",
    "So,\n",
    "\n",
    "$H\\ket{0} = \\frac{1}{\\sqrt{2}}\\ket{0} + \\frac{1}{\\sqrt{2}}\\ket{1}$\n",
    "\n",
    "$H\\ket{1} = \\frac{1}{\\sqrt{2}}\\ket{0} - \\frac{1}{\\sqrt{2}}\\ket{1}$\n",
    "\n",
    "$H\\ket{\\psi} = \\frac{\\alpha}{\\sqrt{2}}\\ket{0} - \\frac{\\beta}{\\sqrt{2}}\\ket{1}$\n",
    "\n",
    "\n",
    "The Hadamard gate puts a qubit into an equal superposition. This means that when we measure the output, there will be an equal chance to get any one of the qubit's basis states (i.e. $\\ket{0}$ and $\\ket{1}$). Note that for $\\ket{1}$, it adds a phase.\n",
    "\n",
    "### CNOT Gate\n",
    "Unlike the past three gates, CNOT gates act on two qubits at a time.\n",
    "$$\n",
    "CNOT =\n",
    "\\begin{bmatrix}\n",
    "1 & 0 & 0 & 0 \\\\\n",
    "0 & 1 & 0 & 0 \\\\\n",
    "0 & 0 & 0 & 1 \\\\\n",
    "0 & 0 & 1 & 0 \\\\\n",
    "\\end{bmatrix}\n",
    "$$\n",
    "\n",
    "So,\n",
    "\n",
    "$$\n",
    "CNOT\\ket{00} = \\ket{00}\n",
    "\\newline\n",
    "CNOT\\ket{01} = \\ket{01}\n",
    "\\newline\n",
    "CNOT\\ket{10} = \\ket{11}\n",
    "\\newline\n",
    "CNOT\\ket{00} = \\ket{10}\n",
    "$$\n",
    "\n",
    "The CNOT gate is a *controlled* NOT gate. It applies an X-gate on the target qubit depending on the value of the control qubit. Here, the control qubit is the first qubit, and the target qubit is the second qubit. So, whenever the first qubit is a $\\ket{1}$, the second qubit is flipped (as if a NOT gate was applied to it). If instead the first qubit is a $\\ket{0}$, nothing happens to the second qubit. \n",
    "\n",
    "This gate is used to entangle qubits together.\n"
   ]
  },
  {
   "cell_type": "markdown",
   "metadata": {},
   "source": [
    "# Part II. Using Qiskit\n",
    "\n",
    "Now that we've covered the basics of quantum computing, we can start coding! To do this we will be using IBM's Qiskit SDK. Qiskit is a software development kit (SDK) that allows you to run your own quantum programs on IBM's quantum computers. We will set up a quantum channel that connects us to IBM's quantum hardware so that we can create quantum programs and run them through the quantum channel."
   ]
  },
  {
   "cell_type": "markdown",
   "metadata": {},
   "source": [
    "## Setting up Qiskit"
   ]
  },
  {
   "cell_type": "markdown",
   "metadata": {},
   "source": [
    "### Installing Qiskit\n",
    "Before we jump into using Qiskit, we have to install it. We can do so using `pip`.\n",
    "\n",
    "*Note: Feel free to use a virtual environment if you prefer*"
   ]
  },
  {
   "cell_type": "code",
   "execution_count": null,
   "metadata": {
    "vscode": {
     "languageId": "powershell"
    }
   },
   "outputs": [],
   "source": [
    "# Install qiskit and additional libraries we will use throughout the tutorial\n",
    "%pip install qiskit \n",
    "%pip install qiskit_ibm_runtime\n",
    "%pip install matplotlib\n",
    "%pip install seaborn"
   ]
  },
  {
   "cell_type": "code",
   "execution_count": null,
   "metadata": {
    "vscode": {
     "languageId": "powershell"
    }
   },
   "outputs": [],
   "source": [
    "%pip install qiskit-aer"
   ]
  },
  {
   "attachments": {
    "image.png": {
     "image/png": "[encoded data removed]"
    }
   },
   "cell_type": "markdown",
   "metadata": {},
   "source": [
    "### Creating an IBM Account\n",
    "\n",
    "IBM requires you to make an account to access their quantum hardware. They have free and paid plans depending on how many jobs you'll be running. For now, we'll just sign up for the free plan, which provides you with 10 minutes of free runtime every month. This will be more than enough time to complete the tutorial.\n",
    "\n",
    "Make an account with the \"Open Plan\" from this link: https://www.ibm.com/quantum/pricing\n",
    "\n",
    "Then, copy your API token for later use. (Don't share this with anyone!)\n",
    "\n",
    "![image.png](attachment:image.png)"
   ]
  },
  {
   "cell_type": "markdown",
   "metadata": {},
   "source": [
    "### Setting up a Quantum Channel\n",
    "\n",
    "To run our code on IBM's quantum computers, we have to set up a channel to connect us to their computers. \n",
    "\n",
    "Paste the API token from your account into the text below that says `YOUR_TOKEN_HERE`. Then, run the code cell to set up the quantum channel."
   ]
  },
  {
   "cell_type": "code",
   "execution_count": null,
   "metadata": {},
   "outputs": [],
   "source": [
    "from qiskit_ibm_runtime import QiskitRuntimeService\n",
    "\n",
    "service = QiskitRuntimeService(\n",
    "    channel='ibm_quantum',\n",
    "    instance='ibm-q/open/main',\n",
    "    token='YOUR_TOKEN_HERE'\n",
    ")\n",
    "\n",
    "# You can also save your API credentials on disk for future use\n",
    "# QiskitRuntimeService.save_account(channel='ibm_quantum', instance='ibm-q/open/main', token='YOUR_TOKEN_HERE')"
   ]
  },
  {
   "cell_type": "code",
   "execution_count": null,
   "metadata": {},
   "outputs": [],
   "source": [
    "from qiskit_ibm_runtime import QiskitRuntimeService\n",
    "\n",
    "# If you saved your credentials, you can now run this line to\n",
    "# quickly set up a channel without your API token\n",
    "service = QiskitRuntimeService()"
   ]
  },
  {
   "cell_type": "markdown",
   "metadata": {},
   "source": [
    "## Qiskit Circuits and Operators"
   ]
  },
  {
   "cell_type": "markdown",
   "metadata": {},
   "source": [
    "As mentioned previously, quantum computing quantum circuits, which are made up of quantum logic gates. Since quantum computing is a new field, we will almost always be thinking at the circuit level. With the Qiskit Circuit library, we can create these quantum circuits as well as draw diagrams of them.\n"
   ]
  },
  {
   "cell_type": "code",
   "execution_count": 6,
   "metadata": {},
   "outputs": [],
   "source": [
    "# Import the Qiskit Circuit library\n",
    "from qiskit import QuantumCircuit "
   ]
  },
  {
   "cell_type": "markdown",
   "metadata": {},
   "source": [
    "The following code snippets all use the Qiskit Circuit library. Note how similar each code block is! "
   ]
  },
  {
   "cell_type": "markdown",
   "metadata": {},
   "source": [
    "### Hadamard Gate "
   ]
  },
  {
   "cell_type": "code",
   "execution_count": 9,
   "metadata": {},
   "outputs": [
    {
     "data": {
      "image/png": "[encoded data removed]",
      "text/plain": [
       "<Figure size 185.453x117.056 with 1 Axes>"
      ]
     },
     "execution_count": 9,
     "metadata": {},
     "output_type": "execute_result"
    }
   ],
   "source": [
    "# Create a quantum circuit with 1 qubit\n",
    "qc = QuantumCircuit(1) \n",
    "\n",
    "# Add a Hadamard gate to the 0th qubit\n",
    "qc.h(0)\n",
    "\n",
    "# Draw a diagram of the circuit with matplotlib\n",
    "qc.draw(\"mpl\")"
   ]
  },
  {
   "cell_type": "markdown",
   "metadata": {},
   "source": [
    "### X (NOT) Gate  \n"
   ]
  },
  {
   "cell_type": "code",
   "execution_count": null,
   "metadata": {},
   "outputs": [
    {
     "data": {
      "image/png": "[encoded data removed]",
      "text/plain": [
       "<Figure size 185.453x117.056 with 1 Axes>"
      ]
     },
     "execution_count": 10,
     "metadata": {},
     "output_type": "execute_result"
    }
   ],
   "source": [
    "qc = QuantumCircuit(1) \n",
    "qc.x(0)  # Add an X gate to the 0th qubit\n",
    "qc.draw(output='mpl') "
   ]
  },
  {
   "cell_type": "markdown",
   "metadata": {},
   "source": [
    "### Z Gate"
   ]
  },
  {
   "cell_type": "code",
   "execution_count": null,
   "metadata": {},
   "outputs": [
    {
     "data": {
      "image/png": "[encoded data removed]",
      "text/plain": [
       "<Figure size 185.453x117.056 with 1 Axes>"
      ]
     },
     "execution_count": 4,
     "metadata": {},
     "output_type": "execute_result"
    }
   ],
   "source": [
    "qc = QuantumCircuit(1)\n",
    "qc.z(0)  # Add a Z gate to the 0th qubit\n",
    "qc.draw(output='mpl')"
   ]
  },
  {
   "cell_type": "markdown",
   "metadata": {},
   "source": [
    "### CNOT Gate "
   ]
  },
  {
   "cell_type": "markdown",
   "metadata": {},
   "source": [
    "Recall that a CNOT Gate is applied to two qubits, unlike the previous gates."
   ]
  },
  {
   "cell_type": "code",
   "execution_count": 13,
   "metadata": {},
   "outputs": [
    {
     "data": {
      "image/png": "[encoded data removed]",
      "text/plain": [
       "<Figure size 203.683x200.667 with 1 Axes>"
      ]
     },
     "execution_count": 13,
     "metadata": {},
     "output_type": "execute_result"
    }
   ],
   "source": [
    "# Create a quantum circuit with 2 qubits\n",
    "qc = QuantumCircuit(2)\n",
    "\n",
    "# Add a CNOT gate with the 0th qubit as the control qubit\n",
    "# and the 1st qubit as the target qubit\n",
    "qc.cx(0,1)  \n",
    "\n",
    "qc.draw(output='mpl')"
   ]
  },
  {
   "cell_type": "markdown",
   "metadata": {},
   "source": [
    "Next, we will move on to the role of operators in quantum computing. "
   ]
  },
  {
   "cell_type": "markdown",
   "metadata": {},
   "source": [
    "Operators are essential to measuring and analyzing quantum states. Operators are used to represent measurable properties, like Z, X, or Y. They provide information about the state of the qubits in different based. Pauli Operators are the most common operators used in Qiskit and are as followed:  \n",
    "\n",
    "- Z: Measures the computational basis (0 or 1) of a qubit.  \n",
    "\n",
    "- X: Measures the qubit in the X-basis(a uperposition basis). \n",
    "\n",
    "- Y: Measures the qibit in the Y-basis (phase-flipped superposition). \n",
    "\n"
   ]
  },
  {
   "cell_type": "markdown",
   "metadata": {},
   "source": [
    "We can take this up a notch by using different Qiskit classes to work with operators. One commonly used class is SparsePauliOp. This class allows for user to create more complex Pauli Operators, such as ZZ, XX, etc., which can be used to provide insight to the the joint quantum states of two qubits and the correlation of two qubits. "
   ]
  },
  {
   "cell_type": "markdown",
   "metadata": {},
   "source": [
    "Below is a run down on creating a two-qubit entangled Bell state and measuring it with  ZZ  and  XX  operator. We will go more into depth on what circuits such as these mean. For now, it is improtant to note that the SparsePauliOp is called to create observables on the two qubits created in this circuit. "
   ]
  },
  {
   "cell_type": "markdown",
   "metadata": {},
   "source": [
    "Use of Pauli Operators:"
   ]
  },
  {
   "cell_type": "code",
   "execution_count": 6,
   "metadata": {},
   "outputs": [],
   "source": [
    "from qiskit.quantum_info import Pauli\n",
    "\n",
    "# Define a quantum circuit\n",
    "qc = QuantumCircuit(1)\n",
    "qc.h(0)  # Apply Hadamard gate\n",
    "\n",
    "# Define an observable (e.g., Pauli-Z operator)\n",
    "observable = Pauli('Z')\n"
   ]
  },
  {
   "cell_type": "markdown",
   "metadata": {},
   "source": [
    "Use of Sparse Pauli Operators:"
   ]
  },
  {
   "cell_type": "code",
   "execution_count": null,
   "metadata": {},
   "outputs": [],
   "source": [
    "from qiskit.quantum_info import SparsePauliOp\n",
    "\n",
    "#Define a quantum circuit with 2 qubits\n",
    "qc = QuantumCircuit(2)\n",
    "qc.h(0) #Apply Hadamard gate - create superposition\n",
    "qc.cx(0, 1) #Apply CNot Gate - entangle qubits\n",
    "\n",
    "# Define ZZ and XX observables for measuring properties of the two qubits above.\n",
    "observables_labels = [\"ZZ\", \"XX\"]\n",
    "observables = [SparsePauliOp(label) for label in observables_labels]"
   ]
  },
  {
   "cell_type": "markdown",
   "metadata": {},
   "source": [
    "## Qiskit Primitives"
   ]
  },
  {
   "cell_type": "markdown",
   "metadata": {},
   "source": [
    "In Qiskit, estimation primitives are tools that used to compute quantum state  expectation values, probabilities, and other metrics of measurements. There are two types of primitives: estimator and sampler."
   ]
  },
  {
   "cell_type": "markdown",
   "metadata": {},
   "source": [
    "The Estimator Sampler is used to compute expected values of quantum observables for a quantum state or circuit."
   ]
  },
  {
   "cell_type": "code",
   "execution_count": 7,
   "metadata": {},
   "outputs": [],
   "source": [
    "\"\"\"Note: This is a walk through of the set up and will not run because we have not set up a backend to run this job. \"\"\"\n",
    "from qiskit import QuantumCircuit\n",
    "from qiskit.quantum_info import Pauli\n",
    "\n",
    "\"\"\"Import Estimator Library\"\"\"\n",
    "from qiskit.primitives import Estimator\n",
    "\n",
    "\"\"\" RECALL the example circuit from our example of Pauli Operators above.\n",
    "    Create Circuit Here. \"\"\"\n",
    "qc = QuantumCircuit(1)\n",
    "qc.h(0)  # Apply Hadamard gate\n",
    "\n",
    "\"\"\" Define Observables. \"\"\"\n",
    "observable = Pauli('Z')\n",
    "\n",
    "\"\"\" Create the estimator and calculate expectation value. We will cover how to define a backend\n",
    "    in the following section. For now we will set backend to some arbituary backend value. \"\"\" \n",
    "estimator = Estimator(backend = backend) \n",
    "#Obsevables are added to the estimator run parameters \n",
    "job = estimator.run(circuits=[qc], observables=[observable])\n",
    "result = job.result()\n",
    "\n",
    "\"\"\"Output expectation value\"\"\"\n",
    "print(f\"Expectation value: {result.values[0]}\")\n"
   ]
  },
  {
   "cell_type": "markdown",
   "metadata": {},
   "source": [
    "The Sampler Primitive is used to compute quasi probabilities of outcomes of a circuit."
   ]
  },
  {
   "cell_type": "code",
   "execution_count": 10,
   "metadata": {},
   "outputs": [
    {
     "ename": "TypeError",
     "evalue": "SamplerV2.__init__() got an unexpected keyword argument 'backend'",
     "output_type": "error",
     "traceback": [
      "\u001b[1;31m---------------------------------------------------------------------------\u001b[0m",
      "\u001b[1;31mTypeError\u001b[0m                                 Traceback (most recent call last)",
      "Cell \u001b[1;32mIn[10], line 13\u001b[0m\n\u001b[0;32m     10\u001b[0m qc\u001b[38;5;241m.\u001b[39mcx(\u001b[38;5;241m0\u001b[39m, \u001b[38;5;241m1\u001b[39m)  \u001b[38;5;66;03m# Entangle qubits\u001b[39;00m\n\u001b[0;32m     12\u001b[0m \u001b[38;5;124;03m\"\"\"Instantiate and Run Sampler Here\"\"\"\u001b[39;00m\n\u001b[1;32m---> 13\u001b[0m sampler \u001b[38;5;241m=\u001b[39m \u001b[43mSampler\u001b[49m\u001b[43m(\u001b[49m\u001b[43mbackend\u001b[49m\u001b[38;5;241;43m=\u001b[39;49m\u001b[43mbackend\u001b[49m\u001b[43m)\u001b[49m \n\u001b[0;32m     14\u001b[0m \u001b[38;5;66;03m#note that unlike the Estimator Primitive, you do not need observables for the \u001b[39;00m\n\u001b[0;32m     15\u001b[0m \u001b[38;5;66;03m# sampler run parameter \u001b[39;00m\n\u001b[0;32m     16\u001b[0m job \u001b[38;5;241m=\u001b[39m sampler\u001b[38;5;241m.\u001b[39mrun(circuits\u001b[38;5;241m=\u001b[39m[qc])\n",
      "\u001b[1;31mTypeError\u001b[0m: SamplerV2.__init__() got an unexpected keyword argument 'backend'"
     ]
    }
   ],
   "source": [
    "#Note: This is a walk through of the set up and will not run because we have not set up a backend to run this job\n",
    "\n",
    "\"\"\"\"Import Sampler Library\"\"\"\n",
    "from qiskit import QuantumCircuit\n",
    "from qiskit_ibm_runtime import SamplerV2 as Sampler\n",
    "\n",
    "\"\"\"Create Circuit Here\"\"\"\n",
    "qc = QuantumCircuit(2)\n",
    "qc.h(0)  # Create superposition\n",
    "qc.cx(0, 1)  # Entangle qubits\n",
    "\n",
    "\"\"\"Instantiate and Run Sampler Here\"\"\"\n",
    "sampler = Sampler(backend=backend) \n",
    "#note that unlike the Estimator Primitive, you do not need observables for the \n",
    "# sampler run parameter \n",
    "job = sampler.run(circuits=[qc])\n",
    "result = job.result()\n",
    "\n",
    "\"\"\"\"Extract Quasi-Probabilities For Qubit\"\"\"\n",
    "print(result.quasi_dists[0])"
   ]
  },
  {
   "cell_type": "markdown",
   "metadata": {},
   "source": [
    "## Transpilation"
   ]
  },
  {
   "cell_type": "code",
   "execution_count": 20,
   "metadata": {},
   "outputs": [],
   "source": [
    "from qiskit.transpiler.preset_passmanagers import generate_preset_pass_manager\n",
    "from qiskit_ibm_runtime.fake_provider import FakeAlmadenV2"
   ]
  },
  {
   "cell_type": "markdown",
   "metadata": {},
   "source": [
    "## Running Jobs"
   ]
  },
  {
   "cell_type": "markdown",
   "metadata": {},
   "source": [
    "The first step in running a quantum job is choosing where it will be executed, which is called a backend. A backend in Qiskit is either a simulator or a real quantum device. In this section, we will explore what both of these options look like.\n",
    "\n"
   ]
  },
  {
   "cell_type": "markdown",
   "metadata": {},
   "source": [
    "Choosing a Simulator"
   ]
  },
  {
   "cell_type": "markdown",
   "metadata": {},
   "source": [
    "Simulators emulate quantum computations on classical hardware. They are fast, noise-free (unless specified), and ideal for testing and debugging circuits. Qiskit has the following simulators:  \n",
    "- AerSimulator   \n",
    "- Aer Provider\n",
    "- QasamSimulator\n",
    "- Statevector Simulator\n",
    "- Unitary Simulator  \n",
    "- AerError\n",
    "\n",
    "These are local sumulators that run on your local machine and are provided by the qiskit-aer module.\n",
    "\n",
    "In addition, Qiskit has simulators that run in the cloud and that are provided by the qiskit-ibm-runtime module.  \n",
    "\n",
    "For now, we will focus on local sumulators, specifically on AerSumulator. AerSimulator provides versatile options for simulating quantum circults by emulating different types of simulations, which include QASM simulator, Statevector Simulation, and Unitary Simulator.  \n",
    "\n",
    "- QASM Simulator: Is useful to analyze probabilistic measurement because they mimic quantum measurements and provide a histogram of outcomes. \n",
    "- Statevector Simulator: Is useful to study the exact quantum state for debudding or theoretical analysis because it provides the exact quantum state of a circuit as an amplitude vector \n",
    "\n",
    "- Unitary Simulator: Is useful to understand the mathemtical transofrmation of a quantum circuit because it computes the unitary matrix representing the quanatum circuit. \n",
    "\n",
    "Below, we will be accesing AerSimulator's Unitary Simulator. "
   ]
  },
  {
   "cell_type": "code",
   "execution_count": null,
   "metadata": {},
   "outputs": [],
   "source": [
    "# To start, import the neccesary libraries, which are the following: \n",
    "from qiskit import Aer, execute, QuantumCircuit\n",
    "\n",
    "# We will create a CNOT gate like we did in the example above \n",
    "qc = QuantumCircuit(2)\n",
    "qc.h(0)\n",
    "qc.cx(0, 1)  \n",
    "\n",
    "# We wil call meausre_all to ensure that every qubit in the circuit \n",
    "# is measured. Without this, no classical results would be returned and \n",
    "# the quantum state would remain in superposition or entanglement. \n",
    "qc.measure_all() #add measurements\n",
    "\n",
    "#simulator backend\n",
    "simulator = Aer.get_backend('aer_simulator')\n",
    "\n",
    "\"\"\"Notice that within the execulte parameter we set shots to equal 1024. \n",
    "Shots referes to the number of times of quantum circuit is executed \n",
    "to gaher measurement outcomes. This is neccesary since quantum measurements\n",
    "are probabilistic so running multiple times allows us to estimate the \n",
    "probability distribution of the results. \"\"\"\n",
    "# Run the circuit\n",
    "job = execute(qc, simulator, shots=1024)\n",
    "result = job.result()"
   ]
  },
  {
   "cell_type": "markdown",
   "metadata": {},
   "source": [
    "Choosing a Real Device\n",
    "\n",
    "After setting up an account through IBM, you can set up a backend using QiskkitRuntimeService to get access to a real quantum computing device.  \n",
    "\n"
   ]
  },
  {
   "cell_type": "code",
   "execution_count": null,
   "metadata": {},
   "outputs": [],
   "source": [
    "\"\"\"\n",
    "RECALL the set up that occured above\n",
    "import qiskit\n",
    "from qiskit_ibm_runtime import QiskitRuntimeService\n",
    "\n",
    "# Setup the quantum channel\n",
    "service = QiskitRuntimeService(channel=\"ibm_quantum\",\n",
    "                              token = \"YOUR_TOKEN_HERE\")\n",
    "\"\"\""
   ]
  },
  {
   "cell_type": "markdown",
   "metadata": {},
   "source": [
    "If you do not want to select a specific device, you can run the following command to set your default device as the device that is currently facing the least traffic. The least_busy function's parameters allow us to specificy that the backend we are looking for does not include simulators (only realy devices) and are in operation. "
   ]
  },
  {
   "cell_type": "code",
   "execution_count": null,
   "metadata": {},
   "outputs": [],
   "source": [
    "backend = service.least_busy(simulator=False, operational=True)"
   ]
  },
  {
   "cell_type": "markdown",
   "metadata": {},
   "source": [
    "In order to view what devices are available to use on IBM's service, you can use the following command:"
   ]
  },
  {
   "cell_type": "code",
   "execution_count": null,
   "metadata": {},
   "outputs": [],
   "source": [
    "print(service.backends())"
   ]
  },
  {
   "cell_type": "markdown",
   "metadata": {},
   "source": [
    "Once we have chosen a device from this list, we can set it as our backend. (For this example, we will be selecting imbq quito.)"
   ]
  },
  {
   "cell_type": "code",
   "execution_count": null,
   "metadata": {},
   "outputs": [],
   "source": [
    "backend = service.backend(\"ibmq_quito\")"
   ]
  },
  {
   "cell_type": "markdown",
   "metadata": {},
   "source": [
    "We can now successfully create the circuit, choose a device, execute the circuite, and extract the measurements of the qubits. "
   ]
  },
  {
   "cell_type": "code",
   "execution_count": 17,
   "metadata": {},
   "outputs": [
    {
     "ename": "QiskitBackendNotFoundError",
     "evalue": "'No backend matches the criteria.'",
     "output_type": "error",
     "traceback": [
      "\u001b[1;31m---------------------------------------------------------------------------\u001b[0m",
      "\u001b[1;31mQiskitBackendNotFoundError\u001b[0m                Traceback (most recent call last)",
      "Cell \u001b[1;32mIn[17], line 13\u001b[0m\n\u001b[0;32m     11\u001b[0m \u001b[38;5;66;03m# Load IBM Quantum service and choose a real device\u001b[39;00m\n\u001b[0;32m     12\u001b[0m service \u001b[38;5;241m=\u001b[39m QiskitRuntimeService()\n\u001b[1;32m---> 13\u001b[0m backend \u001b[38;5;241m=\u001b[39m \u001b[43mservice\u001b[49m\u001b[38;5;241;43m.\u001b[39;49m\u001b[43mbackend\u001b[49m\u001b[43m(\u001b[49m\u001b[38;5;124;43m'\u001b[39;49m\u001b[38;5;124;43mibmq_quito\u001b[39;49m\u001b[38;5;124;43m'\u001b[39;49m\u001b[43m)\u001b[49m \n\u001b[0;32m     14\u001b[0m qc\u001b[38;5;241m.\u001b[39mmeasure_all()\n\u001b[0;32m     16\u001b[0m \u001b[38;5;66;03m# Transpile the circuit for the device\u001b[39;00m\n",
      "File \u001b[1;32mc:\\Users\\maddi\\miniconda3\\envs\\qenv\\Lib\\site-packages\\qiskit_ibm_runtime\\qiskit_runtime_service.py:746\u001b[0m, in \u001b[0;36mQiskitRuntimeService.backend\u001b[1;34m(self, name, instance, use_fractional_gates)\u001b[0m\n\u001b[0;32m    714\u001b[0m \u001b[38;5;28;01mdef\u001b[39;00m \u001b[38;5;21mbackend\u001b[39m(\n\u001b[0;32m    715\u001b[0m     \u001b[38;5;28mself\u001b[39m,\n\u001b[0;32m    716\u001b[0m     name: \u001b[38;5;28mstr\u001b[39m,\n\u001b[0;32m    717\u001b[0m     instance: Optional[\u001b[38;5;28mstr\u001b[39m] \u001b[38;5;241m=\u001b[39m \u001b[38;5;28;01mNone\u001b[39;00m,\n\u001b[0;32m    718\u001b[0m     use_fractional_gates: Optional[\u001b[38;5;28mbool\u001b[39m] \u001b[38;5;241m=\u001b[39m \u001b[38;5;28;01mFalse\u001b[39;00m,\n\u001b[0;32m    719\u001b[0m ) \u001b[38;5;241m-\u001b[39m\u001b[38;5;241m>\u001b[39m Backend:\n\u001b[0;32m    720\u001b[0m \u001b[38;5;250m    \u001b[39m\u001b[38;5;124;03m\"\"\"Return a single backend matching the specified filtering.\u001b[39;00m\n\u001b[0;32m    721\u001b[0m \n\u001b[0;32m    722\u001b[0m \u001b[38;5;124;03m    Args:\u001b[39;00m\n\u001b[1;32m   (...)\u001b[0m\n\u001b[0;32m    744\u001b[0m \u001b[38;5;124;03m        QiskitBackendNotFoundError: if no backend could be found.\u001b[39;00m\n\u001b[0;32m    745\u001b[0m \u001b[38;5;124;03m    \"\"\"\u001b[39;00m\n\u001b[1;32m--> 746\u001b[0m     backends \u001b[38;5;241m=\u001b[39m \u001b[38;5;28;43mself\u001b[39;49m\u001b[38;5;241;43m.\u001b[39;49m\u001b[43mbackends\u001b[49m\u001b[43m(\u001b[49m\u001b[43mname\u001b[49m\u001b[43m,\u001b[49m\u001b[43m \u001b[49m\u001b[43minstance\u001b[49m\u001b[38;5;241;43m=\u001b[39;49m\u001b[43minstance\u001b[49m\u001b[43m,\u001b[49m\u001b[43m \u001b[49m\u001b[43muse_fractional_gates\u001b[49m\u001b[38;5;241;43m=\u001b[39;49m\u001b[43muse_fractional_gates\u001b[49m\u001b[43m)\u001b[49m\n\u001b[0;32m    747\u001b[0m     \u001b[38;5;28;01mif\u001b[39;00m \u001b[38;5;129;01mnot\u001b[39;00m backends:\n\u001b[0;32m    748\u001b[0m         cloud_msg_url \u001b[38;5;241m=\u001b[39m \u001b[38;5;124m\"\u001b[39m\u001b[38;5;124m\"\u001b[39m\n",
      "File \u001b[1;32mc:\\Users\\maddi\\miniconda3\\envs\\qenv\\Lib\\site-packages\\qiskit_ibm_runtime\\qiskit_runtime_service.py:506\u001b[0m, in \u001b[0;36mQiskitRuntimeService.backends\u001b[1;34m(self, name, min_num_qubits, instance, dynamic_circuits, filters, use_fractional_gates, **kwargs)\u001b[0m\n\u001b[0;32m    504\u001b[0m \u001b[38;5;28;01mif\u001b[39;00m name:\n\u001b[0;32m    505\u001b[0m     \u001b[38;5;28;01mif\u001b[39;00m name \u001b[38;5;129;01mnot\u001b[39;00m \u001b[38;5;129;01min\u001b[39;00m \u001b[38;5;28mself\u001b[39m\u001b[38;5;241m.\u001b[39m_backend_allowed_list:\n\u001b[1;32m--> 506\u001b[0m         \u001b[38;5;28;01mraise\u001b[39;00m QiskitBackendNotFoundError(\u001b[38;5;124m\"\u001b[39m\u001b[38;5;124mNo backend matches the criteria.\u001b[39m\u001b[38;5;124m\"\u001b[39m)\n\u001b[0;32m    507\u001b[0m     backend_names \u001b[38;5;241m=\u001b[39m [name]\n\u001b[0;32m    508\u001b[0m     hgp \u001b[38;5;241m=\u001b[39m instance_filter\n",
      "\u001b[1;31mQiskitBackendNotFoundError\u001b[0m: 'No backend matches the criteria.'"
     ]
    }
   ],
   "source": [
    "from qiskit import QuantumCircuit, transpile\n",
    "from qiskit_ibm_runtime import QiskitRuntimeService \n",
    "#from qiskit_ibm_runtime import job_monitor\n",
    "\n",
    "# Define a quantum circuit\n",
    "qc = QuantumCircuit(2)\n",
    "qc.h(0)\n",
    "qc.cx(0, 1)\n",
    "\n",
    "\n",
    "# Load IBM Quantum service and choose a real device\n",
    "service = QiskitRuntimeService()\n",
    "backend = service.backend('ibmq_quito') \n",
    "qc.measure_all()\n",
    "\n",
    "# Transpile the circuit for the device\n",
    "qc = transpile(qc, backend)\n",
    "\n",
    "# Execute the circuit on the real devic and specific the number of shots\n",
    "job = backend.run(qc, shots=1024)   \n",
    "\n",
    "#monitor job status\n",
    "#job_monitor(job) \n",
    "\n",
    "#retrieve results \n",
    "result = job.result()\n",
    "counts = result.get_counts()\n",
    "print(counts)"
   ]
  },
  {
   "cell_type": "markdown",
   "metadata": {},
   "source": [
    "Pubs "
   ]
  },
  {
   "cell_type": "markdown",
   "metadata": {},
   "source": [
    "Another sphere of running jobs is the concept of PUBS. A PUB is essentially a tuple that carrie sthe circuit, parameters, and other input needed for quantum computations. The Estimator and Sampler privitives accept PUBS as inputs in their run() method , execute the workloads, and return results with structure.\n",
    "\n",
    " Our earlier example (from our Qiskit Primitives section) of running an circuit using the Estimator primitive was a basic example of calculating the expectation value of a single circuit with one observable. However, we can extend of the Estimator primitive to handle parameterized circuits and vectorized workloads. This allows us to calculate expectations for multiple observables and over multiple parameter values. Adding parameters is useful because it allows us to compute a large number of expectation values in a single job.  \n",
    "\n",
    " The same goes for the Sampler primitive. Our earlier example (from our Qiskit Primitives section) focused on demostrating the basic functinoality of the Sampler primitive, which is calculating quasi-probabilities. The functionality of the Sampler primitive can be extended to combine the circuit with a parameter sweep to compute results for multiple configurations in one job by enabling vectorized execution."
   ]
  },
  {
   "cell_type": "markdown",
   "metadata": {},
   "source": [
    "Estimator Pub"
   ]
  },
  {
   "cell_type": "code",
   "execution_count": null,
   "metadata": {},
   "outputs": [],
   "source": [
    "from qiskit.providers.aer import AerSimulator\n",
    "from qiskit.circuit import Parameter\n",
    "from qiskit import QuantumCircuit\n",
    "from qiskit.quantum_info import SparsePauliOp\n",
    "from qiskit_ibm_runtime import Estimator\n",
    "\n",
    "# Define a parameterized circuit (recall that the circuit below is a CNOT)\n",
    "qc = QuantumCircuit(2)\n",
    "qc.h(0)\n",
    "qc.cx(0, 1)\n",
    "#This line adds a parameterized rotation gate to qubit 0.\n",
    "#'a' is a symbolic variable that represents the rotation angle. It's value\n",
    "#will be specificied later. Note: Sampler PUB does not require this\n",
    "#specification in parameter because there are no observables to evaluate.\n",
    "qc.ry(Parameter('a'), 0)\n",
    "\n",
    "# Define an observable here\n",
    "# [0.5, 0.5] indicate that both observable terms are weighted equally.\n",
    "# This is needed in Pub because observables define the physical\n",
    "# quantities to measure so these numbers will be their respective coefficients.\n",
    "observable = SparsePauliOp(['XX', 'YY'], [0.5, 0.5])\n",
    "\n",
    "# Define parameter values\n",
    "# This is where the list of parameter configerations (a) is defined.\n",
    "# Each configuration representats a seperate execution of the circuit.\n",
    "parameter_values = [[0.1], [0.2]]\n",
    "\n",
    "# Use AerSimulator as backend. You can use a real device as a backend\n",
    "# but for this example we can use a simulator.\n",
    "simulator = AerSimulator()\n",
    "\n",
    "# Instantiate Estimator with backend\n",
    "estimator = Estimator(backend=simulator)\n",
    "\n",
    "# Define PUB for Estimator\n",
    "# This is where the circuit, observable, and parameter values are combined\n",
    "# into a Primitive Unified Block (PUB)\n",
    "estimator_pub = (qc, [observable], parameter_values)\n",
    "\n",
    "# Use Estimator to compute expectation values\n",
    "estimator = Estimator()\n",
    "result = estimator.run([estimator_pub]).result()\n",
    "print(\"Expectation Values:\", result.values)"
   ]
  },
  {
   "cell_type": "markdown",
   "metadata": {},
   "source": [
    "As you can see above, the Estimator with PUBS computes a matrix of expectation values, convering all the combination of parameter values and observables in the PUB."
   ]
  },
  {
   "cell_type": "markdown",
   "metadata": {},
   "source": [
    "Sampler Pub"
   ]
  },
  {
   "cell_type": "code",
   "execution_count": null,
   "metadata": {},
   "outputs": [],
   "source": [
    "from qiskit import QuantumCircuit\n",
    "from qiskit_ibm_runtime import Sampler\n",
    "from qiskit.circuit import Parameter\n",
    "from qiskit.providers.aer import AerSimulator\n",
    "\n",
    "# Define a parameterized circuit; recall that the circuit below is a CNOT gate\n",
    "qc = QuantumCircuit(2)\n",
    "qc.h(0)\n",
    "qc.cx(0, 1)\n",
    "\n",
    "#note: in other sampler measure_all was implicit/omiited for simplicity\n",
    "# but for Sampler PUB you should explicitly add measure_all() to the circuit\n",
    "qc.measure_all()\n",
    "\n",
    "# Define parameter values;\n",
    "parameter_values = [[0.1], [0.2]]\n",
    "\n",
    "# Use a Simulator backend\n",
    "backend = AerSimulator()  # Local simulator backend\n",
    "sampler = Sampler(backend=backend)\n",
    "\n",
    "# Define PUB for Sampler\n",
    "sampler_pub = (qc, parameter_values)\n",
    "\n",
    "# Use Sampler to compute quasi-probabilities\n",
    "sampler = Sampler()\n",
    "result = sampler.run([sampler_pub]).result()\n",
    "print(\"Quasi-Probabilities:\", result.quasi_dists[0])"
   ]
  },
  {
   "cell_type": "markdown",
   "metadata": {},
   "source": [
    "As you can see from above, the Sampler with PUBS is different from our basic example because it computes a matrix of quasi-probabilities corresponding to all parameter combinations definined in the PUB (specifically from the parameter_values)."
   ]
  },
  {
   "cell_type": "markdown",
   "metadata": {},
   "source": [
    "## Post-processing and Plotting"
   ]
  },
  {
   "cell_type": "markdown",
   "metadata": {},
   "source": [
    "For plotting and post-processing the data after running the quantum program, we will use matplotlib and qiskit.visualization for visualizing the results.\n",
    "\n",
    "We will also handle the following: \n",
    "- data analysis \n",
    "- normalization\n",
    "- error analysis \n",
    "- more visialization enhancements"
   ]
  },
  {
   "cell_type": "markdown",
   "metadata": {},
   "source": [
    "Import Libraries"
   ]
  },
  {
   "cell_type": "code",
   "execution_count": 18,
   "metadata": {},
   "outputs": [
    {
     "ename": "ModuleNotFoundError",
     "evalue": "No module named 'matplotlib'",
     "output_type": "error",
     "traceback": [
      "\u001b[1;31m---------------------------------------------------------------------------\u001b[0m",
      "\u001b[1;31mModuleNotFoundError\u001b[0m                       Traceback (most recent call last)",
      "Cell \u001b[1;32mIn[18], line 1\u001b[0m\n\u001b[1;32m----> 1\u001b[0m \u001b[38;5;28;01mimport\u001b[39;00m \u001b[38;5;21;01mmatplotlib\u001b[39;00m\u001b[38;5;21;01m.\u001b[39;00m\u001b[38;5;21;01mpyplot\u001b[39;00m \u001b[38;5;28;01mas\u001b[39;00m \u001b[38;5;21;01mplt\u001b[39;00m\n\u001b[0;32m      2\u001b[0m \u001b[38;5;28;01mimport\u001b[39;00m \u001b[38;5;21;01mnumpy\u001b[39;00m \u001b[38;5;28;01mas\u001b[39;00m \u001b[38;5;21;01mnp\u001b[39;00m\n\u001b[0;32m      3\u001b[0m \u001b[38;5;28;01mfrom\u001b[39;00m \u001b[38;5;21;01mqiskit\u001b[39;00m\u001b[38;5;21;01m.\u001b[39;00m\u001b[38;5;21;01mvisualization\u001b[39;00m \u001b[38;5;28;01mimport\u001b[39;00m plot_histogram\n",
      "\u001b[1;31mModuleNotFoundError\u001b[0m: No module named 'matplotlib'"
     ]
    }
   ],
   "source": [
    "import matplotlib.pyplot as plt\n",
    "import numpy as np\n",
    "from qiskit.visualization import plot_histogram\n",
    "from qiskit.quantum_info import SparsePauliOp\n",
    "from qiskit_ibm_runtime import QiskitRuntimeService, SamplerV2 as Sampler, EstimatorV2 as Estimator\n",
    "from scipy.stats import norm\n",
    "import seaborn as sns"
   ]
  },
  {
   "cell_type": "markdown",
   "metadata": {},
   "source": [
    "Initialize Quiskit service and Select Backend"
   ]
  },
  {
   "cell_type": "code",
   "execution_count": 5,
   "metadata": {},
   "outputs": [
    {
     "ename": "NameError",
     "evalue": "name 'Sampler' is not defined",
     "output_type": "error",
     "traceback": [
      "\u001b[1;31m---------------------------------------------------------------------------\u001b[0m",
      "\u001b[1;31mNameError\u001b[0m                                 Traceback (most recent call last)",
      "Cell \u001b[1;32mIn[5], line 6\u001b[0m\n\u001b[0;32m      3\u001b[0m backend \u001b[38;5;241m=\u001b[39m service\u001b[38;5;241m.\u001b[39mleast_busy(simulator\u001b[38;5;241m=\u001b[39m\u001b[38;5;28;01mFalse\u001b[39;00m, operational\u001b[38;5;241m=\u001b[39m\u001b[38;5;28;01mTrue\u001b[39;00m)\n\u001b[0;32m      5\u001b[0m \u001b[38;5;66;03m# Create Sampler object to run the job\u001b[39;00m\n\u001b[1;32m----> 6\u001b[0m sampler \u001b[38;5;241m=\u001b[39m \u001b[43mSampler\u001b[49m(backend\u001b[38;5;241m=\u001b[39mbackend)\n",
      "\u001b[1;31mNameError\u001b[0m: name 'Sampler' is not defined"
     ]
    }
   ],
   "source": [
    "# Initialize Qiskit service and select backend\n",
    "service = QiskitRuntimeService()\n",
    "backend = service.least_busy(simulator=False, operational=True)\n",
    "\n",
    "# Create Sampler object to run the job\n",
    "sampler = Sampler(backend=backend)"
   ]
  },
  {
   "cell_type": "markdown",
   "metadata": {},
   "source": [
    "Define Quantum Circuit"
   ]
  },
  {
   "cell_type": "code",
   "execution_count": null,
   "metadata": {},
   "outputs": [],
   "source": [
    "# Define a quantum circuit (replace this with your actual quantum circuit)\n",
    "from qiskit import QuantumCircuit\n",
    "qc = QuantumCircuit(2)\n",
    "qc.h(0)\n",
    "qc.cx(0, 1)\n",
    "qc.measure_all()"
   ]
  },
  {
   "cell_type": "markdown",
   "metadata": {},
   "source": [
    "Run the Sampler Job and Retrieve Results "
   ]
  },
  {
   "cell_type": "code",
   "execution_count": null,
   "metadata": {},
   "outputs": [],
   "source": [
    "# Run the job using Sampler\n",
    "job = sampler.run([qc])\n",
    "result = job.result()\n",
    "\n",
    "# 1. Handle and Normalize Quasi-Distribution Results\n",
    "counts = result.quasi_dists[0]\n",
    "print(\"Quasi-Distribution Results:\", counts)\n",
    "\n",
    "# Normalize the quasi-distribution (if necessary)\n",
    "total_count = sum(counts.values())\n",
    "normalized_counts = {key: val / total_count for key, val in counts.items()}\n",
    "\n",
    "# Statistical analysis of the quasi-distribution\n",
    "avg = np.mean(list(normalized_counts.values()))\n",
    "std_dev = np.std(list(normalized_counts.values()))\n",
    "print(f\"Average Quasi-Distribution Value: {avg}, Standard Deviation: {std_dev}\")"
   ]
  },
  {
   "cell_type": "markdown",
   "metadata": {},
   "source": [
    "Plot Quasi-Distribution"
   ]
  },
  {
   "cell_type": "code",
   "execution_count": null,
   "metadata": {},
   "outputs": [],
   "source": [
    "# Plot the Quasi-Distribution\n",
    "plt.figure(figsize=(10, 5))\n",
    "plt.subplot(1, 2, 1)\n",
    "plot_histogram(normalized_counts, color='blue')\n",
    "plt.title(\"Normalized Quasi-Distribution\")"
   ]
  },
  {
   "cell_type": "markdown",
   "metadata": {},
   "source": [
    "Handle Expectation values with error analysis "
   ]
  },
  {
   "cell_type": "code",
   "execution_count": null,
   "metadata": {},
   "outputs": [],
   "source": [
    "# 2. Handle Expectation Values with Error Analysis\n",
    "# Define observables (ZZ and XX)\n",
    "observables = [SparsePauliOp(\"ZZ\"), SparsePauliOp(\"XX\")]\n",
    "estimator = Estimator(backend=backend)\n",
    "\n",
    "# Run the Estimator job\n",
    "job = estimator.run([(qc, observables)])\n",
    "result = job.result()\n",
    "\n",
    "# Get the expectation values\n",
    "expectation_values = result[0]\n",
    "print(\"Expectation Values:\", expectation_values)\n",
    "\n",
    "# Assuming the results are in the form of a dictionary, extract them\n",
    "observables = list(expectation_values.keys())\n",
    "values = list(expectation_values.values())\n",
    "\n",
    "# Error values (example, replace with actual errors if available)\n",
    "errors = [0.1, 0.05]  # Example for error values for each observable, we can play around with the numbers\n",
    "\n",
    "# Plot Expectation Values with error bars\n",
    "plt.subplot(1, 2, 2)\n",
    "plt.bar(observables, values, yerr=errors, capsize=5, color='green')\n",
    "plt.xlabel(\"Observables\")\n",
    "plt.ylabel(\"Expectation Value\")\n",
    "plt.title(\"Expectation Values with Error Bars\")"
   ]
  },
  {
   "cell_type": "markdown",
   "metadata": {},
   "source": [
    "Combine and Show Plots"
   ]
  },
  {
   "cell_type": "code",
   "execution_count": null,
   "metadata": {},
   "outputs": [],
   "source": [
    "# 3. Combine the Plots into a Single Figure\n",
    "plt.tight_layout()\n",
    "plt.show()"
   ]
  },
  {
   "cell_type": "markdown",
   "metadata": {},
   "source": [
    "Advanced analysis - Fitting a Normal distribution "
   ]
  },
  {
   "cell_type": "code",
   "execution_count": null,
   "metadata": {},
   "outputs": [],
   "source": [
    "# 4. Advanced Data Analysis (Optional):\n",
    "# Fit the normalized quasi-distribution to a normal distribution and plot\n",
    "sns.histplot(list(normalized_counts.values()), kde=True, stat=\"density\", bins=30, color='purple')\n",
    "\n",
    "# Fit a normal distribution to the data\n",
    "mu, std = norm.fit(list(normalized_counts.values()))\n",
    "print(f\"Fitted Normal Distribution Parameters: Mean = {mu}, Std = {std}\")\n",
    "\n",
    "# Plot the fitted Gaussian distribution\n",
    "xmin, xmax = plt.xlim()\n",
    "x = np.linspace(xmin, xmax, 100)\n",
    "p = norm.pdf(x, mu, std)\n",
    "plt.plot(x, p, 'k', linewidth=2)\n",
    "plt.title(\"Fitted Normal Distribution to Quasi-Distribution\")\n",
    "plt.show()"
   ]
  },
  {
   "cell_type": "markdown",
   "metadata": {},
   "source": [
    "# Part III. The Qiskit Workflow\n",
    "\n",
    "In this section, we will be exploring the typical workflow when programming with Qiskit. In general, we follow the following steps:\n",
    "\n",
    "1. Map the Problem to Circuits and Operators\n",
    "2. Optimize for Quantum Hardware\n",
    "3. Execute on the Backend\n",
    "4. Post-process and Plot\n",
    "\n",
    "To illustrate these steps, we will investigate two problems regarding the 4-qubit GHZ state, one which uses a Sampler and one that uses an Estimator. In general, the GHZ state is a maximally entangled quantum state that involves $n$ qubits. For this example, we will be using for qubits. In Dirac Notation, this four-qubit state is written as:\n",
    "\n",
    "$$\n",
    "\\ket{GHZ} = \\dfrac{1}{\\sqrt{2}}(\\ket{0000} + \\ket{1111})\n",
    "$$\n",
    "\n",
    "Note that this is very similar to the Bell State, and that the Bell State is like a 2-qubit GHZ state."
   ]
  },
  {
   "cell_type": "markdown",
   "metadata": {},
   "source": [
    "## Finding Entanglement\n",
    "\n",
    "The first problem we'd like to investigate is the entanglement found between the qubits in the GHZ state. To do so, we will need to find the expectation values of $ZZ$ gates. These operators measure the correlation between qubits, which is dependent on quantum entanglement. Due to quantum mechanics, this measurement isn't always the same. So, the expectation value of the $ZZ$ gates give us the expected correlation between two qubits."
   ]
  },
  {
   "cell_type": "markdown",
   "metadata": {},
   "source": [
    "### Step 1: Map the Problem to Circuits and Operators"
   ]
  },
  {
   "cell_type": "code",
   "execution_count": null,
   "metadata": {},
   "outputs": [
    {
     "data": {
      "image/png": "[encoded data removed]",
      "text/plain": [
       "<Figure size 454.719x367.889 with 1 Axes>"
      ]
     },
     "metadata": {},
     "output_type": "display_data"
    }
   ],
   "source": [
    "# Circuit with 4 qubits\n",
    "ghz_e = QuantumCircuit(4)\n",
    "\n",
    "# Add the gates for the GHZ state\n",
    "ghz_e.h(0)\n",
    "for i in range(3):\n",
    "    ghz_e.cx(i, i+1)\n",
    "\n",
    "ghz_e.draw(output=\"mpl\")"
   ]
  },
  {
   "cell_type": "code",
   "execution_count": null,
   "metadata": {},
   "outputs": [],
   "source": [
    "# Set up the observables\n",
    "\n",
    "# NOTE: NEED EXPLANATION FOR WHY THESE ARE THE OBSERVABLES\n",
    "observables_labels = [\"ZZII\", \"ZIZI\", \"ZIIZ\"]\n",
    "observables = [SparsePauliOp(label) for label in observables_labels]"
   ]
  },
  {
   "cell_type": "markdown",
   "metadata": {},
   "source": [
    "### Step 2: Optimize for Quantum Hardware"
   ]
  },
  {
   "cell_type": "code",
   "execution_count": null,
   "metadata": {},
   "outputs": [],
   "source": [
    "service = QiskitRuntimeService() # delete later\n"
   ]
  },
  {
   "cell_type": "code",
   "execution_count": null,
   "metadata": {},
   "outputs": [
    {
     "data": {
      "image/png": "[encoded data removed]",
      "text/plain": [
       "<Figure size 1259.9x367.889 with 1 Axes>"
      ]
     },
     "metadata": {},
     "output_type": "display_data"
    }
   ],
   "source": [
    "backend = service.least_busy(simulator=False, operational=True)\n",
    " \n",
    "# Transpile the quantum circuit\n",
    "pass_manager = generate_preset_pass_manager(backend=backend, optimization_level=1)\n",
    "ghz_e_transpiled = pass_manager.run(ghz_e)\n",
    "\n",
    "ghz_e_transpiled.draw('mpl', idle_wires=False)"
   ]
  },
  {
   "cell_type": "markdown",
   "metadata": {},
   "source": [
    "### Step 3: Execute on the Backend"
   ]
  },
  {
   "cell_type": "code",
   "execution_count": null,
   "metadata": {},
   "outputs": [
    {
     "name": "stdout",
     "output_type": "stream",
     "text": [
      "Job ID: cwvet2g60bqg008pmpn0\n"
     ]
    }
   ],
   "source": [
    "# Construct the Estimator instance\n",
    "estimator = Estimator(mode=backend)\n",
    "estimator.options.resilience_level = 1\n",
    "estimator.options.default_shots = 5000\n",
    " \n",
    "mapped_observables = [\n",
    "    observable.apply_layout(ghz_e_transpiled.layout) for observable in observables\n",
    "]\n",
    " \n",
    "# One pub, with one circuit to run against five different observables.\n",
    "job = estimator.run([(ghz_e_transpiled, mapped_observables)])\n",
    " \n",
    "# Use the job ID to retrieve your job data later\n",
    "print(f\"Job ID: {job.job_id()}\")"
   ]
  },
  {
   "cell_type": "code",
   "execution_count": null,
   "metadata": {},
   "outputs": [
    {
     "data": {
      "text/plain": [
       "PubResult(data=DataBin(evs=np.ndarray(<shape=(3,), dtype=float64>), stds=np.ndarray(<shape=(3,), dtype=float64>), ensemble_standard_error=np.ndarray(<shape=(3,), dtype=float64>), shape=(3,)), metadata={'shots': 5024, 'target_precision': 0.01414213562373095, 'circuit_metadata': {}, 'resilience': {}, 'num_randomizations': 32})"
      ]
     },
     "metadata": {},
     "output_type": "display_data"
    }
   ],
   "source": [
    "# TODO: this is from ibm, add explanation and maybe edit\n",
    "\n",
    "# This is the result of the entire submission.  You submitted one Pub,\n",
    "# so this contains one inner result (and some metadata of its own).\n",
    "job_result = job.result()\n",
    " \n",
    "# This is the result from our single pub, which had six observables,\n",
    "# so contains information on all six.\n",
    "pub_result = job.result()[0]"
   ]
  },
  {
   "cell_type": "markdown",
   "metadata": {},
   "source": [
    "### Step 4: Post-Process and Plot"
   ]
  },
  {
   "cell_type": "code",
   "execution_count": null,
   "metadata": {},
   "outputs": [
    {
     "data": {
      "image/png": "[encoded data removed]",
      "text/plain": [
       "<Figure size 640x480 with 1 Axes>"
      ]
     },
     "metadata": {},
     "output_type": "display_data"
    }
   ],
   "source": [
    "# Plot the result\n",
    "# TODO: add explanation and figure out this code\n",
    " \n",
    "values = pub_result.data.evs\n",
    "errors = pub_result.data.stds\n",
    " \n",
    "# plotting graph\n",
    "plt.plot(observables_labels, values, \"-o\")\n",
    "plt.xlabel(\"Observables\")\n",
    "plt.ylabel(\"Values\")\n",
    "plt.show()"
   ]
  },
  {
   "cell_type": "markdown",
   "metadata": {},
   "source": [
    "*TODO: Include an explanation why this is the graph we expect*"
   ]
  },
  {
   "cell_type": "markdown",
   "metadata": {},
   "source": [
    "## Getting Measurements\n",
    "\n",
    "The second problem we'd like to investigate is what values do we get when we measure the GHZ state. Since the GHZ state is maximally entangled, we expect to see a range of different values upon measurement. We can visualize this range by creating a probability distribution of the resulting values after measurement. To do so, we would need to use a Sampler."
   ]
  },
  {
   "cell_type": "markdown",
   "metadata": {},
   "source": [
    "### Step 1: Map the Problem to a Circuit"
   ]
  },
  {
   "cell_type": "code",
   "execution_count": null,
   "metadata": {},
   "outputs": [
    {
     "data": {
      "image/png": "[encoded data removed]",
      "text/plain": [
       "<Figure size 914.831x451.5 with 1 Axes>"
      ]
     },
     "metadata": {},
     "output_type": "display_data"
    }
   ],
   "source": [
    "# Quantum circuit with 4 quantum channels (classical channels to be added later)\n",
    "ghz_s = QuantumCircuit(4)\n",
    "\n",
    "# Create the circuit for a 4-qubit GHZ state\n",
    "ghz_s.h(0)\n",
    "for i in range(3):\n",
    "    ghz_s.cx(i, i+1)\n",
    "\n",
    "\n",
    "# We need to measure the state and store it \n",
    "ghz_s.measure_all() # measure_all adds the classical channels by default\n",
    "\n",
    "ghz_s.draw('mpl')"
   ]
  },
  {
   "cell_type": "code",
   "execution_count": null,
   "metadata": {},
   "outputs": [],
   "source": [
    "# We do not need any observables since we are sampling measurements taken from the circuit"
   ]
  },
  {
   "cell_type": "markdown",
   "metadata": {},
   "source": [
    "### Step 2: Optimize for Quantum Hardware"
   ]
  },
  {
   "cell_type": "code",
   "execution_count": 14,
   "metadata": {},
   "outputs": [
    {
     "ename": "NameError",
     "evalue": "name 'generate_preset_pass_manager' is not defined",
     "output_type": "error",
     "traceback": [
      "\u001b[1;31m---------------------------------------------------------------------------\u001b[0m",
      "\u001b[1;31mNameError\u001b[0m                                 Traceback (most recent call last)",
      "Cell \u001b[1;32mIn[14], line 6\u001b[0m\n\u001b[0;32m      1\u001b[0m backend \u001b[38;5;241m=\u001b[39m service\u001b[38;5;241m.\u001b[39mleast_busy(simulator\u001b[38;5;241m=\u001b[39m\u001b[38;5;28;01mFalse\u001b[39;00m, operational\u001b[38;5;241m=\u001b[39m\u001b[38;5;28;01mTrue\u001b[39;00m)\n\u001b[0;32m      2\u001b[0m \u001b[38;5;66;03m# backend = service.backend(\"ibm_brisbane\")\u001b[39;00m\n\u001b[0;32m      3\u001b[0m \u001b[38;5;66;03m# backend = FakeAlmadenV2()\u001b[39;00m\n\u001b[0;32m      4\u001b[0m \n\u001b[0;32m      5\u001b[0m \u001b[38;5;66;03m# Transpile the quantum circuit\u001b[39;00m\n\u001b[1;32m----> 6\u001b[0m pass_manager \u001b[38;5;241m=\u001b[39m \u001b[43mgenerate_preset_pass_manager\u001b[49m(backend\u001b[38;5;241m=\u001b[39mbackend, optimization_level\u001b[38;5;241m=\u001b[39m\u001b[38;5;241m1\u001b[39m)\n\u001b[0;32m      7\u001b[0m ghz_s_transpiled \u001b[38;5;241m=\u001b[39m pass_manager\u001b[38;5;241m.\u001b[39mrun(ghz_s)\n\u001b[0;32m      9\u001b[0m ghz_s_transpiled\u001b[38;5;241m.\u001b[39mdraw(\u001b[38;5;124m'\u001b[39m\u001b[38;5;124mmpl\u001b[39m\u001b[38;5;124m'\u001b[39m, idle_wires\u001b[38;5;241m=\u001b[39m\u001b[38;5;28;01mFalse\u001b[39;00m)\n",
      "\u001b[1;31mNameError\u001b[0m: name 'generate_preset_pass_manager' is not defined"
     ]
    }
   ],
   "source": [
    "backend = service.least_busy(simulator=False, operational=True)\n",
    "# backend = service.backend(\"ibm_brisbane\")\n",
    "# backend = FakeAlmadenV2()\n",
    "\n",
    "# Transpile the quantum circuit\n",
    "pass_manager = generate_preset_pass_manager(backend=backend, optimization_level=1)\n",
    "ghz_s_transpiled = pass_manager.run(ghz_s)\n",
    "\n",
    "ghz_s_transpiled.draw('mpl', idle_wires=False)"
   ]
  },
  {
   "cell_type": "markdown",
   "metadata": {},
   "source": [
    "### Step 3: Execute on the Backend"
   ]
  },
  {
   "cell_type": "code",
   "execution_count": 13,
   "metadata": {},
   "outputs": [
    {
     "ename": "NameError",
     "evalue": "name 'ghz_s_transpiled' is not defined",
     "output_type": "error",
     "traceback": [
      "\u001b[1;31m---------------------------------------------------------------------------\u001b[0m",
      "\u001b[1;31mNameError\u001b[0m                                 Traceback (most recent call last)",
      "Cell \u001b[1;32mIn[13], line 7\u001b[0m\n\u001b[0;32m      3\u001b[0m sampler\u001b[38;5;241m.\u001b[39moptions\u001b[38;5;241m.\u001b[39mdefault_shots \u001b[38;5;241m=\u001b[39m \u001b[38;5;241m5000\u001b[39m \u001b[38;5;66;03m# TODO: learn what this stuff does\u001b[39;00m\n\u001b[0;32m      6\u001b[0m \u001b[38;5;66;03m# One pub, with one circuit to run against no parameters\u001b[39;00m\n\u001b[1;32m----> 7\u001b[0m job \u001b[38;5;241m=\u001b[39m sampler\u001b[38;5;241m.\u001b[39mrun([(\u001b[43mghz_s_transpiled\u001b[49m)])\n\u001b[0;32m      9\u001b[0m \u001b[38;5;66;03m# Use the job ID to retrieve your job data later\u001b[39;00m\n\u001b[0;32m     10\u001b[0m \u001b[38;5;28mprint\u001b[39m(\u001b[38;5;124mf\u001b[39m\u001b[38;5;124m\"\u001b[39m\u001b[38;5;124mJob ID: \u001b[39m\u001b[38;5;132;01m{\u001b[39;00mjob\u001b[38;5;241m.\u001b[39mjob_id()\u001b[38;5;132;01m}\u001b[39;00m\u001b[38;5;124m\"\u001b[39m)\n",
      "\u001b[1;31mNameError\u001b[0m: name 'ghz_s_transpiled' is not defined"
     ]
    }
   ],
   "source": [
    "# Construct the Estimator instance\n",
    "sampler = Sampler(mode=backend)\n",
    "sampler.options.default_shots = 5000 # TODO: learn what this stuff does\n",
    " \n",
    "\n",
    "# One pub, with one circuit to run against no parameters\n",
    "job = sampler.run([(ghz_s_transpiled)])\n",
    " \n",
    "# Use the job ID to retrieve your job data later\n",
    "print(f\"Job ID: {job.job_id()}\")"
   ]
  },
  {
   "cell_type": "code",
   "execution_count": null,
   "metadata": {},
   "outputs": [],
   "source": [
    "# TODO: get job results once its done running from ibm\n",
    "\n",
    "# Get results\n",
    "\n",
    "# job = service.job(\"cwvfpwvtdtng00879rrg\")\n",
    "job_result = job.result()\n",
    " \n",
    "# This is the result from our single pub, which had no parameters\n",
    "pub_result = job.result()[0]"
   ]
  },
  {
   "cell_type": "markdown",
   "metadata": {},
   "source": [
    "### Step 4: Post-Process and Plot"
   ]
  },
  {
   "cell_type": "code",
   "execution_count": null,
   "metadata": {},
   "outputs": [],
   "source": [
    "quasi_dists = job_result.quasi_dists[0]\n",
    " \n",
    "# plotting graph\n",
    "plot_histogram(quasi_dists)"
   ]
  },
  {
   "cell_type": "markdown",
   "metadata": {},
   "source": [
    "*TODO: do some analysis/interpretation of the graph*"
   ]
  },
  {
   "cell_type": "markdown",
   "metadata": {},
   "source": [
    "# Part IV: Combining Classical and Quantum Computing\n",
    "\n",
    "Building upon the Qiskit workflow, we will create a truly random password generator that makes use of both quantum and classical computation."
   ]
  },
  {
   "cell_type": "markdown",
   "metadata": {},
   "source": [
    "First, let's generate some random numbers with our newly gained quantum computing skills. We create a quantum circuit with 8 qubits, put them in superposition, and then measure them. We then convert the results of our job into an integer.\n",
    "\n",
    "NOTE: Instead of running this on IBM's server, we will use the AerSimulator instead for efficiency purposes. For an extra challenge, you can apply what you learned in the last section to change the code to run the job on IBM's service."
   ]
  },
  {
   "cell_type": "code",
   "execution_count": null,
   "metadata": {},
   "outputs": [
    {
     "name": "stderr",
     "output_type": "stream",
     "text": [
      "C:\\Users\\maddi\\AppData\\Local\\Temp\\ipykernel_5304\\3084596302.py:20: DeprecationWarning: backend.run() and related sessions methods are deprecated  as of qiskit-ibm-runtime 0.23 and will be removed no sooner than 6 months after the release date. More details can be found in the primitives migration guide https://docs.quantum.ibm.com/migration-guides/qiskit-runtime.\n",
      "  qc_transpiled = backend.run(qc)\n"
     ]
    },
    {
     "ename": "KeyboardInterrupt",
     "evalue": "",
     "output_type": "error",
     "traceback": [
      "\u001b[1;31m---------------------------------------------------------------------------\u001b[0m",
      "\u001b[1;31mKeyboardInterrupt\u001b[0m                         Traceback (most recent call last)",
      "Cell \u001b[1;32mIn[24], line 39\u001b[0m\n\u001b[0;32m     36\u001b[0m \u001b[38;5;66;03m#10 random numbers generated (feel free to edit)\u001b[39;00m\n\u001b[0;32m     37\u001b[0m n \u001b[38;5;241m=\u001b[39m \u001b[38;5;241m1\u001b[39m\n\u001b[1;32m---> 39\u001b[0m random_numbers \u001b[38;5;241m=\u001b[39m \u001b[43mgenerate_random_numbers\u001b[49m\u001b[43m(\u001b[49m\u001b[43mn\u001b[49m\u001b[43m)\u001b[49m\n\u001b[0;32m     40\u001b[0m \u001b[38;5;28mprint\u001b[39m(random_numbers)\n",
      "Cell \u001b[1;32mIn[24], line 33\u001b[0m, in \u001b[0;36mgenerate_random_numbers\u001b[1;34m(n)\u001b[0m\n\u001b[0;32m     32\u001b[0m \u001b[38;5;28;01mdef\u001b[39;00m \u001b[38;5;21mgenerate_random_numbers\u001b[39m(n):\n\u001b[1;32m---> 33\u001b[0m     random_numbers \u001b[38;5;241m=\u001b[39m [\u001b[43mgenerate_random_number\u001b[49m\u001b[43m(\u001b[49m\u001b[43m)\u001b[49m \u001b[38;5;28;01mfor\u001b[39;00m _ \u001b[38;5;129;01min\u001b[39;00m \u001b[38;5;28mrange\u001b[39m(n)]\n\u001b[0;32m     34\u001b[0m     \u001b[38;5;28;01mreturn\u001b[39;00m random_numbers\n",
      "Cell \u001b[1;32mIn[24], line 21\u001b[0m, in \u001b[0;36mgenerate_random_number\u001b[1;34m()\u001b[0m\n\u001b[0;32m     19\u001b[0m pass_manager \u001b[38;5;241m=\u001b[39m generate_preset_pass_manager(backend\u001b[38;5;241m=\u001b[39mbackend, optimization_level\u001b[38;5;241m=\u001b[39m\u001b[38;5;241m1\u001b[39m)\n\u001b[0;32m     20\u001b[0m qc_transpiled \u001b[38;5;241m=\u001b[39m backend\u001b[38;5;241m.\u001b[39mrun(qc)\n\u001b[1;32m---> 21\u001b[0m result \u001b[38;5;241m=\u001b[39m \u001b[43mqc_transpiled\u001b[49m\u001b[38;5;241;43m.\u001b[39;49m\u001b[43mresult\u001b[49m\u001b[43m(\u001b[49m\u001b[43m)\u001b[49m\n\u001b[0;32m     22\u001b[0m counts \u001b[38;5;241m=\u001b[39m result\u001b[38;5;241m.\u001b[39mget_counts()\n\u001b[0;32m     24\u001b[0m \u001b[38;5;66;03m# binary result converted it to an integer\u001b[39;00m\n",
      "File \u001b[1;32mc:\\Users\\maddi\\miniconda3\\envs\\qenv\\Lib\\site-packages\\qiskit_ibm_runtime\\runtime_job.py:157\u001b[0m, in \u001b[0;36mRuntimeJob.result\u001b[1;34m(self, timeout, decoder)\u001b[0m\n\u001b[0;32m    142\u001b[0m \u001b[38;5;250m\u001b[39m\u001b[38;5;124;03m\"\"\"Return the results of the job.\u001b[39;00m\n\u001b[0;32m    143\u001b[0m \n\u001b[0;32m    144\u001b[0m \u001b[38;5;124;03mArgs:\u001b[39;00m\n\u001b[1;32m   (...)\u001b[0m\n\u001b[0;32m    154\u001b[0m \u001b[38;5;124;03m    RuntimeInvalidStateError: If the job was cancelled, and attempting to retrieve result.\u001b[39;00m\n\u001b[0;32m    155\u001b[0m \u001b[38;5;124;03m\"\"\"\u001b[39;00m\n\u001b[0;32m    156\u001b[0m _decoder \u001b[38;5;241m=\u001b[39m decoder \u001b[38;5;129;01mor\u001b[39;00m \u001b[38;5;28mself\u001b[39m\u001b[38;5;241m.\u001b[39m_final_result_decoder\n\u001b[1;32m--> 157\u001b[0m \u001b[38;5;28;43mself\u001b[39;49m\u001b[38;5;241;43m.\u001b[39;49m\u001b[43mwait_for_final_state\u001b[49m\u001b[43m(\u001b[49m\u001b[43mtimeout\u001b[49m\u001b[38;5;241;43m=\u001b[39;49m\u001b[43mtimeout\u001b[49m\u001b[43m)\u001b[49m\n\u001b[0;32m    158\u001b[0m \u001b[38;5;28;01mif\u001b[39;00m \u001b[38;5;28mself\u001b[39m\u001b[38;5;241m.\u001b[39m_status \u001b[38;5;241m==\u001b[39m \u001b[38;5;28mself\u001b[39m\u001b[38;5;241m.\u001b[39mERROR:\n\u001b[0;32m    159\u001b[0m     error_message \u001b[38;5;241m=\u001b[39m \u001b[38;5;28mself\u001b[39m\u001b[38;5;241m.\u001b[39m_reason \u001b[38;5;28;01mif\u001b[39;00m \u001b[38;5;28mself\u001b[39m\u001b[38;5;241m.\u001b[39m_reason \u001b[38;5;28;01melse\u001b[39;00m \u001b[38;5;28mself\u001b[39m\u001b[38;5;241m.\u001b[39m_error_message\n",
      "File \u001b[1;32mc:\\Users\\maddi\\miniconda3\\envs\\qenv\\Lib\\site-packages\\qiskit_ibm_runtime\\runtime_job.py:346\u001b[0m, in \u001b[0;36mRuntimeJob.wait_for_final_state\u001b[1;34m(self, timeout)\u001b[0m\n\u001b[0;32m    342\u001b[0m             \u001b[38;5;28;01mraise\u001b[39;00m RuntimeJobTimeoutError(\n\u001b[0;32m    343\u001b[0m                 \u001b[38;5;124mf\u001b[39m\u001b[38;5;124m\"\u001b[39m\u001b[38;5;124mTimed out waiting for job to complete after \u001b[39m\u001b[38;5;132;01m{\u001b[39;00mtimeout\u001b[38;5;132;01m}\u001b[39;00m\u001b[38;5;124m secs.\u001b[39m\u001b[38;5;124m\"\u001b[39m\n\u001b[0;32m    344\u001b[0m             )\n\u001b[0;32m    345\u001b[0m         time\u001b[38;5;241m.\u001b[39msleep(\u001b[38;5;241m0.1\u001b[39m)\n\u001b[1;32m--> 346\u001b[0m         status \u001b[38;5;241m=\u001b[39m \u001b[38;5;28;43mself\u001b[39;49m\u001b[38;5;241;43m.\u001b[39;49m\u001b[43mstatus\u001b[49m\u001b[43m(\u001b[49m\u001b[43m)\u001b[49m\n\u001b[0;32m    347\u001b[0m \u001b[38;5;28;01mexcept\u001b[39;00m futures\u001b[38;5;241m.\u001b[39mTimeoutError:\n\u001b[0;32m    348\u001b[0m     \u001b[38;5;28;01mraise\u001b[39;00m RuntimeJobTimeoutError(\n\u001b[0;32m    349\u001b[0m         \u001b[38;5;124mf\u001b[39m\u001b[38;5;124m\"\u001b[39m\u001b[38;5;124mTimed out waiting for job to complete after \u001b[39m\u001b[38;5;132;01m{\u001b[39;00mtimeout\u001b[38;5;132;01m}\u001b[39;00m\u001b[38;5;124m secs.\u001b[39m\u001b[38;5;124m\"\u001b[39m\n\u001b[0;32m    350\u001b[0m     )\n",
      "File \u001b[1;32mc:\\Users\\maddi\\miniconda3\\envs\\qenv\\Lib\\site-packages\\qiskit_ibm_runtime\\runtime_job.py:203\u001b[0m, in \u001b[0;36mRuntimeJob.status\u001b[1;34m(self)\u001b[0m\n\u001b[0;32m    189\u001b[0m \u001b[38;5;250m\u001b[39m\u001b[38;5;124;03m\"\"\"Return the status of the job.\u001b[39;00m\n\u001b[0;32m    190\u001b[0m \n\u001b[0;32m    191\u001b[0m \u001b[38;5;124;03mReturns:\u001b[39;00m\n\u001b[0;32m    192\u001b[0m \u001b[38;5;124;03m    Status of this job.\u001b[39;00m\n\u001b[0;32m    193\u001b[0m \u001b[38;5;124;03m\"\"\"\u001b[39;00m\n\u001b[0;32m    194\u001b[0m warnings\u001b[38;5;241m.\u001b[39mwarn(\n\u001b[0;32m    195\u001b[0m     (\n\u001b[0;32m    196\u001b[0m         \u001b[38;5;124m\"\u001b[39m\u001b[38;5;124mIn a future release of qiskit-ibm-runtime no sooner than 3 months \u001b[39m\u001b[38;5;124m\"\u001b[39m\n\u001b[1;32m   (...)\u001b[0m\n\u001b[0;32m    201\u001b[0m     stacklevel\u001b[38;5;241m=\u001b[39m\u001b[38;5;241m2\u001b[39m,\n\u001b[0;32m    202\u001b[0m )\n\u001b[1;32m--> 203\u001b[0m \u001b[38;5;28;43mself\u001b[39;49m\u001b[38;5;241;43m.\u001b[39;49m\u001b[43m_set_status_and_error_message\u001b[49m\u001b[43m(\u001b[49m\u001b[43m)\u001b[49m\n\u001b[0;32m    204\u001b[0m \u001b[38;5;28;01mreturn\u001b[39;00m \u001b[38;5;28mself\u001b[39m\u001b[38;5;241m.\u001b[39m_status\n",
      "File \u001b[1;32mc:\\Users\\maddi\\miniconda3\\envs\\qenv\\Lib\\site-packages\\qiskit_ibm_runtime\\base_runtime_job.py:219\u001b[0m, in \u001b[0;36mBaseRuntimeJob._set_status_and_error_message\u001b[1;34m(self)\u001b[0m\n\u001b[0;32m    217\u001b[0m \u001b[38;5;250m\u001b[39m\u001b[38;5;124;03m\"\"\"Fetch and set status and error message.\"\"\"\u001b[39;00m\n\u001b[0;32m    218\u001b[0m \u001b[38;5;28;01mif\u001b[39;00m \u001b[38;5;28mself\u001b[39m\u001b[38;5;241m.\u001b[39m_status \u001b[38;5;129;01mnot\u001b[39;00m \u001b[38;5;129;01min\u001b[39;00m \u001b[38;5;28mself\u001b[39m\u001b[38;5;241m.\u001b[39mJOB_FINAL_STATES:\n\u001b[1;32m--> 219\u001b[0m     response \u001b[38;5;241m=\u001b[39m \u001b[38;5;28;43mself\u001b[39;49m\u001b[38;5;241;43m.\u001b[39;49m\u001b[43m_api_client\u001b[49m\u001b[38;5;241;43m.\u001b[39;49m\u001b[43mjob_get\u001b[49m\u001b[43m(\u001b[49m\u001b[43mjob_id\u001b[49m\u001b[38;5;241;43m=\u001b[39;49m\u001b[38;5;28;43mself\u001b[39;49m\u001b[38;5;241;43m.\u001b[39;49m\u001b[43mjob_id\u001b[49m\u001b[43m(\u001b[49m\u001b[43m)\u001b[49m\u001b[43m)\u001b[49m\n\u001b[0;32m    220\u001b[0m     \u001b[38;5;28mself\u001b[39m\u001b[38;5;241m.\u001b[39m_set_status(response)\n\u001b[0;32m    221\u001b[0m     \u001b[38;5;28mself\u001b[39m\u001b[38;5;241m.\u001b[39m_set_error_message(response)\n",
      "File \u001b[1;32mc:\\Users\\maddi\\miniconda3\\envs\\qenv\\Lib\\site-packages\\qiskit_ibm_runtime\\api\\clients\\runtime.py:112\u001b[0m, in \u001b[0;36mRuntimeClient.job_get\u001b[1;34m(self, job_id, exclude_params)\u001b[0m\n\u001b[0;32m    103\u001b[0m \u001b[38;5;28;01mdef\u001b[39;00m \u001b[38;5;21mjob_get\u001b[39m(\u001b[38;5;28mself\u001b[39m, job_id: \u001b[38;5;28mstr\u001b[39m, exclude_params: \u001b[38;5;28mbool\u001b[39m \u001b[38;5;241m=\u001b[39m \u001b[38;5;28;01mTrue\u001b[39;00m) \u001b[38;5;241m-\u001b[39m\u001b[38;5;241m>\u001b[39m Dict:\n\u001b[0;32m    104\u001b[0m \u001b[38;5;250m    \u001b[39m\u001b[38;5;124;03m\"\"\"Get job data.\u001b[39;00m\n\u001b[0;32m    105\u001b[0m \n\u001b[0;32m    106\u001b[0m \u001b[38;5;124;03m    Args:\u001b[39;00m\n\u001b[1;32m   (...)\u001b[0m\n\u001b[0;32m    110\u001b[0m \u001b[38;5;124;03m        JSON response.\u001b[39;00m\n\u001b[0;32m    111\u001b[0m \u001b[38;5;124;03m    \"\"\"\u001b[39;00m\n\u001b[1;32m--> 112\u001b[0m     response \u001b[38;5;241m=\u001b[39m \u001b[38;5;28;43mself\u001b[39;49m\u001b[38;5;241;43m.\u001b[39;49m\u001b[43m_api\u001b[49m\u001b[38;5;241;43m.\u001b[39;49m\u001b[43mprogram_job\u001b[49m\u001b[43m(\u001b[49m\u001b[43mjob_id\u001b[49m\u001b[43m)\u001b[49m\u001b[38;5;241;43m.\u001b[39;49m\u001b[43mget\u001b[49m\u001b[43m(\u001b[49m\u001b[43mexclude_params\u001b[49m\u001b[38;5;241;43m=\u001b[39;49m\u001b[43mexclude_params\u001b[49m\u001b[43m)\u001b[49m\n\u001b[0;32m    113\u001b[0m     logger\u001b[38;5;241m.\u001b[39mdebug(\u001b[38;5;124m\"\u001b[39m\u001b[38;5;124mRuntime job get response: \u001b[39m\u001b[38;5;132;01m%s\u001b[39;00m\u001b[38;5;124m\"\u001b[39m, response)\n\u001b[0;32m    114\u001b[0m     \u001b[38;5;28;01mreturn\u001b[39;00m response\n",
      "File \u001b[1;32mc:\\Users\\maddi\\miniconda3\\envs\\qenv\\Lib\\site-packages\\qiskit_ibm_runtime\\api\\rest\\program_job.py:59\u001b[0m, in \u001b[0;36mProgramJob.get\u001b[1;34m(self, exclude_params)\u001b[0m\n\u001b[0;32m     57\u001b[0m \u001b[38;5;28;01mif\u001b[39;00m exclude_params:\n\u001b[0;32m     58\u001b[0m     payload[\u001b[38;5;124m\"\u001b[39m\u001b[38;5;124mexclude_params\u001b[39m\u001b[38;5;124m\"\u001b[39m] \u001b[38;5;241m=\u001b[39m \u001b[38;5;124m\"\u001b[39m\u001b[38;5;124mtrue\u001b[39m\u001b[38;5;124m\"\u001b[39m\n\u001b[1;32m---> 59\u001b[0m \u001b[38;5;28;01mreturn\u001b[39;00m \u001b[38;5;28;43mself\u001b[39;49m\u001b[38;5;241;43m.\u001b[39;49m\u001b[43msession\u001b[49m\u001b[38;5;241;43m.\u001b[39;49m\u001b[43mget\u001b[49m\u001b[43m(\u001b[49m\u001b[38;5;28;43mself\u001b[39;49m\u001b[38;5;241;43m.\u001b[39;49m\u001b[43mget_url\u001b[49m\u001b[43m(\u001b[49m\u001b[38;5;124;43m\"\u001b[39;49m\u001b[38;5;124;43mself\u001b[39;49m\u001b[38;5;124;43m\"\u001b[39;49m\u001b[43m)\u001b[49m\u001b[43m,\u001b[49m\u001b[43m \u001b[49m\u001b[43mparams\u001b[49m\u001b[38;5;241;43m=\u001b[39;49m\u001b[43mpayload\u001b[49m\u001b[43m)\u001b[49m\u001b[38;5;241m.\u001b[39mjson(\u001b[38;5;28mcls\u001b[39m\u001b[38;5;241m=\u001b[39mRuntimeDecoder)\n",
      "File \u001b[1;32mc:\\Users\\maddi\\miniconda3\\envs\\qenv\\Lib\\site-packages\\requests\\sessions.py:602\u001b[0m, in \u001b[0;36mSession.get\u001b[1;34m(self, url, **kwargs)\u001b[0m\n\u001b[0;32m    594\u001b[0m \u001b[38;5;250m\u001b[39m\u001b[38;5;124mr\u001b[39m\u001b[38;5;124;03m\"\"\"Sends a GET request. Returns :class:`Response` object.\u001b[39;00m\n\u001b[0;32m    595\u001b[0m \n\u001b[0;32m    596\u001b[0m \u001b[38;5;124;03m:param url: URL for the new :class:`Request` object.\u001b[39;00m\n\u001b[0;32m    597\u001b[0m \u001b[38;5;124;03m:param \\*\\*kwargs: Optional arguments that ``request`` takes.\u001b[39;00m\n\u001b[0;32m    598\u001b[0m \u001b[38;5;124;03m:rtype: requests.Response\u001b[39;00m\n\u001b[0;32m    599\u001b[0m \u001b[38;5;124;03m\"\"\"\u001b[39;00m\n\u001b[0;32m    601\u001b[0m kwargs\u001b[38;5;241m.\u001b[39msetdefault(\u001b[38;5;124m\"\u001b[39m\u001b[38;5;124mallow_redirects\u001b[39m\u001b[38;5;124m\"\u001b[39m, \u001b[38;5;28;01mTrue\u001b[39;00m)\n\u001b[1;32m--> 602\u001b[0m \u001b[38;5;28;01mreturn\u001b[39;00m \u001b[38;5;28;43mself\u001b[39;49m\u001b[38;5;241;43m.\u001b[39;49m\u001b[43mrequest\u001b[49m\u001b[43m(\u001b[49m\u001b[38;5;124;43m\"\u001b[39;49m\u001b[38;5;124;43mGET\u001b[39;49m\u001b[38;5;124;43m\"\u001b[39;49m\u001b[43m,\u001b[49m\u001b[43m \u001b[49m\u001b[43murl\u001b[49m\u001b[43m,\u001b[49m\u001b[43m \u001b[49m\u001b[38;5;241;43m*\u001b[39;49m\u001b[38;5;241;43m*\u001b[39;49m\u001b[43mkwargs\u001b[49m\u001b[43m)\u001b[49m\n",
      "File \u001b[1;32mc:\\Users\\maddi\\miniconda3\\envs\\qenv\\Lib\\site-packages\\qiskit_ibm_runtime\\api\\session.py:328\u001b[0m, in \u001b[0;36mRetrySession.request\u001b[1;34m(self, method, url, bare, **kwargs)\u001b[0m\n\u001b[0;32m    326\u001b[0m \u001b[38;5;28;01mtry\u001b[39;00m:\n\u001b[0;32m    327\u001b[0m     \u001b[38;5;28mself\u001b[39m\u001b[38;5;241m.\u001b[39m_log_request_info(final_url, method, kwargs)\n\u001b[1;32m--> 328\u001b[0m     response \u001b[38;5;241m=\u001b[39m \u001b[38;5;28;43msuper\u001b[39;49m\u001b[43m(\u001b[49m\u001b[43m)\u001b[49m\u001b[38;5;241;43m.\u001b[39;49m\u001b[43mrequest\u001b[49m\u001b[43m(\u001b[49m\u001b[43mmethod\u001b[49m\u001b[43m,\u001b[49m\u001b[43m \u001b[49m\u001b[43mfinal_url\u001b[49m\u001b[43m,\u001b[49m\u001b[43m \u001b[49m\u001b[43mheaders\u001b[49m\u001b[38;5;241;43m=\u001b[39;49m\u001b[43mheaders\u001b[49m\u001b[43m,\u001b[49m\u001b[43m \u001b[49m\u001b[38;5;241;43m*\u001b[39;49m\u001b[38;5;241;43m*\u001b[39;49m\u001b[43mkwargs\u001b[49m\u001b[43m)\u001b[49m\n\u001b[0;32m    329\u001b[0m     response\u001b[38;5;241m.\u001b[39mraise_for_status()\n\u001b[0;32m    330\u001b[0m \u001b[38;5;28;01mexcept\u001b[39;00m RequestException \u001b[38;5;28;01mas\u001b[39;00m ex:\n\u001b[0;32m    331\u001b[0m     \u001b[38;5;66;03m# Wrap the requests exceptions into a IBM Q custom one, for\u001b[39;00m\n\u001b[0;32m    332\u001b[0m     \u001b[38;5;66;03m# compatibility.\u001b[39;00m\n",
      "File \u001b[1;32mc:\\Users\\maddi\\miniconda3\\envs\\qenv\\Lib\\site-packages\\requests\\sessions.py:589\u001b[0m, in \u001b[0;36mSession.request\u001b[1;34m(self, method, url, params, data, headers, cookies, files, auth, timeout, allow_redirects, proxies, hooks, stream, verify, cert, json)\u001b[0m\n\u001b[0;32m    584\u001b[0m send_kwargs \u001b[38;5;241m=\u001b[39m {\n\u001b[0;32m    585\u001b[0m     \u001b[38;5;124m\"\u001b[39m\u001b[38;5;124mtimeout\u001b[39m\u001b[38;5;124m\"\u001b[39m: timeout,\n\u001b[0;32m    586\u001b[0m     \u001b[38;5;124m\"\u001b[39m\u001b[38;5;124mallow_redirects\u001b[39m\u001b[38;5;124m\"\u001b[39m: allow_redirects,\n\u001b[0;32m    587\u001b[0m }\n\u001b[0;32m    588\u001b[0m send_kwargs\u001b[38;5;241m.\u001b[39mupdate(settings)\n\u001b[1;32m--> 589\u001b[0m resp \u001b[38;5;241m=\u001b[39m \u001b[38;5;28;43mself\u001b[39;49m\u001b[38;5;241;43m.\u001b[39;49m\u001b[43msend\u001b[49m\u001b[43m(\u001b[49m\u001b[43mprep\u001b[49m\u001b[43m,\u001b[49m\u001b[43m \u001b[49m\u001b[38;5;241;43m*\u001b[39;49m\u001b[38;5;241;43m*\u001b[39;49m\u001b[43msend_kwargs\u001b[49m\u001b[43m)\u001b[49m\n\u001b[0;32m    591\u001b[0m \u001b[38;5;28;01mreturn\u001b[39;00m resp\n",
      "File \u001b[1;32mc:\\Users\\maddi\\miniconda3\\envs\\qenv\\Lib\\site-packages\\requests\\sessions.py:703\u001b[0m, in \u001b[0;36mSession.send\u001b[1;34m(self, request, **kwargs)\u001b[0m\n\u001b[0;32m    700\u001b[0m start \u001b[38;5;241m=\u001b[39m preferred_clock()\n\u001b[0;32m    702\u001b[0m \u001b[38;5;66;03m# Send the request\u001b[39;00m\n\u001b[1;32m--> 703\u001b[0m r \u001b[38;5;241m=\u001b[39m \u001b[43madapter\u001b[49m\u001b[38;5;241;43m.\u001b[39;49m\u001b[43msend\u001b[49m\u001b[43m(\u001b[49m\u001b[43mrequest\u001b[49m\u001b[43m,\u001b[49m\u001b[43m \u001b[49m\u001b[38;5;241;43m*\u001b[39;49m\u001b[38;5;241;43m*\u001b[39;49m\u001b[43mkwargs\u001b[49m\u001b[43m)\u001b[49m\n\u001b[0;32m    705\u001b[0m \u001b[38;5;66;03m# Total elapsed time of the request (approximately)\u001b[39;00m\n\u001b[0;32m    706\u001b[0m elapsed \u001b[38;5;241m=\u001b[39m preferred_clock() \u001b[38;5;241m-\u001b[39m start\n",
      "File \u001b[1;32mc:\\Users\\maddi\\miniconda3\\envs\\qenv\\Lib\\site-packages\\requests\\adapters.py:667\u001b[0m, in \u001b[0;36mHTTPAdapter.send\u001b[1;34m(self, request, stream, timeout, verify, cert, proxies)\u001b[0m\n\u001b[0;32m    664\u001b[0m     timeout \u001b[38;5;241m=\u001b[39m TimeoutSauce(connect\u001b[38;5;241m=\u001b[39mtimeout, read\u001b[38;5;241m=\u001b[39mtimeout)\n\u001b[0;32m    666\u001b[0m \u001b[38;5;28;01mtry\u001b[39;00m:\n\u001b[1;32m--> 667\u001b[0m     resp \u001b[38;5;241m=\u001b[39m \u001b[43mconn\u001b[49m\u001b[38;5;241;43m.\u001b[39;49m\u001b[43murlopen\u001b[49m\u001b[43m(\u001b[49m\n\u001b[0;32m    668\u001b[0m \u001b[43m        \u001b[49m\u001b[43mmethod\u001b[49m\u001b[38;5;241;43m=\u001b[39;49m\u001b[43mrequest\u001b[49m\u001b[38;5;241;43m.\u001b[39;49m\u001b[43mmethod\u001b[49m\u001b[43m,\u001b[49m\n\u001b[0;32m    669\u001b[0m \u001b[43m        \u001b[49m\u001b[43murl\u001b[49m\u001b[38;5;241;43m=\u001b[39;49m\u001b[43murl\u001b[49m\u001b[43m,\u001b[49m\n\u001b[0;32m    670\u001b[0m \u001b[43m        \u001b[49m\u001b[43mbody\u001b[49m\u001b[38;5;241;43m=\u001b[39;49m\u001b[43mrequest\u001b[49m\u001b[38;5;241;43m.\u001b[39;49m\u001b[43mbody\u001b[49m\u001b[43m,\u001b[49m\n\u001b[0;32m    671\u001b[0m \u001b[43m        \u001b[49m\u001b[43mheaders\u001b[49m\u001b[38;5;241;43m=\u001b[39;49m\u001b[43mrequest\u001b[49m\u001b[38;5;241;43m.\u001b[39;49m\u001b[43mheaders\u001b[49m\u001b[43m,\u001b[49m\n\u001b[0;32m    672\u001b[0m \u001b[43m        \u001b[49m\u001b[43mredirect\u001b[49m\u001b[38;5;241;43m=\u001b[39;49m\u001b[38;5;28;43;01mFalse\u001b[39;49;00m\u001b[43m,\u001b[49m\n\u001b[0;32m    673\u001b[0m \u001b[43m        \u001b[49m\u001b[43massert_same_host\u001b[49m\u001b[38;5;241;43m=\u001b[39;49m\u001b[38;5;28;43;01mFalse\u001b[39;49;00m\u001b[43m,\u001b[49m\n\u001b[0;32m    674\u001b[0m \u001b[43m        \u001b[49m\u001b[43mpreload_content\u001b[49m\u001b[38;5;241;43m=\u001b[39;49m\u001b[38;5;28;43;01mFalse\u001b[39;49;00m\u001b[43m,\u001b[49m\n\u001b[0;32m    675\u001b[0m \u001b[43m        \u001b[49m\u001b[43mdecode_content\u001b[49m\u001b[38;5;241;43m=\u001b[39;49m\u001b[38;5;28;43;01mFalse\u001b[39;49;00m\u001b[43m,\u001b[49m\n\u001b[0;32m    676\u001b[0m \u001b[43m        \u001b[49m\u001b[43mretries\u001b[49m\u001b[38;5;241;43m=\u001b[39;49m\u001b[38;5;28;43mself\u001b[39;49m\u001b[38;5;241;43m.\u001b[39;49m\u001b[43mmax_retries\u001b[49m\u001b[43m,\u001b[49m\n\u001b[0;32m    677\u001b[0m \u001b[43m        \u001b[49m\u001b[43mtimeout\u001b[49m\u001b[38;5;241;43m=\u001b[39;49m\u001b[43mtimeout\u001b[49m\u001b[43m,\u001b[49m\n\u001b[0;32m    678\u001b[0m \u001b[43m        \u001b[49m\u001b[43mchunked\u001b[49m\u001b[38;5;241;43m=\u001b[39;49m\u001b[43mchunked\u001b[49m\u001b[43m,\u001b[49m\n\u001b[0;32m    679\u001b[0m \u001b[43m    \u001b[49m\u001b[43m)\u001b[49m\n\u001b[0;32m    681\u001b[0m \u001b[38;5;28;01mexcept\u001b[39;00m (ProtocolError, \u001b[38;5;167;01mOSError\u001b[39;00m) \u001b[38;5;28;01mas\u001b[39;00m err:\n\u001b[0;32m    682\u001b[0m     \u001b[38;5;28;01mraise\u001b[39;00m \u001b[38;5;167;01mConnectionError\u001b[39;00m(err, request\u001b[38;5;241m=\u001b[39mrequest)\n",
      "File \u001b[1;32mc:\\Users\\maddi\\miniconda3\\envs\\qenv\\Lib\\site-packages\\urllib3\\connectionpool.py:789\u001b[0m, in \u001b[0;36mHTTPConnectionPool.urlopen\u001b[1;34m(self, method, url, body, headers, retries, redirect, assert_same_host, timeout, pool_timeout, release_conn, chunked, body_pos, preload_content, decode_content, **response_kw)\u001b[0m\n\u001b[0;32m    786\u001b[0m response_conn \u001b[38;5;241m=\u001b[39m conn \u001b[38;5;28;01mif\u001b[39;00m \u001b[38;5;129;01mnot\u001b[39;00m release_conn \u001b[38;5;28;01melse\u001b[39;00m \u001b[38;5;28;01mNone\u001b[39;00m\n\u001b[0;32m    788\u001b[0m \u001b[38;5;66;03m# Make the request on the HTTPConnection object\u001b[39;00m\n\u001b[1;32m--> 789\u001b[0m response \u001b[38;5;241m=\u001b[39m \u001b[38;5;28;43mself\u001b[39;49m\u001b[38;5;241;43m.\u001b[39;49m\u001b[43m_make_request\u001b[49m\u001b[43m(\u001b[49m\n\u001b[0;32m    790\u001b[0m \u001b[43m    \u001b[49m\u001b[43mconn\u001b[49m\u001b[43m,\u001b[49m\n\u001b[0;32m    791\u001b[0m \u001b[43m    \u001b[49m\u001b[43mmethod\u001b[49m\u001b[43m,\u001b[49m\n\u001b[0;32m    792\u001b[0m \u001b[43m    \u001b[49m\u001b[43murl\u001b[49m\u001b[43m,\u001b[49m\n\u001b[0;32m    793\u001b[0m \u001b[43m    \u001b[49m\u001b[43mtimeout\u001b[49m\u001b[38;5;241;43m=\u001b[39;49m\u001b[43mtimeout_obj\u001b[49m\u001b[43m,\u001b[49m\n\u001b[0;32m    794\u001b[0m \u001b[43m    \u001b[49m\u001b[43mbody\u001b[49m\u001b[38;5;241;43m=\u001b[39;49m\u001b[43mbody\u001b[49m\u001b[43m,\u001b[49m\n\u001b[0;32m    795\u001b[0m \u001b[43m    \u001b[49m\u001b[43mheaders\u001b[49m\u001b[38;5;241;43m=\u001b[39;49m\u001b[43mheaders\u001b[49m\u001b[43m,\u001b[49m\n\u001b[0;32m    796\u001b[0m \u001b[43m    \u001b[49m\u001b[43mchunked\u001b[49m\u001b[38;5;241;43m=\u001b[39;49m\u001b[43mchunked\u001b[49m\u001b[43m,\u001b[49m\n\u001b[0;32m    797\u001b[0m \u001b[43m    \u001b[49m\u001b[43mretries\u001b[49m\u001b[38;5;241;43m=\u001b[39;49m\u001b[43mretries\u001b[49m\u001b[43m,\u001b[49m\n\u001b[0;32m    798\u001b[0m \u001b[43m    \u001b[49m\u001b[43mresponse_conn\u001b[49m\u001b[38;5;241;43m=\u001b[39;49m\u001b[43mresponse_conn\u001b[49m\u001b[43m,\u001b[49m\n\u001b[0;32m    799\u001b[0m \u001b[43m    \u001b[49m\u001b[43mpreload_content\u001b[49m\u001b[38;5;241;43m=\u001b[39;49m\u001b[43mpreload_content\u001b[49m\u001b[43m,\u001b[49m\n\u001b[0;32m    800\u001b[0m \u001b[43m    \u001b[49m\u001b[43mdecode_content\u001b[49m\u001b[38;5;241;43m=\u001b[39;49m\u001b[43mdecode_content\u001b[49m\u001b[43m,\u001b[49m\n\u001b[0;32m    801\u001b[0m \u001b[43m    \u001b[49m\u001b[38;5;241;43m*\u001b[39;49m\u001b[38;5;241;43m*\u001b[39;49m\u001b[43mresponse_kw\u001b[49m\u001b[43m,\u001b[49m\n\u001b[0;32m    802\u001b[0m \u001b[43m\u001b[49m\u001b[43m)\u001b[49m\n\u001b[0;32m    804\u001b[0m \u001b[38;5;66;03m# Everything went great!\u001b[39;00m\n\u001b[0;32m    805\u001b[0m clean_exit \u001b[38;5;241m=\u001b[39m \u001b[38;5;28;01mTrue\u001b[39;00m\n",
      "File \u001b[1;32mc:\\Users\\maddi\\miniconda3\\envs\\qenv\\Lib\\site-packages\\urllib3\\connectionpool.py:536\u001b[0m, in \u001b[0;36mHTTPConnectionPool._make_request\u001b[1;34m(self, conn, method, url, body, headers, retries, timeout, chunked, response_conn, preload_content, decode_content, enforce_content_length)\u001b[0m\n\u001b[0;32m    534\u001b[0m \u001b[38;5;66;03m# Receive the response from the server\u001b[39;00m\n\u001b[0;32m    535\u001b[0m \u001b[38;5;28;01mtry\u001b[39;00m:\n\u001b[1;32m--> 536\u001b[0m     response \u001b[38;5;241m=\u001b[39m \u001b[43mconn\u001b[49m\u001b[38;5;241;43m.\u001b[39;49m\u001b[43mgetresponse\u001b[49m\u001b[43m(\u001b[49m\u001b[43m)\u001b[49m\n\u001b[0;32m    537\u001b[0m \u001b[38;5;28;01mexcept\u001b[39;00m (BaseSSLError, \u001b[38;5;167;01mOSError\u001b[39;00m) \u001b[38;5;28;01mas\u001b[39;00m e:\n\u001b[0;32m    538\u001b[0m     \u001b[38;5;28mself\u001b[39m\u001b[38;5;241m.\u001b[39m_raise_timeout(err\u001b[38;5;241m=\u001b[39me, url\u001b[38;5;241m=\u001b[39murl, timeout_value\u001b[38;5;241m=\u001b[39mread_timeout)\n",
      "File \u001b[1;32mc:\\Users\\maddi\\miniconda3\\envs\\qenv\\Lib\\site-packages\\urllib3\\connection.py:507\u001b[0m, in \u001b[0;36mHTTPConnection.getresponse\u001b[1;34m(self)\u001b[0m\n\u001b[0;32m    504\u001b[0m \u001b[38;5;28;01mfrom\u001b[39;00m \u001b[38;5;21;01m.\u001b[39;00m\u001b[38;5;21;01mresponse\u001b[39;00m \u001b[38;5;28;01mimport\u001b[39;00m HTTPResponse\n\u001b[0;32m    506\u001b[0m \u001b[38;5;66;03m# Get the response from http.client.HTTPConnection\u001b[39;00m\n\u001b[1;32m--> 507\u001b[0m httplib_response \u001b[38;5;241m=\u001b[39m \u001b[38;5;28;43msuper\u001b[39;49m\u001b[43m(\u001b[49m\u001b[43m)\u001b[49m\u001b[38;5;241;43m.\u001b[39;49m\u001b[43mgetresponse\u001b[49m\u001b[43m(\u001b[49m\u001b[43m)\u001b[49m\n\u001b[0;32m    509\u001b[0m \u001b[38;5;28;01mtry\u001b[39;00m:\n\u001b[0;32m    510\u001b[0m     assert_header_parsing(httplib_response\u001b[38;5;241m.\u001b[39mmsg)\n",
      "File \u001b[1;32mc:\\Users\\maddi\\miniconda3\\envs\\qenv\\Lib\\http\\client.py:1428\u001b[0m, in \u001b[0;36mHTTPConnection.getresponse\u001b[1;34m(self)\u001b[0m\n\u001b[0;32m   1426\u001b[0m \u001b[38;5;28;01mtry\u001b[39;00m:\n\u001b[0;32m   1427\u001b[0m     \u001b[38;5;28;01mtry\u001b[39;00m:\n\u001b[1;32m-> 1428\u001b[0m         \u001b[43mresponse\u001b[49m\u001b[38;5;241;43m.\u001b[39;49m\u001b[43mbegin\u001b[49m\u001b[43m(\u001b[49m\u001b[43m)\u001b[49m\n\u001b[0;32m   1429\u001b[0m     \u001b[38;5;28;01mexcept\u001b[39;00m \u001b[38;5;167;01mConnectionError\u001b[39;00m:\n\u001b[0;32m   1430\u001b[0m         \u001b[38;5;28mself\u001b[39m\u001b[38;5;241m.\u001b[39mclose()\n",
      "File \u001b[1;32mc:\\Users\\maddi\\miniconda3\\envs\\qenv\\Lib\\http\\client.py:331\u001b[0m, in \u001b[0;36mHTTPResponse.begin\u001b[1;34m(self)\u001b[0m\n\u001b[0;32m    329\u001b[0m \u001b[38;5;66;03m# read until we get a non-100 response\u001b[39;00m\n\u001b[0;32m    330\u001b[0m \u001b[38;5;28;01mwhile\u001b[39;00m \u001b[38;5;28;01mTrue\u001b[39;00m:\n\u001b[1;32m--> 331\u001b[0m     version, status, reason \u001b[38;5;241m=\u001b[39m \u001b[38;5;28;43mself\u001b[39;49m\u001b[38;5;241;43m.\u001b[39;49m\u001b[43m_read_status\u001b[49m\u001b[43m(\u001b[49m\u001b[43m)\u001b[49m\n\u001b[0;32m    332\u001b[0m     \u001b[38;5;28;01mif\u001b[39;00m status \u001b[38;5;241m!=\u001b[39m CONTINUE:\n\u001b[0;32m    333\u001b[0m         \u001b[38;5;28;01mbreak\u001b[39;00m\n",
      "File \u001b[1;32mc:\\Users\\maddi\\miniconda3\\envs\\qenv\\Lib\\http\\client.py:292\u001b[0m, in \u001b[0;36mHTTPResponse._read_status\u001b[1;34m(self)\u001b[0m\n\u001b[0;32m    291\u001b[0m \u001b[38;5;28;01mdef\u001b[39;00m \u001b[38;5;21m_read_status\u001b[39m(\u001b[38;5;28mself\u001b[39m):\n\u001b[1;32m--> 292\u001b[0m     line \u001b[38;5;241m=\u001b[39m \u001b[38;5;28mstr\u001b[39m(\u001b[38;5;28;43mself\u001b[39;49m\u001b[38;5;241;43m.\u001b[39;49m\u001b[43mfp\u001b[49m\u001b[38;5;241;43m.\u001b[39;49m\u001b[43mreadline\u001b[49m\u001b[43m(\u001b[49m\u001b[43m_MAXLINE\u001b[49m\u001b[43m \u001b[49m\u001b[38;5;241;43m+\u001b[39;49m\u001b[43m \u001b[49m\u001b[38;5;241;43m1\u001b[39;49m\u001b[43m)\u001b[49m, \u001b[38;5;124m\"\u001b[39m\u001b[38;5;124miso-8859-1\u001b[39m\u001b[38;5;124m\"\u001b[39m)\n\u001b[0;32m    293\u001b[0m     \u001b[38;5;28;01mif\u001b[39;00m \u001b[38;5;28mlen\u001b[39m(line) \u001b[38;5;241m>\u001b[39m _MAXLINE:\n\u001b[0;32m    294\u001b[0m         \u001b[38;5;28;01mraise\u001b[39;00m LineTooLong(\u001b[38;5;124m\"\u001b[39m\u001b[38;5;124mstatus line\u001b[39m\u001b[38;5;124m\"\u001b[39m)\n",
      "File \u001b[1;32mc:\\Users\\maddi\\miniconda3\\envs\\qenv\\Lib\\socket.py:719\u001b[0m, in \u001b[0;36mSocketIO.readinto\u001b[1;34m(self, b)\u001b[0m\n\u001b[0;32m    717\u001b[0m     \u001b[38;5;28;01mraise\u001b[39;00m \u001b[38;5;167;01mOSError\u001b[39;00m(\u001b[38;5;124m\"\u001b[39m\u001b[38;5;124mcannot read from timed out object\u001b[39m\u001b[38;5;124m\"\u001b[39m)\n\u001b[0;32m    718\u001b[0m \u001b[38;5;28;01mtry\u001b[39;00m:\n\u001b[1;32m--> 719\u001b[0m     \u001b[38;5;28;01mreturn\u001b[39;00m \u001b[38;5;28;43mself\u001b[39;49m\u001b[38;5;241;43m.\u001b[39;49m\u001b[43m_sock\u001b[49m\u001b[38;5;241;43m.\u001b[39;49m\u001b[43mrecv_into\u001b[49m\u001b[43m(\u001b[49m\u001b[43mb\u001b[49m\u001b[43m)\u001b[49m\n\u001b[0;32m    720\u001b[0m \u001b[38;5;28;01mexcept\u001b[39;00m timeout:\n\u001b[0;32m    721\u001b[0m     \u001b[38;5;28mself\u001b[39m\u001b[38;5;241m.\u001b[39m_timeout_occurred \u001b[38;5;241m=\u001b[39m \u001b[38;5;28;01mTrue\u001b[39;00m\n",
      "File \u001b[1;32mc:\\Users\\maddi\\miniconda3\\envs\\qenv\\Lib\\ssl.py:1304\u001b[0m, in \u001b[0;36mSSLSocket.recv_into\u001b[1;34m(self, buffer, nbytes, flags)\u001b[0m\n\u001b[0;32m   1300\u001b[0m     \u001b[38;5;28;01mif\u001b[39;00m flags \u001b[38;5;241m!=\u001b[39m \u001b[38;5;241m0\u001b[39m:\n\u001b[0;32m   1301\u001b[0m         \u001b[38;5;28;01mraise\u001b[39;00m \u001b[38;5;167;01mValueError\u001b[39;00m(\n\u001b[0;32m   1302\u001b[0m           \u001b[38;5;124m\"\u001b[39m\u001b[38;5;124mnon-zero flags not allowed in calls to recv_into() on \u001b[39m\u001b[38;5;132;01m%s\u001b[39;00m\u001b[38;5;124m\"\u001b[39m \u001b[38;5;241m%\u001b[39m\n\u001b[0;32m   1303\u001b[0m           \u001b[38;5;28mself\u001b[39m\u001b[38;5;241m.\u001b[39m\u001b[38;5;18m__class__\u001b[39m)\n\u001b[1;32m-> 1304\u001b[0m     \u001b[38;5;28;01mreturn\u001b[39;00m \u001b[38;5;28;43mself\u001b[39;49m\u001b[38;5;241;43m.\u001b[39;49m\u001b[43mread\u001b[49m\u001b[43m(\u001b[49m\u001b[43mnbytes\u001b[49m\u001b[43m,\u001b[49m\u001b[43m \u001b[49m\u001b[43mbuffer\u001b[49m\u001b[43m)\u001b[49m\n\u001b[0;32m   1305\u001b[0m \u001b[38;5;28;01melse\u001b[39;00m:\n\u001b[0;32m   1306\u001b[0m     \u001b[38;5;28;01mreturn\u001b[39;00m \u001b[38;5;28msuper\u001b[39m()\u001b[38;5;241m.\u001b[39mrecv_into(buffer, nbytes, flags)\n",
      "File \u001b[1;32mc:\\Users\\maddi\\miniconda3\\envs\\qenv\\Lib\\ssl.py:1138\u001b[0m, in \u001b[0;36mSSLSocket.read\u001b[1;34m(self, len, buffer)\u001b[0m\n\u001b[0;32m   1136\u001b[0m \u001b[38;5;28;01mtry\u001b[39;00m:\n\u001b[0;32m   1137\u001b[0m     \u001b[38;5;28;01mif\u001b[39;00m buffer \u001b[38;5;129;01mis\u001b[39;00m \u001b[38;5;129;01mnot\u001b[39;00m \u001b[38;5;28;01mNone\u001b[39;00m:\n\u001b[1;32m-> 1138\u001b[0m         \u001b[38;5;28;01mreturn\u001b[39;00m \u001b[38;5;28;43mself\u001b[39;49m\u001b[38;5;241;43m.\u001b[39;49m\u001b[43m_sslobj\u001b[49m\u001b[38;5;241;43m.\u001b[39;49m\u001b[43mread\u001b[49m\u001b[43m(\u001b[49m\u001b[38;5;28;43mlen\u001b[39;49m\u001b[43m,\u001b[49m\u001b[43m \u001b[49m\u001b[43mbuffer\u001b[49m\u001b[43m)\u001b[49m\n\u001b[0;32m   1139\u001b[0m     \u001b[38;5;28;01melse\u001b[39;00m:\n\u001b[0;32m   1140\u001b[0m         \u001b[38;5;28;01mreturn\u001b[39;00m \u001b[38;5;28mself\u001b[39m\u001b[38;5;241m.\u001b[39m_sslobj\u001b[38;5;241m.\u001b[39mread(\u001b[38;5;28mlen\u001b[39m)\n",
      "\u001b[1;31mKeyboardInterrupt\u001b[0m: "
     ]
    }
   ],
   "source": [
    "from qiskit import QuantumCircuit\n",
    "from qiskit_aer import AerSimulator\n",
    "import numpy as np\n",
    "\n",
    "def generate_random_number():\n",
    "    while True: \n",
    "\n",
    "        # circuit w/ 4 qubits and 4 classical bits\n",
    "        qc = QuantumCircuit(8, 8)\n",
    "        \n",
    "        # Put each qubit in superposition\n",
    "        for i in range(8):\n",
    "            qc.h(i)\n",
    "        \n",
    "        # Measure all qubits\n",
    "        qc.measure(range(8), range(8))\n",
    "        \n",
    "        # AerSimulator backend\n",
    "        simulator = AerSimulator()\n",
    "        job = simulator.run(qc, shots=1)\n",
    "        result = job.result()\n",
    "        counts = result.get_counts()\n",
    "        \n",
    "        # binary result converted it to an integer\n",
    "        random_binary = list(counts.keys())[0]\n",
    "        random_number = int(random_binary, 2)\n",
    "        \n",
    "        #range 0-9 (feel free to edit)\n",
    "        if random_number <= 9:\n",
    "            return random_number\n",
    "\n",
    "def generate_random_numbers(n):\n",
    "    random_numbers = [generate_random_number() for _ in range(n)]\n",
    "    return random_numbers\n",
    "\n",
    "#10 random numbers generated (feel free to edit)\n",
    "n = 10 \n",
    "\n",
    "random_numbers = generate_random_numbers(n)\n",
    "print(random_numbers)"
   ]
  },
  {
   "cell_type": "markdown",
   "metadata": {},
   "source": [
    "Now, let's create a function that turns our random numbers into characters. To do that, we'll map each number to a character that can be used in a password. The function `num_to_char()` is defined below and will convert a given integer to a password character."
   ]
  },
  {
   "cell_type": "code",
   "execution_count": 11,
   "metadata": {},
   "outputs": [],
   "source": [
    "# Map a given number to a valid password character\n",
    "def num_to_pchar(num):\n",
    "    # map to one of the 93 possible ASCII characters in the range 33-126\n",
    "    num = ((num % 93) + 33)\n",
    "    return chr(num)"
   ]
  },
  {
   "cell_type": "markdown",
   "metadata": {},
   "source": [
    "Use the `num_to_char()` function to complete the `generate_password()` function below, which will take in a list of integers and return a string."
   ]
  },
  {
   "cell_type": "code",
   "execution_count": null,
   "metadata": {},
   "outputs": [],
   "source": [
    "# Create a string from a given list of numbers\n",
    "def generate_password(nums):\n",
    "    password = \"\"\n",
    "\n",
    "    # TODO: Implement this function!\n",
    "    # Hint: Call `num_to_pchar()` on each number\n",
    "\n",
    "    ''' SOLUTION\n",
    "    for num in nums:\n",
    "        pword += num_to_pchar(num)\n",
    "    '''\n",
    "    \n",
    "    return password"
   ]
  },
  {
   "cell_type": "markdown",
   "metadata": {},
   "source": [
    "Now we can combine this with our random number generator we made before to generate a random password! If you implemented the `generate_password()` function correctly, running the code below will print a randomly generated password."
   ]
  },
  {
   "cell_type": "code",
   "execution_count": null,
   "metadata": {},
   "outputs": [],
   "source": [
    "rand_nums = generate_random_numbers(10)\n",
    "password = generate_password(rand_nums)\n",
    "print(password)"
   ]
  },
  {
   "cell_type": "markdown",
   "metadata": {},
   "source": [
    "# Part V: Conclusion"
   ]
  },
  {
   "cell_type": "markdown",
   "metadata": {},
   "source": [
    "To conclude this tutorial, we have provided some resources to guide you to further explore more quantum computing concepts and applications. "
   ]
  },
  {
   "cell_type": "markdown",
   "metadata": {},
   "source": [
    "# References\n",
    "\n",
    "1. https://www.ibm.com/topics/qubit\n",
    "2. https://github.com/lynkos/grovers-algorithm/blob/main/src/grovers_algorithm.ipynb\n",
    "3. https://www.youtube.com/playlist?list=PLOFEBzvs-VvrgHZt3exM_NNiNKtZlHvZi\n",
    "4. https://docs.quantum.ibm.com/guides\n",
    "5. https://www.youtube.com/watch?v=8VgBPEcZ_X0 "
   ]
  }
 ],
 "metadata": {
  "kernelspec": {
   "display_name": "Python 3",
   "language": "python",
   "name": "python3"
  },
  "language_info": {
   "codemirror_mode": {
    "name": "ipython",
    "version": 3
   },
   "file_extension": ".py",
   "mimetype": "text/x-python",
   "name": "python",
   "nbconvert_exporter": "python",
   "pygments_lexer": "ipython3",
   "version": "3.13.0"
  }
 },
 "nbformat": 4,
 "nbformat_minor": 2
}
