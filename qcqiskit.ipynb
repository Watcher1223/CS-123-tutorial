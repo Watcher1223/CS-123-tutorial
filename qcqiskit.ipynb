{
 "cells": [
  {
   "cell_type": "markdown",
   "metadata": {},
   "source": [
    "# Learning Quantum Computing with Qiskit\n",
    "\n",
    "Quantum computing [Motivation]\n",
    "\n",
    "#### Learning Objectives\n",
    "By the end of this tutorial, you will:\n",
    "+ Understand the basics of quantum computing\n",
    "+ Know how to use the Qiskit library\n",
    "+ Learn tools to start quantum computing projects"
   ]
  },
  {
   "cell_type": "markdown",
   "metadata": {},
   "source": [
    "# I. Introduction to Quantum Computing\n",
    "\n",
    "Overview"
   ]
  },
  {
   "cell_type": "markdown",
   "metadata": {},
   "source": [
    "## Classical Computing vs. Quantum Computing\n",
    "\n",
    "Quantum computing works in a different way than the classical computing that we're used to. A classical computer is what you are viewing this on right now, and includes things like laptops, pcs, smartphones, and tablets. Quantum computers are a lot more rare, and are typically kept in strictly monitored environments that prevent physical disturbance of the computer. Although classical computers are more popular, quantum computers have a much higher processing power. And even though they are both computers, they way they operate is fundamentally different. Below highlights the differences in how these computers work:  \n",
    "\n",
    "### Classical Computers\n",
    "* Store data in bits\n",
    "* Operations are based on Boolean algebra\n",
    "* Circuits are modeled from classical physics\n",
    "* Bits can only be in two states: 0 or 1\n",
    "\n",
    "### Quantum Computers\n",
    "* Store data in qubits\n",
    "* Operations are based on linear algebra\n",
    "* Circuits are modeled from quantum mechanics\n",
    "* There is an infinite amount of qubit states\n"
   ]
  },
  {
   "cell_type": "markdown",
   "metadata": {},
   "source": [
    "## What is a Qubit?\n",
    "\n",
    "A Qubit, also known as a quantum qubit is"
   ]
  },
  {
   "cell_type": "markdown",
   "metadata": {},
   "source": [
    "## Major Concepts and Terminology"
   ]
  },
  {
   "cell_type": "markdown",
   "metadata": {},
   "source": [
    "## Quantum Logic Gates"
   ]
  },
  {
   "cell_type": "markdown",
   "metadata": {},
   "source": [
    "## Measurement"
   ]
  },
  {
   "cell_type": "markdown",
   "metadata": {},
   "source": [
    "# References\n",
    "\n",
    "Source and what not"
   ]
  }
 ],
 "metadata": {
  "kernelspec": {
   "display_name": "Python 3",
   "language": "python",
   "name": "python3"
  },
  "language_info": {
   "name": "python",
   "version": "3.11.9"
  }
 },
 "nbformat": 4,
 "nbformat_minor": 2
}
