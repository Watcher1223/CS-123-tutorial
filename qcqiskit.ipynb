{
 "cells": [
  {
   "cell_type": "markdown",
   "metadata": {},
   "source": [
    "# Learning Quantum Computing with Qiskit\n",
    "\n",
    "Quantum computing [Motivation]: <br>\n",
    "Quantum computing is a rapidly advancing field with the potential to redefine computation and problem-solving as we know it. As technology advances, quantum computers show promise in tackling challenges that are currently out of reach for classical computers. By understanding the basics of quantum computing, enthusiasts and professionals alike can begin to appreciate its transformative capabilities and future applications. <br>\n",
    "Quantum computers, for example, can solve problems exponentially faster than traditional computers, allowing them to tackle issues that would take classical computers thousands of years in mere minutes. Additionally, quantum computing has significant implications for cybersecurity. While it threatens current encryption protocols, it also drives the development of post-quantum cryptography, which promises stronger data protection. Through this tutorial, we aim to provide users with an introduction to quantum concepts specifically the threats it poses to the current encription protocols. \n",
    "\n",
    "#### Learning Objectives\n",
    "By the end of this tutorial, you will:\n",
    "+ Understand the basics of quantum computing\n",
    "+ Know how to use the Qiskit library\n",
    "+ Learn tools to start quantum computing projects"
   ]
  },
  {
   "cell_type": "markdown",
   "metadata": {},
   "source": [
    "# I. Introduction to Quantum Computing\n",
    "\n",
    "In this section, we’ll provide an overview of foundational concepts of quantum computing concepts. This will be a theory-focused section, setting up a foundation of knowledge necessary for Part II, where users will engage in hands-on exercises with Qiskit. The main goal is to introduce key differences between classical and quantum computing, along with essential quantum concepts, in a beginner-friendly manner. After completing Part I, users should have a high-level understanding of how quantum computing works and feel prepared to explore the basics of coding in Qiskit. "
   ]
  },
  {
   "cell_type": "markdown",
   "metadata": {},
   "source": [
    "## Classical Computing vs. Quantum Computing\n",
    "\n",
    "Quantum computing works in a different way than the classical computing that we're used to. A classical computer is what you are viewing this on right now, and includes things like laptops, pcs, smartphones, and tablets. Quantum computers are a lot more rare, and are typically kept in strictly monitored environments that prevent physical disturbance of the computer. Although classical computers are more popular, quantum computers have a much higher processing power. And even though they are both computers, they way they operate is fundamentally different. Below highlights the differences in how these computers work:  \n",
    "\n",
    "### Classical Computers\n",
    "* Store data in bits\n",
    "* Operations are based on Boolean algebra\n",
    "* Circuits are modeled from classical physics\n",
    "* Bits can only be in two states: 0 or 1\n",
    "\n",
    "### Quantum Computers\n",
    "* Store data in qubits\n",
    "* Operations are based on linear algebra\n",
    "* Circuits are modeled from quantum mechanics\n",
    "* There is an infinite amount of qubit states\n"
   ]
  },
  {
   "cell_type": "markdown",
   "metadata": {},
   "source": [
    "## What is a Qubit?\n",
    "\n",
    "A Qubit, also known as a quantum qubit is the basic unit of information in quantum computing.\n",
    "A qubit is a two-state quantum system that can represent a 0, a 1, or any proportion of both. Qubits are created by manipulating and measuring quantum particles, such as electrons, photons, or trapped ions. \n",
    "\n",
    "How it works:<br>\n",
    "Qubits use quantum mechanical phenomena like superposition and entanglement to process information. For example, the spin of an electron can be used to create a qubit, with spin up and spin down representing the two states. \n",
    "\n",
    "\n",
    "Furthermore, Qubits behave differently from bits, the basic unit of information in classical computing, because of the quantum properties they're based on. Quantum computing uses qubits to execute calculations instead of the electrical signals used in classical computing. \n",
    "  "
   ]
  },
  {
   "cell_type": "markdown",
   "metadata": {},
   "source": [
    "## Major Concepts and Terminology"
   ]
  },
  {
   "cell_type": "markdown",
   "metadata": {},
   "source": [
    "**Probability Distributions**\n",
    "\n",
    "In classical computing calculations yield definite answers (like 0s and 1s). However, quantum computing typically produces outcomes in terms of probability distributions. This means that the state of a quantum system is not fixed until it is measured.   \n",
    "\n",
    "One example of this is presented through qubit superposition, as mentioned above, where a qubit can simulatnaeously represent both 0 and 1 until it is measured. Until this point, qubits are considered by the probability of it being measured as 0 or 1. When this idea is applied, for example in quantum circuits, results will reflect these probabilities over many runs, providing a meaningful distrbutoin of possible outcomes.   \n",
    "\n",
    "Each possible state in a quantum system has a complex number called an amplitude, which when squared, gives the probability of observing that state upon measurement. The probability distribution is derived from these amplitudes and provides a snapshot of where the qubit is likely found. \n",
    "\n",
    "Understanding probability distribution is fundamental to interpreting quantum computing results.  Thankfully, Quiskit includes tools to visualize these distributions which we will go over later in this tutorial. \n"
   ]
  },
  {
   "cell_type": "markdown",
   "metadata": {},
   "source": [
    "**Interference** \n",
    "\n",
    "Interference is the manner in which different paths of quantum information overlap and either reinforce or cancel each other. This interference is key to algorithms because it is used to affect the probability amplitides of certain outcomes. Interference is the foundation of algorithms like Grover’s Search where the probabilities of correct values are amplified to appear ore frequently. At the same time, Grover’s Serach also uses destrictuve interference to diminish the probabilities of other outcomes. These ideas are key to understanding why quantum computers perform more efficiently than classical computers. "
   ]
  },
  {
   "cell_type": "markdown",
   "metadata": {},
   "source": [
    "**Decoherence** \n",
    "\n",
    "Decoherence is the process where a quantum system looses it quantum properties and reverts back to a classical system. Environmental factors (such as electromagnetic waves interaciting with quibits) that disrupt the quantum system are responsible for this process. This disruption can cause quibits in the system to loose their key properties, such as superoostion and entanglements. Ultimately, this leads to erros during computation and is one of the main challenged faced in the proces of building reliable quantum computers. \n",
    "\n",
    "\n"
   ]
  },
  {
   "cell_type": "markdown",
   "metadata": {},
   "source": [
    "## Quantum Logic Gates"
   ]
  },
  {
   "cell_type": "markdown",
   "metadata": {},
   "source": [
    "## Measurement"
   ]
  },
  {
   "cell_type": "markdown",
   "metadata": {},
   "source": [
    "# References\n",
    "\n",
    "Source and what not"
   ]
  }
 ],
 "metadata": {
  "kernelspec": {
   "display_name": "Python 3",
   "language": "python",
   "name": "python3"
  },
  "language_info": {
   "name": "python",
   "version": "3.11.9"
  }
 },
 "nbformat": 4,
 "nbformat_minor": 2
}
