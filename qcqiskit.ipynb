{
 "cells": [
  {
   "cell_type": "markdown",
   "metadata": {},
   "source": [
    "# Learning Quantum Computing with Qiskit\n",
    "\n",
    "Quantum computing is a rapidly advancing field with the potential to redefine computation and problem-solving as we know it. As technology advances, quantum computers show promise in tackling challenges that are currently out of reach for classical computers. By understanding the basics of quantum computing, enthusiasts and professionals alike can begin to appreciate its transformative capabilities and future applications.\n",
    "\n",
    "Quantum computers can solve problems exponentially faster than traditional computers, allowing them to tackle issues that would take classical computers thousands of years in mere minutes. Consequently, it has major applications in fields like materials science, chemistry, and molecular biology. Additionally, quantum computing has significant implications for cybersecurity. Its sheer computational power threatens current encryption protocols. In turn, it drives the development of post-quantum cryptography, which promises stronger data protection in an age where quantum computers are commonplace. Through this tutorial, we aim to provide users with an introduction to this field using Qiskit. Qiskit is an open source Python SDK developed by IBM, who is a leader in quantum computing. Through Qiskit, we can access their quantum computers to run our own programs.\n",
    "\n",
    "#### Learning Objectives\n",
    "By the end of this tutorial, you will:\n",
    "+ Understand the basics of quantum computing\n",
    "+ Be familiar with the basics of the Qiskit SDK\n",
    "+ Understand the Qiskit workflow\n",
    "+ Have enough background knowledge to learn more about and start quantum computing projects"
   ]
  },
  {
   "cell_type": "markdown",
   "metadata": {
    "vscode": {
     "languageId": "powershell"
    }
   },
   "source": [
    "#### Before you start \n",
    "This tutorial is meant for those who:\n",
    "+ Are comfortable with Python\n",
    "+ Are familiar with Matplotlib (recommended)\n",
    "+ Know some linear algebra (recommended)\n",
    "+ Have no prior experience with quantum information/computing!"
   ]
  },
  {
   "cell_type": "markdown",
   "metadata": {},
   "source": [
    "This tutorial also uses LaTeX, so be sure you have the Juptyer LaTeX library installed."
   ]
  },
  {
   "cell_type": "code",
   "execution_count": 6,
   "metadata": {
    "vscode": {
     "languageId": "powershell"
    }
   },
   "outputs": [
    {
     "name": "stdout",
     "output_type": "stream",
     "text": [
      "Collecting jupyterlab-latexNote: you may need to restart the kernel to use updated packages.\n",
      "\n",
      "  Downloading jupyterlab_latex-4.3.0-py3-none-any.whl.metadata (14 kB)\n",
      "Collecting jupyter-server<3,>=2.0.1 (from jupyterlab-latex)\n",
      "  Downloading jupyter_server-2.14.2-py3-none-any.whl.metadata (8.4 kB)\n",
      "Collecting anyio>=3.1.0 (from jupyter-server<3,>=2.0.1->jupyterlab-latex)\n",
      "  Downloading anyio-4.7.0-py3-none-any.whl.metadata (4.7 kB)\n",
      "Collecting argon2-cffi>=21.1 (from jupyter-server<3,>=2.0.1->jupyterlab-latex)\n",
      "  Downloading argon2_cffi-23.1.0-py3-none-any.whl.metadata (5.2 kB)\n",
      "Collecting jinja2>=3.0.3 (from jupyter-server<3,>=2.0.1->jupyterlab-latex)\n",
      "  Using cached jinja2-3.1.4-py3-none-any.whl.metadata (2.6 kB)\n",
      "Requirement already satisfied: jupyter-client>=7.4.4 in c:\\users\\maddi\\miniconda3\\envs\\qenv\\lib\\site-packages (from jupyter-server<3,>=2.0.1->jupyterlab-latex) (8.6.3)\n",
      "Requirement already satisfied: jupyter-core!=5.0.*,>=4.12 in c:\\users\\maddi\\miniconda3\\envs\\qenv\\lib\\site-packages (from jupyter-server<3,>=2.0.1->jupyterlab-latex) (5.7.2)\n",
      "Collecting jupyter-events>=0.9.0 (from jupyter-server<3,>=2.0.1->jupyterlab-latex)\n",
      "  Downloading jupyter_events-0.10.0-py3-none-any.whl.metadata (5.9 kB)\n",
      "Collecting jupyter-server-terminals>=0.4.4 (from jupyter-server<3,>=2.0.1->jupyterlab-latex)\n",
      "  Downloading jupyter_server_terminals-0.5.3-py3-none-any.whl.metadata (5.6 kB)\n",
      "Collecting nbconvert>=6.4.4 (from jupyter-server<3,>=2.0.1->jupyterlab-latex)\n",
      "  Downloading nbconvert-7.16.4-py3-none-any.whl.metadata (8.5 kB)\n",
      "Collecting nbformat>=5.3.0 (from jupyter-server<3,>=2.0.1->jupyterlab-latex)\n",
      "  Downloading nbformat-5.10.4-py3-none-any.whl.metadata (3.6 kB)\n",
      "Collecting overrides>=5.0 (from jupyter-server<3,>=2.0.1->jupyterlab-latex)\n",
      "  Downloading overrides-7.7.0-py3-none-any.whl.metadata (5.8 kB)\n",
      "Requirement already satisfied: packaging>=22.0 in c:\\users\\maddi\\miniconda3\\envs\\qenv\\lib\\site-packages (from jupyter-server<3,>=2.0.1->jupyterlab-latex) (24.1)\n",
      "Collecting prometheus-client>=0.9 (from jupyter-server<3,>=2.0.1->jupyterlab-latex)\n",
      "  Downloading prometheus_client-0.21.1-py3-none-any.whl.metadata (1.8 kB)\n",
      "Collecting pywinpty>=2.0.1 (from jupyter-server<3,>=2.0.1->jupyterlab-latex)\n",
      "  Downloading pywinpty-2.0.14-cp313-none-win_amd64.whl.metadata (5.2 kB)\n",
      "Requirement already satisfied: pyzmq>=24 in c:\\users\\maddi\\miniconda3\\envs\\qenv\\lib\\site-packages (from jupyter-server<3,>=2.0.1->jupyterlab-latex) (26.2.0)\n",
      "Collecting send2trash>=1.8.2 (from jupyter-server<3,>=2.0.1->jupyterlab-latex)\n",
      "  Downloading Send2Trash-1.8.3-py3-none-any.whl.metadata (4.0 kB)\n",
      "Collecting terminado>=0.8.3 (from jupyter-server<3,>=2.0.1->jupyterlab-latex)\n",
      "  Downloading terminado-0.18.1-py3-none-any.whl.metadata (5.8 kB)\n",
      "Requirement already satisfied: tornado>=6.2.0 in c:\\users\\maddi\\miniconda3\\envs\\qenv\\lib\\site-packages (from jupyter-server<3,>=2.0.1->jupyterlab-latex) (6.4.1)\n",
      "Requirement already satisfied: traitlets>=5.6.0 in c:\\users\\maddi\\miniconda3\\envs\\qenv\\lib\\site-packages (from jupyter-server<3,>=2.0.1->jupyterlab-latex) (5.14.3)\n",
      "Requirement already satisfied: websocket-client>=1.7 in c:\\users\\maddi\\miniconda3\\envs\\qenv\\lib\\site-packages (from jupyter-server<3,>=2.0.1->jupyterlab-latex) (1.8.0)\n",
      "Requirement already satisfied: idna>=2.8 in c:\\users\\maddi\\miniconda3\\envs\\qenv\\lib\\site-packages (from anyio>=3.1.0->jupyter-server<3,>=2.0.1->jupyterlab-latex) (3.10)\n",
      "Collecting sniffio>=1.1 (from anyio>=3.1.0->jupyter-server<3,>=2.0.1->jupyterlab-latex)\n",
      "  Downloading sniffio-1.3.1-py3-none-any.whl.metadata (3.9 kB)\n",
      "Collecting argon2-cffi-bindings (from argon2-cffi>=21.1->jupyter-server<3,>=2.0.1->jupyterlab-latex)\n",
      "  Downloading argon2_cffi_bindings-21.2.0-cp36-abi3-win_amd64.whl.metadata (6.7 kB)\n",
      "Collecting MarkupSafe>=2.0 (from jinja2>=3.0.3->jupyter-server<3,>=2.0.1->jupyterlab-latex)\n",
      "  Using cached MarkupSafe-3.0.2-cp313-cp313-win_amd64.whl.metadata (4.1 kB)\n",
      "Requirement already satisfied: python-dateutil>=2.8.2 in c:\\users\\maddi\\miniconda3\\envs\\qenv\\lib\\site-packages (from jupyter-client>=7.4.4->jupyter-server<3,>=2.0.1->jupyterlab-latex) (2.9.0)\n",
      "Requirement already satisfied: platformdirs>=2.5 in c:\\users\\maddi\\miniconda3\\envs\\qenv\\lib\\site-packages (from jupyter-core!=5.0.*,>=4.12->jupyter-server<3,>=2.0.1->jupyterlab-latex) (4.3.6)\n",
      "Requirement already satisfied: pywin32>=300 in c:\\users\\maddi\\miniconda3\\envs\\qenv\\lib\\site-packages (from jupyter-core!=5.0.*,>=4.12->jupyter-server<3,>=2.0.1->jupyterlab-latex) (307)\n",
      "Collecting jsonschema>=4.18.0 (from jsonschema[format-nongpl]>=4.18.0->jupyter-events>=0.9.0->jupyter-server<3,>=2.0.1->jupyterlab-latex)\n",
      "  Downloading jsonschema-4.23.0-py3-none-any.whl.metadata (7.9 kB)\n",
      "Collecting python-json-logger>=2.0.4 (from jupyter-events>=0.9.0->jupyter-server<3,>=2.0.1->jupyterlab-latex)\n",
      "  Downloading python_json_logger-3.2.0-py3-none-any.whl.metadata (4.4 kB)\n",
      "Collecting pyyaml>=5.3 (from jupyter-events>=0.9.0->jupyter-server<3,>=2.0.1->jupyterlab-latex)\n",
      "  Using cached PyYAML-6.0.2-cp313-cp313-win_amd64.whl.metadata (2.1 kB)\n",
      "Collecting referencing (from jupyter-events>=0.9.0->jupyter-server<3,>=2.0.1->jupyterlab-latex)\n",
      "  Downloading referencing-0.35.1-py3-none-any.whl.metadata (2.8 kB)\n",
      "Collecting rfc3339-validator (from jupyter-events>=0.9.0->jupyter-server<3,>=2.0.1->jupyterlab-latex)\n",
      "  Downloading rfc3339_validator-0.1.4-py2.py3-none-any.whl.metadata (1.5 kB)\n",
      "Collecting rfc3986-validator>=0.1.1 (from jupyter-events>=0.9.0->jupyter-server<3,>=2.0.1->jupyterlab-latex)\n",
      "  Downloading rfc3986_validator-0.1.1-py2.py3-none-any.whl.metadata (1.7 kB)\n",
      "Collecting beautifulsoup4 (from nbconvert>=6.4.4->jupyter-server<3,>=2.0.1->jupyterlab-latex)\n",
      "  Downloading beautifulsoup4-4.12.3-py3-none-any.whl.metadata (3.8 kB)\n",
      "Collecting bleach!=5.0.0 (from nbconvert>=6.4.4->jupyter-server<3,>=2.0.1->jupyterlab-latex)\n",
      "  Downloading bleach-6.2.0-py3-none-any.whl.metadata (30 kB)\n",
      "Collecting defusedxml (from nbconvert>=6.4.4->jupyter-server<3,>=2.0.1->jupyterlab-latex)\n",
      "  Downloading defusedxml-0.7.1-py2.py3-none-any.whl.metadata (32 kB)\n",
      "Collecting jupyterlab-pygments (from nbconvert>=6.4.4->jupyter-server<3,>=2.0.1->jupyterlab-latex)\n",
      "  Downloading jupyterlab_pygments-0.3.0-py3-none-any.whl.metadata (4.4 kB)\n",
      "Collecting mistune<4,>=2.0.3 (from nbconvert>=6.4.4->jupyter-server<3,>=2.0.1->jupyterlab-latex)\n",
      "  Downloading mistune-3.0.2-py3-none-any.whl.metadata (1.7 kB)\n",
      "Collecting nbclient>=0.5.0 (from nbconvert>=6.4.4->jupyter-server<3,>=2.0.1->jupyterlab-latex)\n",
      "  Downloading nbclient-0.10.1-py3-none-any.whl.metadata (8.2 kB)\n",
      "Collecting pandocfilters>=1.4.1 (from nbconvert>=6.4.4->jupyter-server<3,>=2.0.1->jupyterlab-latex)\n",
      "  Downloading pandocfilters-1.5.1-py2.py3-none-any.whl.metadata (9.0 kB)\n",
      "Requirement already satisfied: pygments>=2.4.1 in c:\\users\\maddi\\miniconda3\\envs\\qenv\\lib\\site-packages (from nbconvert>=6.4.4->jupyter-server<3,>=2.0.1->jupyterlab-latex) (2.18.0)\n",
      "Collecting tinycss2 (from nbconvert>=6.4.4->jupyter-server<3,>=2.0.1->jupyterlab-latex)\n",
      "  Downloading tinycss2-1.4.0-py3-none-any.whl.metadata (3.0 kB)\n",
      "Collecting fastjsonschema>=2.15 (from nbformat>=5.3.0->jupyter-server<3,>=2.0.1->jupyterlab-latex)\n",
      "  Downloading fastjsonschema-2.21.1-py3-none-any.whl.metadata (2.2 kB)\n",
      "Collecting webencodings (from bleach!=5.0.0->nbconvert>=6.4.4->jupyter-server<3,>=2.0.1->jupyterlab-latex)\n",
      "  Downloading webencodings-0.5.1-py2.py3-none-any.whl.metadata (2.1 kB)\n",
      "Collecting attrs>=22.2.0 (from jsonschema>=4.18.0->jsonschema[format-nongpl]>=4.18.0->jupyter-events>=0.9.0->jupyter-server<3,>=2.0.1->jupyterlab-latex)\n",
      "  Downloading attrs-24.2.0-py3-none-any.whl.metadata (11 kB)\n",
      "Collecting jsonschema-specifications>=2023.03.6 (from jsonschema>=4.18.0->jsonschema[format-nongpl]>=4.18.0->jupyter-events>=0.9.0->jupyter-server<3,>=2.0.1->jupyterlab-latex)\n",
      "  Downloading jsonschema_specifications-2024.10.1-py3-none-any.whl.metadata (3.0 kB)\n",
      "Collecting rpds-py>=0.7.1 (from jsonschema>=4.18.0->jsonschema[format-nongpl]>=4.18.0->jupyter-events>=0.9.0->jupyter-server<3,>=2.0.1->jupyterlab-latex)\n",
      "  Downloading rpds_py-0.22.3-cp313-cp313-win_amd64.whl.metadata (4.2 kB)\n",
      "Collecting fqdn (from jsonschema[format-nongpl]>=4.18.0->jupyter-events>=0.9.0->jupyter-server<3,>=2.0.1->jupyterlab-latex)\n",
      "  Downloading fqdn-1.5.1-py3-none-any.whl.metadata (1.4 kB)\n",
      "Collecting isoduration (from jsonschema[format-nongpl]>=4.18.0->jupyter-events>=0.9.0->jupyter-server<3,>=2.0.1->jupyterlab-latex)\n",
      "  Downloading isoduration-20.11.0-py3-none-any.whl.metadata (5.7 kB)\n",
      "Collecting jsonpointer>1.13 (from jsonschema[format-nongpl]>=4.18.0->jupyter-events>=0.9.0->jupyter-server<3,>=2.0.1->jupyterlab-latex)\n",
      "  Downloading jsonpointer-3.0.0-py2.py3-none-any.whl.metadata (2.3 kB)\n",
      "Collecting uri-template (from jsonschema[format-nongpl]>=4.18.0->jupyter-events>=0.9.0->jupyter-server<3,>=2.0.1->jupyterlab-latex)\n",
      "  Downloading uri_template-1.3.0-py3-none-any.whl.metadata (8.8 kB)\n",
      "Collecting webcolors>=24.6.0 (from jsonschema[format-nongpl]>=4.18.0->jupyter-events>=0.9.0->jupyter-server<3,>=2.0.1->jupyterlab-latex)\n",
      "  Downloading webcolors-24.11.1-py3-none-any.whl.metadata (2.2 kB)\n",
      "Requirement already satisfied: six>=1.5 in c:\\users\\maddi\\miniconda3\\envs\\qenv\\lib\\site-packages (from python-dateutil>=2.8.2->jupyter-client>=7.4.4->jupyter-server<3,>=2.0.1->jupyterlab-latex) (1.16.0)\n",
      "Requirement already satisfied: cffi>=1.0.1 in c:\\users\\maddi\\miniconda3\\envs\\qenv\\lib\\site-packages (from argon2-cffi-bindings->argon2-cffi>=21.1->jupyter-server<3,>=2.0.1->jupyterlab-latex) (1.17.1)\n",
      "Collecting soupsieve>1.2 (from beautifulsoup4->nbconvert>=6.4.4->jupyter-server<3,>=2.0.1->jupyterlab-latex)\n",
      "  Downloading soupsieve-2.6-py3-none-any.whl.metadata (4.6 kB)\n",
      "Requirement already satisfied: pycparser in c:\\users\\maddi\\miniconda3\\envs\\qenv\\lib\\site-packages (from cffi>=1.0.1->argon2-cffi-bindings->argon2-cffi>=21.1->jupyter-server<3,>=2.0.1->jupyterlab-latex) (2.22)\n",
      "Collecting arrow>=0.15.0 (from isoduration->jsonschema[format-nongpl]>=4.18.0->jupyter-events>=0.9.0->jupyter-server<3,>=2.0.1->jupyterlab-latex)\n",
      "  Downloading arrow-1.3.0-py3-none-any.whl.metadata (7.5 kB)\n",
      "Collecting types-python-dateutil>=2.8.10 (from arrow>=0.15.0->isoduration->jsonschema[format-nongpl]>=4.18.0->jupyter-events>=0.9.0->jupyter-server<3,>=2.0.1->jupyterlab-latex)\n",
      "  Downloading types_python_dateutil-2.9.0.20241206-py3-none-any.whl.metadata (2.1 kB)\n",
      "Downloading jupyterlab_latex-4.3.0-py3-none-any.whl (382 kB)\n",
      "Downloading jupyter_server-2.14.2-py3-none-any.whl (383 kB)\n",
      "Downloading anyio-4.7.0-py3-none-any.whl (93 kB)\n",
      "Downloading argon2_cffi-23.1.0-py3-none-any.whl (15 kB)\n",
      "Using cached jinja2-3.1.4-py3-none-any.whl (133 kB)\n",
      "Downloading jupyter_events-0.10.0-py3-none-any.whl (18 kB)\n",
      "Downloading jupyter_server_terminals-0.5.3-py3-none-any.whl (13 kB)\n",
      "Downloading nbconvert-7.16.4-py3-none-any.whl (257 kB)\n",
      "Downloading nbformat-5.10.4-py3-none-any.whl (78 kB)\n",
      "Downloading overrides-7.7.0-py3-none-any.whl (17 kB)\n",
      "Downloading prometheus_client-0.21.1-py3-none-any.whl (54 kB)\n",
      "Downloading pywinpty-2.0.14-cp313-none-win_amd64.whl (1.4 MB)\n",
      "   ---------------------------------------- 0.0/1.4 MB ? eta -:--:--\n",
      "   ---------------------------------------- 1.4/1.4 MB 16.4 MB/s eta 0:00:00\n",
      "Downloading Send2Trash-1.8.3-py3-none-any.whl (18 kB)\n",
      "Downloading terminado-0.18.1-py3-none-any.whl (14 kB)\n",
      "Downloading bleach-6.2.0-py3-none-any.whl (163 kB)\n",
      "Downloading fastjsonschema-2.21.1-py3-none-any.whl (23 kB)\n",
      "Downloading jsonschema-4.23.0-py3-none-any.whl (88 kB)\n",
      "Using cached MarkupSafe-3.0.2-cp313-cp313-win_amd64.whl (15 kB)\n",
      "Downloading mistune-3.0.2-py3-none-any.whl (47 kB)\n",
      "Downloading nbclient-0.10.1-py3-none-any.whl (25 kB)\n",
      "Downloading pandocfilters-1.5.1-py2.py3-none-any.whl (8.7 kB)\n",
      "Downloading python_json_logger-3.2.0-py3-none-any.whl (14 kB)\n",
      "Using cached PyYAML-6.0.2-cp313-cp313-win_amd64.whl (156 kB)\n",
      "Downloading referencing-0.35.1-py3-none-any.whl (26 kB)\n",
      "Downloading rfc3986_validator-0.1.1-py2.py3-none-any.whl (4.2 kB)\n",
      "Downloading sniffio-1.3.1-py3-none-any.whl (10 kB)\n",
      "Downloading argon2_cffi_bindings-21.2.0-cp36-abi3-win_amd64.whl (30 kB)\n",
      "Downloading beautifulsoup4-4.12.3-py3-none-any.whl (147 kB)\n",
      "Downloading defusedxml-0.7.1-py2.py3-none-any.whl (25 kB)\n",
      "Downloading jupyterlab_pygments-0.3.0-py3-none-any.whl (15 kB)\n",
      "Downloading rfc3339_validator-0.1.4-py2.py3-none-any.whl (3.5 kB)\n",
      "Downloading tinycss2-1.4.0-py3-none-any.whl (26 kB)\n",
      "Downloading attrs-24.2.0-py3-none-any.whl (63 kB)\n",
      "Downloading jsonpointer-3.0.0-py2.py3-none-any.whl (7.6 kB)\n",
      "Downloading jsonschema_specifications-2024.10.1-py3-none-any.whl (18 kB)\n",
      "Downloading rpds_py-0.22.3-cp313-cp313-win_amd64.whl (235 kB)\n",
      "Downloading soupsieve-2.6-py3-none-any.whl (36 kB)\n",
      "Downloading webcolors-24.11.1-py3-none-any.whl (14 kB)\n",
      "Downloading webencodings-0.5.1-py2.py3-none-any.whl (11 kB)\n",
      "Downloading fqdn-1.5.1-py3-none-any.whl (9.1 kB)\n",
      "Downloading isoduration-20.11.0-py3-none-any.whl (11 kB)\n",
      "Downloading uri_template-1.3.0-py3-none-any.whl (11 kB)\n",
      "Downloading arrow-1.3.0-py3-none-any.whl (66 kB)\n",
      "Downloading types_python_dateutil-2.9.0.20241206-py3-none-any.whl (14 kB)\n",
      "Installing collected packages: webencodings, fastjsonschema, webcolors, uri-template, types-python-dateutil, tinycss2, soupsieve, sniffio, send2trash, rpds-py, rfc3986-validator, rfc3339-validator, pyyaml, pywinpty, python-json-logger, prometheus-client, pandocfilters, overrides, mistune, MarkupSafe, jupyterlab-pygments, jsonpointer, fqdn, defusedxml, bleach, attrs, terminado, referencing, jinja2, beautifulsoup4, arrow, argon2-cffi-bindings, anyio, jupyter-server-terminals, jsonschema-specifications, isoduration, argon2-cffi, jsonschema, nbformat, nbclient, jupyter-events, nbconvert, jupyter-server, jupyterlab-latex\n",
      "Successfully installed MarkupSafe-3.0.2 anyio-4.7.0 argon2-cffi-23.1.0 argon2-cffi-bindings-21.2.0 arrow-1.3.0 attrs-24.2.0 beautifulsoup4-4.12.3 bleach-6.2.0 defusedxml-0.7.1 fastjsonschema-2.21.1 fqdn-1.5.1 isoduration-20.11.0 jinja2-3.1.4 jsonpointer-3.0.0 jsonschema-4.23.0 jsonschema-specifications-2024.10.1 jupyter-events-0.10.0 jupyter-server-2.14.2 jupyter-server-terminals-0.5.3 jupyterlab-latex-4.3.0 jupyterlab-pygments-0.3.0 mistune-3.0.2 nbclient-0.10.1 nbconvert-7.16.4 nbformat-5.10.4 overrides-7.7.0 pandocfilters-1.5.1 prometheus-client-0.21.1 python-json-logger-3.2.0 pywinpty-2.0.14 pyyaml-6.0.2 referencing-0.35.1 rfc3339-validator-0.1.4 rfc3986-validator-0.1.1 rpds-py-0.22.3 send2trash-1.8.3 sniffio-1.3.1 soupsieve-2.6 terminado-0.18.1 tinycss2-1.4.0 types-python-dateutil-2.9.0.20241206 uri-template-1.3.0 webcolors-24.11.1 webencodings-0.5.1\n"
     ]
    }
   ],
   "source": [
    "%pip install jupyterlab-latex"
   ]
  },
  {
   "cell_type": "markdown",
   "metadata": {},
   "source": [
    "# I. Introduction to Quantum Computing\n",
    "\n",
    "In this section, we’ll provide an overview of some foundational concepts in quantum computing. This will be a theory-focused section where we learn crucial background knowledge necessary for the rest of the tutorial. The main goal is to introduce key differences between classical and quantum computing, along with essential quantum concepts, in a beginner-friendly manner. After this section, you should have a high-level understanding of how what quantum computing entails and feel prepared to explore the basics of quantum programming through Qiskit. "
   ]
  },
  {
   "cell_type": "markdown",
   "metadata": {},
   "source": [
    "## Classical Computing vs. Quantum Computing\n",
    "\n",
    "Quantum computing works in a different way than the classical computing that we're used to. A classical computer is what you are viewing this on right now, and includes things like laptops, PCs, smartphones, and tablets. Quantum computers are a new technology, and are typically kept in strictly monitored environments that prevent physical disturbances to the computer. These computers have a much higher processing power than their classical counterparts. Even though they are both computers, the way they operate is fundamentally different. The following are some key differences in how these computers work: \n",
    "\n",
    "### Classical Computers\n",
    "* Store data in bits\n",
    "* Operations are based on Boolean algebra\n",
    "* Circuits are modeled from classical physics\n",
    "* Bits can only be in two states: 0 or 1\n",
    "\n",
    "### Quantum Computers\n",
    "* Store data in qubits\n",
    "* Operations are based on linear algebra\n",
    "* Circuits are modeled from quantum mechanics\n",
    "* Qubits can be in a combination of 0 or 1, meaning there are infinitely many unique qubit states\n"
   ]
  },
  {
   "cell_type": "markdown",
   "metadata": {},
   "source": [
    "## What is a Qubit?\n",
    "\n",
    "A qubit, which is short for quantum bit, is the basic unit of information in quantum computing.\n",
    "A qubit is a two-state quantum system that can represent a 0, a 1, or any proportion of both. A two-state quantum system has two physically distinguishable features. These features are what encode 0 and 1. For example, the spin of an electron can be used as a qubit, with spin up and spin down representing 0 and 1 respectively. Overall, qubits are created by manipulating and measuring quantum particles, such as electrons, photons, and trapped ions. \n",
    "\n",
    "Additionally, qubits use quantum mechanical phenomena like superposition and entanglement to encode and process information.\n",
    "\n",
    "1. **Superposition** is the principle that a quantum system can exist in multiple states simultaneously. For instance, in a classical scenario, a coin must be either heads or tails when observed. However, in quantum mechanics, a qubit can be in a state of \"0\" and \"1\" at the same time until it is measured. When the qubit is measured, it \"collapses\" into one of the two possible outcomes (either \"0\" or \"1\").\n",
    "\n",
    "2. **Entanglement** is a quantum phenomenon where two or more particles become interconnected in such a way that the state of one particle directly affects the state of the other, no matter the distance between them. This connection creates a \"shared\" state across particles.\n",
    "\n",
    "Furthermore, qubits behave differently from classical bits because of the quantum properties they have. Quantum computing uses qubits to execute calculations instead of the electrical signals used in classical computing. "
   ]
  },
  {
   "cell_type": "markdown",
   "metadata": {},
   "source": [
    "## Notation"
   ]
  },
  {
   "cell_type": "markdown",
   "metadata": {},
   "source": [
    "To better understand qubits, we need a way to represent them. The most common way this is done is with **Dirac Notation**, also known as **Bra-ket** notation.\n",
    "\n",
    "We can notate an arbitrary qubit as follows:\n",
    "\n",
    "$$\n",
    "\\ket{\\psi} = \\alpha\\ket{0} + \\beta\\ket{1}\n",
    "$$\n",
    "\n",
    "Note that $\\ket{}$ is called a ket\n",
    "\n",
    "Here, the qubit $\\ket{\\psi}$ is in superposition. Recall that this means that it's some proportion of both $\\ket{0}$ and $\\ket{1}$. Due to quantum mechanics, when we measure this qubit, it collapses and we observe it as either $\\ket{0}$ or $\\ket{1}$. It turns out, what we see depends on the superposition.\n",
    "\n",
    "In particular, the probability that we find the qubit in $\\ket{0}$ is $|\\alpha|^2$ and the probability we find qubit in $\\ket{1}$ is $|\\beta|^2$.\n",
    "\n",
    "Also note that since we find *either* $\\ket{0}$ or $\\ket{1}$, it must be true that $|\\alpha|^2 + |\\beta|^2 = 1$. In other words, the probabilites must sum to 100%. \n",
    "\n",
    "These kets can also be represented as column vectors. In particular,\n",
    "\n",
    "$$\n",
    "\\ket{0} = \\begin{bmatrix}1 \\\\ 0 \\end{bmatrix}\n",
    "\\:\n",
    "\\ket{1} = \\begin{bmatrix}0 \\\\ 1 \\end{bmatrix}\n",
    "$$\n",
    "\n",
    "Therefore,\n",
    "$\\ket{\\psi} = \\begin{bmatrix}\\alpha \\\\ \\beta \\end{bmatrix}$.\n",
    "\n",
    "This notation proves useful when trying to understanding quantum logic gates (explained in the next section).\n",
    "\n",
    "We can extend this notation to include states with multiple qubits. Let's first consider the basis states $\\ket{0}$ and $\\ket{1}$. For a two-qubit state with qubits $A$ and $B$, there are 4 possible basis states: when both qubits are $\\ket{0}$, qubit $A$ is $\\ket{0}$ and qubit $B$ is $\\ket{1}$, qubit $A$ is $\\ket{1}$ and qubit $B$ is $\\ket{0}$, and when both qubits are $\\ket{1}$. In Dirac notation:\n",
    "\n",
    "$$\n",
    "\\ket{0}_A\\ket{0}_B \\to \\ket{00}\n",
    "\\newline\n",
    "\\ket{0}_A\\ket{1}_B \\to \\ket{01}\n",
    "\\newline\n",
    "\\ket{1}_A\\ket{0}_B \\to \\ket{10}\n",
    "\\newline\n",
    "\\ket{1}_A\\ket{1}_B \\to \\ket{11}\n",
    "$$\n",
    "\n",
    "So, for an arbitrary two-qubit state:\n",
    "\n",
    "$$\n",
    "\\ket{\\psi} = \\alpha\\ket{00} + \\beta\\ket{01} + \\gamma\\ket{10} + \\delta\\ket{11}\n",
    "$$\n",
    "\n",
    "Here, $\\ket{\\psi}$ represents a two-qubit state in an arbitrary superposition. From this state, we can see that there's a probability of:\n",
    "+ $|\\alpha|^2$ that both qubits are $\\ket{0}$ (which is notated as $\\ket{00}$)\n",
    "+ $|\\beta|^2$ that the first qubit is $\\ket{0}$ and the second qubit is $\\ket{1}$ (notated as $\\ket{01}$)\n",
    "+ $|\\gamma|^2$ that the first qubit is $\\ket{1}$ and the second qubit is $\\ket{0}$ (notated as $\\ket{10}$)\n",
    "+ $|\\delta|^2$ that both qubits are $\\ket{1}$ (notated as $\\ket{11}$)\n",
    "\n",
    "As vectors:\n",
    "\n",
    "$$\n",
    "\\ket{00} = \\begin{bmatrix}1 \\\\ 0 \\\\ 0 \\\\ 0 \\end{bmatrix}\n",
    "\\:\n",
    "\\ket{01} = \\begin{bmatrix}0 \\\\ 1 \\\\ 0 \\\\ 0 \\end{bmatrix}\n",
    "\\:\n",
    "\\ket{10} = \\begin{bmatrix}0 \\\\ 0 \\\\ 1 \\\\ 0 \\end{bmatrix}\n",
    "\\:\n",
    "\\ket{11} = \\begin{bmatrix}0 \\\\ 0 \\\\ 0 \\\\ 1 \\end{bmatrix}\n",
    "\\:\n",
    "\\ket{\\psi} = \\begin{bmatrix}\\alpha \\\\ \\beta \\\\ \\delta \\\\ \\gamma \\end{bmatrix}\n"
   ]
  },
  {
   "cell_type": "markdown",
   "metadata": {},
   "source": [
    "## Quantum Logic Gates\n",
    "At the circuit level, classical computers are a bunch of logic gates. Similarly, the circuits for quantum computers make use of *quantum logic gates*, which are also known as *operators*. Mathematically, these logic gates are matrices. When a qubit goes through a gate in a quantum circuit, the qubit (represented as a vector) is transformed by the gates (which are matrices) via matrix multiplication. Here, we will go over some of the major gates and what they are used for.\n",
    "\n",
    "### X Gate\n",
    "$$ \n",
    "X = \n",
    "\\begin{bmatrix}\n",
    "0 & 1 \\\\\n",
    "1 & 0\n",
    "\\end{bmatrix}\n",
    "$$ \n",
    "\n",
    "So,\n",
    "\n",
    "$X\\ket{0} = \\ket{1}$\n",
    "\n",
    "$X\\ket{1} = \\ket{0}$\n",
    "\n",
    "$X\\ket{\\psi} = \\alpha\\ket{1} + \\beta\\ket{0}$\n",
    "\n",
    "We can think of the $X$-gate as a NOT gate.\n",
    "\n",
    "### Z Gate\n",
    "$$ \n",
    "Z = \n",
    "\\begin{bmatrix}\n",
    "1 & 0 \\\\\n",
    "0 & -1\n",
    "\\end{bmatrix}\n",
    "$$ \n",
    "\n",
    "So,\n",
    "\n",
    "$Z\\ket{0} = \\ket{0}$\n",
    "\n",
    "$Z\\ket{1} = -\\ket{1}$\n",
    "\n",
    "$Z\\ket{\\psi} = \\alpha\\ket{0} - \\beta\\ket{1}$\n",
    "\n",
    "The $Z$-gate performs a *phase shift* within our qubit. \n",
    "\n",
    "Here, the *phase* is the negative assign that got attached to $\\ket{1}$. Don't worry if you don't understand what a *phase* is, just understand that if we don't account for phases, we limit the number of possible states our qubits can have. So, we will need a way to add a phase to be able to fully manipulate our qubits.\n",
    "\n",
    "### Hadamard Gate\n",
    "$$\n",
    "H =\n",
    "\\begin{bmatrix}\n",
    "\\frac{1}{\\sqrt{2}} & \\frac{1}{\\sqrt{2}} \\\\\n",
    "\\frac{1}{\\sqrt{2}} & -\\frac{1}{\\sqrt{2}}\n",
    "\\end{bmatrix}\n",
    "$$\n",
    "\n",
    "So,\n",
    "\n",
    "$H\\ket{0} = \\frac{1}{\\sqrt{2}}\\ket{0} + \\frac{1}{\\sqrt{2}}\\ket{1}$\n",
    "\n",
    "$H\\ket{1} = \\frac{1}{\\sqrt{2}}\\ket{0} - \\frac{1}{\\sqrt{2}}\\ket{1}$\n",
    "\n",
    "$H\\ket{\\psi} = \\frac{\\alpha}{\\sqrt{2}}\\ket{0} - \\frac{\\beta}{\\sqrt{2}}\\ket{1}$\n",
    "\n",
    "\n",
    "The Hadamard gate puts a qubit into an equal superposition. This means that when we measure the output, there will be an equal chance to get any one of the qubit's basis states (i.e. $\\ket{0}$ and $\\ket{1}$). Note that for $\\ket{1}$, it adds a phase.\n",
    "\n",
    "### CNOT Gate\n",
    "Unlike the past three gates, CNOT gates act on two qubits at a time.\n",
    "$$\n",
    "CNOT =\n",
    "\\begin{bmatrix}\n",
    "1 & 0 & 0 & 0 \\\\\n",
    "0 & 1 & 0 & 0 \\\\\n",
    "0 & 0 & 0 & 1 \\\\\n",
    "0 & 0 & 1 & 0 \\\\\n",
    "\\end{bmatrix}\n",
    "$$\n",
    "\n",
    "So,\n",
    "\n",
    "$$\n",
    "CNOT\\ket{00} = \\ket{00}\n",
    "\\newline\n",
    "CNOT\\ket{01} = \\ket{01}\n",
    "\\newline\n",
    "CNOT\\ket{10} = \\ket{11}\n",
    "\\newline\n",
    "CNOT\\ket{00} = \\ket{10}\n",
    "$$\n",
    "\n",
    "The CNOT gate is a *controlled* NOT gate. It applies an X-gate on the target qubit depending on the value of the control qubit. Here, the control qubit is the first qubit, and the target qubit is the second qubit. So, whenever the first qubit is a $\\ket{1}$, the second qubit is flipped (as if a NOT gate was applied to it). If instead the first qubit is a $\\ket{0}$, nothing happens to the second qubit. \n",
    "\n",
    "This gate is used to entangle qubits together.\n"
   ]
  },
  {
   "cell_type": "markdown",
   "metadata": {},
   "source": [
    "## Additional Terminology & Concepts"
   ]
  },
  {
   "cell_type": "markdown",
   "metadata": {},
   "source": [
    "**Probabilistic Nature of Quantum Computers**\n",
    "\n",
    "Classical computing calculations yield definite answers (like 0s and 1s). However, since quantum computers use quantum mechanics, calculations are probabilistic. Consequently, a quantum program may yield different results each time it's run. As mentioned previously, the state of a qubit is not known with certainty until it is measured. After it's measured, it's state becomes definite.\n",
    "\n",
    "One example of this is presented through qubit superposition. As mentioned above, a qubit be in a state where it's simultaneously a little bit of both 0 and 1. In such states, qubits are understood as the probabilities of it being measured as 0 or 1. An interesting consequence of this is that we can perform computations in parallel, rather than in sequence like with classical computation. This is what allows for the exponential speedup that quantum computers are famous for. Since qubits can end up in superpostiion, results will reflect its probabilities of being either 0 or 1 over many runs, providing a meaningful distrbuion of possible outcomes.   \n",
    "\n",
    "Each possible basis state (for our purposes, $\\ket{0}$ and $\\ket{1}$) in a quantum system has a complex number called an amplitude, which when squared, gives the probability of observing that state upon measurement. Using the example of $\\ket{\\psi}$ from above, the amplitude for $\\ket{0}$ is $\\alpha$ and the amplitude for $\\ket{1}$ is $\\beta$. The probability distribution is derived from these amplitudes and provides a snapshot of what we will likely find when the qubit is measured. \n",
    "\n",
    "Understanding probability distribution is fundamental to interpreting quantum computing results.  Thankfully, Qiskit includes tools to visualize these distributions which we will go over later in this tutorial. \n"
   ]
  },
  {
   "cell_type": "markdown",
   "metadata": {},
   "source": [
    "**Observables** \n",
    "\n",
    "An observable is a physical quantity of a quantum system that can be measured. These observables are represented as operators because if a quantum state was transformed by that operator it would give us information on observable quantities of the system. Some example of physical quantities that can be measured with observables are position, momentum, and spin."
   ]
  },
  {
   "cell_type": "markdown",
   "metadata": {},
   "source": [
    "**Expectation Values** \n",
    "\n",
    "As we just discussed, the probabilistic nature of quantum mechanics means that each time we measure a system, it's value is dependent on some probability distribution. Just like with classical probability, an expectation value in quantum mechanics is the expected measurement of an experiment. More specifically, the expectation value is the average of all possible events weighted by their probability of occurring. \n",
    "\n",
    "With Dirac Notation:\n",
    "$$\n",
    "\\langle A \\rangle = \\bra{\\psi}A\\ket{\\psi}\n",
    "$$\n",
    "\n",
    "Where $\\ket{\\psi}$ is a quantum state (i.e. a qubit) and $A$ is an observable. In other words the expectation value $\\langle A \\rangle$ represents the average result after measuring A many times on state $\\ket{\\psi}$. \n",
    "\n",
    "More precisely, measuring an operator $A$ means projecting $\\ket{\\psi}$ onto one of A's eigenstates, which has a corresponding eigenvalue. "
   ]
  },
  {
   "cell_type": "markdown",
   "metadata": {},
   "source": [
    "# Part II. Using Qiskit\n",
    "\n",
    "Now that we've covered the basics of quantum computing, we can start coding! To do this we will be using IBM's Qiskit SDK. Qiskit is a software development kit (SDK) that allows you to run your own quantum programs on IBM's quantum computers. We will set up a quantum channel that connects us to IBM's quantum hardware so that we can create quantum programs and run them through the quantum channel."
   ]
  },
  {
   "cell_type": "markdown",
   "metadata": {},
   "source": [
    "## Setting up Qiskit"
   ]
  },
  {
   "cell_type": "markdown",
   "metadata": {},
   "source": [
    "### Installing Qiskit\n",
    "Before we jump into using Qiskit, we have to install it. We can do so using `pip`.\n",
    "\n",
    "*Note: Feel free to use a virtual environment if you prefer.*"
   ]
  },
  {
   "cell_type": "code",
   "execution_count": null,
   "metadata": {
    "vscode": {
     "languageId": "powershell"
    }
   },
   "outputs": [
    {
     "name": "stdout",
     "output_type": "stream",
     "text": [
      "Requirement already satisfied: qiskit in c:\\users\\maddi\\miniconda3\\envs\\qenv\\lib\\site-packages (1.2.4)Note: you may need to restart the kernel to use updated packages.\n",
      "\n",
      "Requirement already satisfied: rustworkx>=0.15.0 in c:\\users\\maddi\\miniconda3\\envs\\qenv\\lib\\site-packages (from qiskit) (0.15.1)\n",
      "Requirement already satisfied: numpy<3,>=1.17 in c:\\users\\maddi\\miniconda3\\envs\\qenv\\lib\\site-packages (from qiskit) (2.1.3)\n",
      "Requirement already satisfied: scipy>=1.5 in c:\\users\\maddi\\miniconda3\\envs\\qenv\\lib\\site-packages (from qiskit) (1.14.1)\n",
      "Requirement already satisfied: sympy>=1.3 in c:\\users\\maddi\\miniconda3\\envs\\qenv\\lib\\site-packages (from qiskit) (1.13.3)\n",
      "Requirement already satisfied: dill>=0.3 in c:\\users\\maddi\\miniconda3\\envs\\qenv\\lib\\site-packages (from qiskit) (0.3.9)\n",
      "Requirement already satisfied: python-dateutil>=2.8.0 in c:\\users\\maddi\\miniconda3\\envs\\qenv\\lib\\site-packages (from qiskit) (2.9.0)\n",
      "Requirement already satisfied: stevedore>=3.0.0 in c:\\users\\maddi\\miniconda3\\envs\\qenv\\lib\\site-packages (from qiskit) (5.3.0)\n",
      "Requirement already satisfied: typing-extensions in c:\\users\\maddi\\miniconda3\\envs\\qenv\\lib\\site-packages (from qiskit) (4.12.2)\n",
      "Requirement already satisfied: symengine<0.14,>=0.11 in c:\\users\\maddi\\miniconda3\\envs\\qenv\\lib\\site-packages (from qiskit) (0.13.0)\n",
      "Requirement already satisfied: six>=1.5 in c:\\users\\maddi\\miniconda3\\envs\\qenv\\lib\\site-packages (from python-dateutil>=2.8.0->qiskit) (1.16.0)\n",
      "Requirement already satisfied: pbr>=2.0.0 in c:\\users\\maddi\\miniconda3\\envs\\qenv\\lib\\site-packages (from stevedore>=3.0.0->qiskit) (6.1.0)\n",
      "Requirement already satisfied: mpmath<1.4,>=1.1.0 in c:\\users\\maddi\\miniconda3\\envs\\qenv\\lib\\site-packages (from sympy>=1.3->qiskit) (1.3.0)\n",
      "Requirement already satisfied: qiskit_ibm_runtime in c:\\users\\maddi\\miniconda3\\envs\\qenv\\lib\\site-packages (0.32.0)\n",
      "Requirement already satisfied: requests>=2.19 in c:\\users\\maddi\\miniconda3\\envs\\qenv\\lib\\site-packages (from qiskit_ibm_runtime) (2.32.3)\n",
      "Requirement already satisfied: requests-ntlm>=1.1.0 in c:\\users\\maddi\\miniconda3\\envs\\qenv\\lib\\site-packages (from qiskit_ibm_runtime) (1.3.0)\n",
      "Requirement already satisfied: numpy>=1.13 in c:\\users\\maddi\\miniconda3\\envs\\qenv\\lib\\site-packages (from qiskit_ibm_runtime) (2.1.3)\n",
      "Requirement already satisfied: urllib3>=1.21.1 in c:\\users\\maddi\\miniconda3\\envs\\qenv\\lib\\site-packages (from qiskit_ibm_runtime) (2.2.3)\n",
      "Requirement already satisfied: python-dateutil>=2.8.0 in c:\\users\\maddi\\miniconda3\\envs\\qenv\\lib\\site-packages (from qiskit_ibm_runtime) (2.9.0)\n",
      "Requirement already satisfied: websocket-client>=1.5.1 in c:\\users\\maddi\\miniconda3\\envs\\qenv\\lib\\site-packages (from qiskit_ibm_runtime) (1.8.0)\n",
      "Requirement already satisfied: ibm-platform-services>=0.22.6 in c:\\users\\maddi\\miniconda3\\envs\\qenv\\lib\\site-packages (from qiskit_ibm_runtime) (0.59.0)\n",
      "Requirement already satisfied: pydantic>=2.5.0 in c:\\users\\maddi\\miniconda3\\envs\\qenv\\lib\\site-packages (from qiskit_ibm_runtime) (2.9.2)\n",
      "Requirement already satisfied: qiskit>=1.1.0 in c:\\users\\maddi\\miniconda3\\envs\\qenv\\lib\\site-packages (from qiskit_ibm_runtime) (1.2.4)\n",
      "Requirement already satisfied: ibm-cloud-sdk-core<4.0.0,>=3.22.0 in c:\\users\\maddi\\miniconda3\\envs\\qenv\\lib\\site-packages (from ibm-platform-services>=0.22.6->qiskit_ibm_runtime) (3.22.0)\n",
      "Requirement already satisfied: annotated-types>=0.6.0 in c:\\users\\maddi\\miniconda3\\envs\\qenv\\lib\\site-packages (from pydantic>=2.5.0->qiskit_ibm_runtime) (0.7.0)\n",
      "Requirement already satisfied: pydantic-core==2.23.4 in c:\\users\\maddi\\miniconda3\\envs\\qenv\\lib\\site-packages (from pydantic>=2.5.0->qiskit_ibm_runtime) (2.23.4)\n",
      "Requirement already satisfied: typing-extensions>=4.12.2 in c:\\users\\maddi\\miniconda3\\envs\\qenv\\lib\\site-packages (from pydantic>=2.5.0->qiskit_ibm_runtime) (4.12.2)\n",
      "Requirement already satisfied: six>=1.5 in c:\\users\\maddi\\miniconda3\\envs\\qenv\\lib\\site-packages (from python-dateutil>=2.8.0->qiskit_ibm_runtime) (1.16.0)\n",
      "Requirement already satisfied: rustworkx>=0.15.0 in c:\\users\\maddi\\miniconda3\\envs\\qenv\\lib\\site-packages (from qiskit>=1.1.0->qiskit_ibm_runtime) (0.15.1)\n",
      "Requirement already satisfied: scipy>=1.5 in c:\\users\\maddi\\miniconda3\\envs\\qenv\\lib\\site-packages (from qiskit>=1.1.0->qiskit_ibm_runtime) (1.14.1)\n",
      "Requirement already satisfied: sympy>=1.3 in c:\\users\\maddi\\miniconda3\\envs\\qenv\\lib\\site-packages (from qiskit>=1.1.0->qiskit_ibm_runtime) (1.13.3)\n",
      "Requirement already satisfied: dill>=0.3 in c:\\users\\maddi\\miniconda3\\envs\\qenv\\lib\\site-packages (from qiskit>=1.1.0->qiskit_ibm_runtime) (0.3.9)\n",
      "Requirement already satisfied: stevedore>=3.0.0 in c:\\users\\maddi\\miniconda3\\envs\\qenv\\lib\\site-packages (from qiskit>=1.1.0->qiskit_ibm_runtime) (5.3.0)\n",
      "Requirement already satisfied: symengine<0.14,>=0.11 in c:\\users\\maddi\\miniconda3\\envs\\qenv\\lib\\site-packages (from qiskit>=1.1.0->qiskit_ibm_runtime) (0.13.0)\n",
      "Requirement already satisfied: charset-normalizer<4,>=2 in c:\\users\\maddi\\miniconda3\\envs\\qenv\\lib\\site-packages (from requests>=2.19->qiskit_ibm_runtime) (3.4.0)\n",
      "Requirement already satisfied: idna<4,>=2.5 in c:\\users\\maddi\\miniconda3\\envs\\qenv\\lib\\site-packages (from requests>=2.19->qiskit_ibm_runtime) (3.10)\n",
      "Requirement already satisfied: certifi>=2017.4.17 in c:\\users\\maddi\\miniconda3\\envs\\qenv\\lib\\site-packages (from requests>=2.19->qiskit_ibm_runtime) (2024.8.30)\n",
      "Requirement already satisfied: cryptography>=1.3 in c:\\users\\maddi\\miniconda3\\envs\\qenv\\lib\\site-packages (from requests-ntlm>=1.1.0->qiskit_ibm_runtime) (43.0.3)\n",
      "Requirement already satisfied: pyspnego>=0.4.0 in c:\\users\\maddi\\miniconda3\\envs\\qenv\\lib\\site-packages (from requests-ntlm>=1.1.0->qiskit_ibm_runtime) (0.11.1)\n",
      "Requirement already satisfied: cffi>=1.12 in c:\\users\\maddi\\miniconda3\\envs\\qenv\\lib\\site-packages (from cryptography>=1.3->requests-ntlm>=1.1.0->qiskit_ibm_runtime) (1.17.1)\n",
      "Requirement already satisfied: PyJWT<3.0.0,>=2.8.0 in c:\\users\\maddi\\miniconda3\\envs\\qenv\\lib\\site-packages (from ibm-cloud-sdk-core<4.0.0,>=3.22.0->ibm-platform-services>=0.22.6->qiskit_ibm_runtime) (2.9.0)\n",
      "Requirement already satisfied: sspilib>=0.1.0 in c:\\users\\maddi\\miniconda3\\envs\\qenv\\lib\\site-packages (from pyspnego>=0.4.0->requests-ntlm>=1.1.0->qiskit_ibm_runtime) (0.2.0)\n",
      "Requirement already satisfied: pbr>=2.0.0 in c:\\users\\maddi\\miniconda3\\envs\\qenv\\lib\\site-packages (from stevedore>=3.0.0->qiskit>=1.1.0->qiskit_ibm_runtime) (6.1.0)\n",
      "Requirement already satisfied: mpmath<1.4,>=1.1.0 in c:\\users\\maddi\\miniconda3\\envs\\qenv\\lib\\site-packages (from sympy>=1.3->qiskit>=1.1.0->qiskit_ibm_runtime) (1.3.0)\n",
      "Requirement already satisfied: pycparser in c:\\users\\maddi\\miniconda3\\envs\\qenv\\lib\\site-packages (from cffi>=1.12->cryptography>=1.3->requests-ntlm>=1.1.0->qiskit_ibm_runtime) (2.22)\n",
      "Note: you may need to restart the kernel to use updated packages.\n",
      "Requirement already satisfied: matplotlib in c:\\users\\maddi\\miniconda3\\envs\\qenv\\lib\\site-packages (3.9.3)\n",
      "Requirement already satisfied: contourpy>=1.0.1 in c:\\users\\maddi\\miniconda3\\envs\\qenv\\lib\\site-packages (from matplotlib) (1.3.1)\n",
      "Requirement already satisfied: cycler>=0.10 in c:\\users\\maddi\\miniconda3\\envs\\qenv\\lib\\site-packages (from matplotlib) (0.12.1)\n",
      "Requirement already satisfied: fonttools>=4.22.0 in c:\\users\\maddi\\miniconda3\\envs\\qenv\\lib\\site-packages (from matplotlib) (4.55.2)\n",
      "Requirement already satisfied: kiwisolver>=1.3.1 in c:\\users\\maddi\\miniconda3\\envs\\qenv\\lib\\site-packages (from matplotlib) (1.4.7)\n",
      "Requirement already satisfied: numpy>=1.23 in c:\\users\\maddi\\miniconda3\\envs\\qenv\\lib\\site-packages (from matplotlib) (2.1.3)\n",
      "Requirement already satisfied: packaging>=20.0 in c:\\users\\maddi\\miniconda3\\envs\\qenv\\lib\\site-packages (from matplotlib) (24.1)\n",
      "Requirement already satisfied: pillow>=8 in c:\\users\\maddi\\miniconda3\\envs\\qenv\\lib\\site-packages (from matplotlib) (11.0.0)\n",
      "Requirement already satisfied: pyparsing>=2.3.1 in c:\\users\\maddi\\miniconda3\\envs\\qenv\\lib\\site-packages (from matplotlib) (3.2.0)\n",
      "Requirement already satisfied: python-dateutil>=2.7 in c:\\users\\maddi\\miniconda3\\envs\\qenv\\lib\\site-packages (from matplotlib) (2.9.0)\n",
      "Requirement already satisfied: six>=1.5 in c:\\users\\maddi\\miniconda3\\envs\\qenv\\lib\\site-packages (from python-dateutil>=2.7->matplotlib) (1.16.0)\n",
      "Note: you may need to restart the kernel to use updated packages.\n",
      "Requirement already satisfied: seaborn in c:\\users\\maddi\\miniconda3\\envs\\qenv\\lib\\site-packages (0.13.2)\n",
      "Requirement already satisfied: numpy!=1.24.0,>=1.20 in c:\\users\\maddi\\miniconda3\\envs\\qenv\\lib\\site-packages (from seaborn) (2.1.3)\n",
      "Requirement already satisfied: pandas>=1.2 in c:\\users\\maddi\\miniconda3\\envs\\qenv\\lib\\site-packages (from seaborn) (2.2.3)\n",
      "Requirement already satisfied: matplotlib!=3.6.1,>=3.4 in c:\\users\\maddi\\miniconda3\\envs\\qenv\\lib\\site-packages (from seaborn) (3.9.3)\n",
      "Requirement already satisfied: contourpy>=1.0.1 in c:\\users\\maddi\\miniconda3\\envs\\qenv\\lib\\site-packages (from matplotlib!=3.6.1,>=3.4->seaborn) (1.3.1)\n",
      "Requirement already satisfied: cycler>=0.10 in c:\\users\\maddi\\miniconda3\\envs\\qenv\\lib\\site-packages (from matplotlib!=3.6.1,>=3.4->seaborn) (0.12.1)\n",
      "Requirement already satisfied: fonttools>=4.22.0 in c:\\users\\maddi\\miniconda3\\envs\\qenv\\lib\\site-packages (from matplotlib!=3.6.1,>=3.4->seaborn) (4.55.2)\n",
      "Requirement already satisfied: kiwisolver>=1.3.1 in c:\\users\\maddi\\miniconda3\\envs\\qenv\\lib\\site-packages (from matplotlib!=3.6.1,>=3.4->seaborn) (1.4.7)\n",
      "Requirement already satisfied: packaging>=20.0 in c:\\users\\maddi\\miniconda3\\envs\\qenv\\lib\\site-packages (from matplotlib!=3.6.1,>=3.4->seaborn) (24.1)\n",
      "Requirement already satisfied: pillow>=8 in c:\\users\\maddi\\miniconda3\\envs\\qenv\\lib\\site-packages (from matplotlib!=3.6.1,>=3.4->seaborn) (11.0.0)\n",
      "Requirement already satisfied: pyparsing>=2.3.1 in c:\\users\\maddi\\miniconda3\\envs\\qenv\\lib\\site-packages (from matplotlib!=3.6.1,>=3.4->seaborn) (3.2.0)\n",
      "Requirement already satisfied: python-dateutil>=2.7 in c:\\users\\maddi\\miniconda3\\envs\\qenv\\lib\\site-packages (from matplotlib!=3.6.1,>=3.4->seaborn) (2.9.0)\n",
      "Requirement already satisfied: pytz>=2020.1 in c:\\users\\maddi\\miniconda3\\envs\\qenv\\lib\\site-packages (from pandas>=1.2->seaborn) (2024.2)\n",
      "Requirement already satisfied: tzdata>=2022.7 in c:\\users\\maddi\\miniconda3\\envs\\qenv\\lib\\site-packages (from pandas>=1.2->seaborn) (2024.2)\n",
      "Requirement already satisfied: six>=1.5 in c:\\users\\maddi\\miniconda3\\envs\\qenv\\lib\\site-packages (from python-dateutil>=2.7->matplotlib!=3.6.1,>=3.4->seaborn) (1.16.0)\n",
      "Note: you may need to restart the kernel to use updated packages.\n",
      "Collecting pylatexenc\n",
      "  Downloading pylatexenc-2.10.tar.gz (162 kB)\n",
      "  Preparing metadata (setup.py): started\n",
      "  Preparing metadata (setup.py): finished with status 'done'\n",
      "Building wheels for collected packages: pylatexenc\n",
      "  Building wheel for pylatexenc (setup.py): started\n",
      "  Building wheel for pylatexenc (setup.py): finished with status 'done'\n",
      "  Created wheel for pylatexenc: filename=pylatexenc-2.10-py3-none-any.whl size=136846 sha256=5b504926f8e6c7841e388c3e052296de0c1b1e36499df730cea1683c91aa0a73\n",
      "  Stored in directory: c:\\users\\maddi\\appdata\\local\\pip\\cache\\wheels\\3c\\d9\\c1\\bb2a15d13c742b9035ef7ae6ebe236af270b1d1d9b386dcd5e\n",
      "Successfully built pylatexenc\n",
      "Installing collected packages: pylatexenc\n",
      "Successfully installed pylatexenc-2.10\n",
      "Note: you may need to restart the kernel to use updated packages.\n"
     ]
    }
   ],
   "source": [
    "# Install qiskit and additional libraries we will use throughout the tutorial\n",
    "%pip install qiskit \n",
    "%pip install qiskit_ibm_runtime\n",
    "%pip install qiskit-aer\n",
    "%pip install matplotlib\n",
    "%pip install seaborn\n",
    "%pip install pylatexenc"
   ]
  },
  {
   "cell_type": "code",
   "execution_count": 12,
   "metadata": {
    "vscode": {
     "languageId": "powershell"
    }
   },
   "outputs": [
    {
     "name": "stdout",
     "output_type": "stream",
     "text": [
      "Collecting qiskit-aerNote: you may need to restart the kernel to use updated packages.\n",
      "\n",
      "  Using cached qiskit-aer-0.15.1.tar.gz (6.6 MB)\n",
      "  Installing build dependencies: started\n",
      "  Installing build dependencies: still running...\n",
      "  Installing build dependencies: finished with status 'done'\n",
      "  Getting requirements to build wheel: started\n",
      "  Getting requirements to build wheel: finished with status 'done'\n",
      "  Preparing metadata (pyproject.toml): started\n",
      "  Preparing metadata (pyproject.toml): finished with status 'done'\n",
      "Requirement already satisfied: qiskit>=1.1.0 in c:\\users\\maddi\\miniconda3\\envs\\qenv\\lib\\site-packages (from qiskit-aer) (1.2.4)\n",
      "Requirement already satisfied: numpy>=1.16.3 in c:\\users\\maddi\\miniconda3\\envs\\qenv\\lib\\site-packages (from qiskit-aer) (2.1.3)\n",
      "Requirement already satisfied: scipy>=1.0 in c:\\users\\maddi\\miniconda3\\envs\\qenv\\lib\\site-packages (from qiskit-aer) (1.14.1)\n",
      "Requirement already satisfied: psutil>=5 in c:\\users\\maddi\\miniconda3\\envs\\qenv\\lib\\site-packages (from qiskit-aer) (6.1.0)\n",
      "Requirement already satisfied: rustworkx>=0.15.0 in c:\\users\\maddi\\miniconda3\\envs\\qenv\\lib\\site-packages (from qiskit>=1.1.0->qiskit-aer) (0.15.1)\n",
      "Requirement already satisfied: sympy>=1.3 in c:\\users\\maddi\\miniconda3\\envs\\qenv\\lib\\site-packages (from qiskit>=1.1.0->qiskit-aer) (1.13.3)\n",
      "Requirement already satisfied: dill>=0.3 in c:\\users\\maddi\\miniconda3\\envs\\qenv\\lib\\site-packages (from qiskit>=1.1.0->qiskit-aer) (0.3.9)\n",
      "Requirement already satisfied: python-dateutil>=2.8.0 in c:\\users\\maddi\\miniconda3\\envs\\qenv\\lib\\site-packages (from qiskit>=1.1.0->qiskit-aer) (2.9.0)\n",
      "Requirement already satisfied: stevedore>=3.0.0 in c:\\users\\maddi\\miniconda3\\envs\\qenv\\lib\\site-packages (from qiskit>=1.1.0->qiskit-aer) (5.3.0)\n",
      "Requirement already satisfied: typing-extensions in c:\\users\\maddi\\miniconda3\\envs\\qenv\\lib\\site-packages (from qiskit>=1.1.0->qiskit-aer) (4.12.2)\n",
      "Requirement already satisfied: symengine<0.14,>=0.11 in c:\\users\\maddi\\miniconda3\\envs\\qenv\\lib\\site-packages (from qiskit>=1.1.0->qiskit-aer) (0.13.0)\n",
      "Requirement already satisfied: six>=1.5 in c:\\users\\maddi\\miniconda3\\envs\\qenv\\lib\\site-packages (from python-dateutil>=2.8.0->qiskit>=1.1.0->qiskit-aer) (1.16.0)\n",
      "Requirement already satisfied: pbr>=2.0.0 in c:\\users\\maddi\\miniconda3\\envs\\qenv\\lib\\site-packages (from stevedore>=3.0.0->qiskit>=1.1.0->qiskit-aer) (6.1.0)\n",
      "Requirement already satisfied: mpmath<1.4,>=1.1.0 in c:\\users\\maddi\\miniconda3\\envs\\qenv\\lib\\site-packages (from sympy>=1.3->qiskit>=1.1.0->qiskit-aer) (1.3.0)\n",
      "Building wheels for collected packages: qiskit-aer\n",
      "  Building wheel for qiskit-aer (pyproject.toml): started\n",
      "  Building wheel for qiskit-aer (pyproject.toml): finished with status 'error'\n",
      "Failed to build qiskit-aer\n"
     ]
    },
    {
     "name": "stderr",
     "output_type": "stream",
     "text": [
      "  error: subprocess-exited-with-error\n",
      "  \n",
      "  × Building wheel for qiskit-aer (pyproject.toml) did not run successfully.\n",
      "  │ exit code: 1\n",
      "  ╰─> [505 lines of output]\n",
      "      \n",
      "      \n",
      "      --------------------------------------------------------------------------------\n",
      "      -- Trying 'Ninja (Visual Studio 17 2022 x64 v144)' generator\n",
      "      --------------------------------\n",
      "      ---------------------------\n",
      "      ----------------------\n",
      "      -----------------\n",
      "      ------------\n",
      "      -------\n",
      "      --\n",
      "      Not searching for unused variables given on the command line.\n",
      "      CMake Deprecation Warning at CMakeLists.txt:1 (cmake_minimum_required):\n",
      "        Compatibility with CMake < 3.10 will be removed from a future version of\n",
      "        CMake.\n",
      "      \n",
      "        Update the VERSION argument <min> value.  Or, use the <min>...<max> syntax\n",
      "        to tell CMake that the project requires at least <min> but has been updated\n",
      "        to work with policies introduced by <max> or earlier.\n",
      "      \n",
      "      \n",
      "      -- The C compiler identification is unknown\n",
      "      CMake Error at CMakeLists.txt:3 (ENABLE_LANGUAGE):\n",
      "        No CMAKE_C_COMPILER could be found.\n",
      "      \n",
      "        Tell CMake where to find the compiler by setting either the environment\n",
      "        variable \"CC\" or the CMake cache entry CMAKE_C_COMPILER to the full path to\n",
      "        the compiler, or to the compiler name if it is in the PATH.\n",
      "      \n",
      "      \n",
      "      -- Configuring incomplete, errors occurred!\n",
      "      --\n",
      "      -------\n",
      "      ------------\n",
      "      -----------------\n",
      "      ----------------------\n",
      "      ---------------------------\n",
      "      --------------------------------\n",
      "      -- Trying 'Ninja (Visual Studio 17 2022 x64 v144)' generator - failure\n",
      "      --------------------------------------------------------------------------------\n",
      "      \n",
      "      \n",
      "      \n",
      "      --------------------------------------------------------------------------------\n",
      "      -- Trying 'Visual Studio 17 2022 x64 v144' generator\n",
      "      --------------------------------\n",
      "      ---------------------------\n",
      "      ----------------------\n",
      "      -----------------\n",
      "      ------------\n",
      "      -------\n",
      "      --\n",
      "      Not searching for unused variables given on the command line.\n",
      "      CMake Deprecation Warning at CMakeLists.txt:1 (cmake_minimum_required):\n",
      "        Compatibility with CMake < 3.10 will be removed from a future version of\n",
      "        CMake.\n",
      "      \n",
      "        Update the VERSION argument <min> value.  Or, use the <min>...<max> syntax\n",
      "        to tell CMake that the project requires at least <min> but has been updated\n",
      "        to work with policies introduced by <max> or earlier.\n",
      "      \n",
      "      \n",
      "      CMake Error at CMakeLists.txt:2 (PROJECT):\n",
      "        Generator\n",
      "      \n",
      "          Visual Studio 17 2022\n",
      "      \n",
      "        could not find any instance of Visual Studio.\n",
      "      \n",
      "      \n",
      "      \n",
      "      -- Configuring incomplete, errors occurred!\n",
      "      --\n",
      "      -------\n",
      "      ------------\n",
      "      -----------------\n",
      "      ----------------------\n",
      "      ---------------------------\n",
      "      --------------------------------\n",
      "      -- Trying 'Visual Studio 17 2022 x64 v144' generator - failure\n",
      "      --------------------------------------------------------------------------------\n",
      "      \n",
      "      \n",
      "      \n",
      "      --------------------------------------------------------------------------------\n",
      "      -- Trying 'Ninja (Visual Studio 17 2022 x64 v143)' generator\n",
      "      --------------------------------\n",
      "      ---------------------------\n",
      "      ----------------------\n",
      "      -----------------\n",
      "      ------------\n",
      "      -------\n",
      "      --\n",
      "      Not searching for unused variables given on the command line.\n",
      "      CMake Deprecation Warning at CMakeLists.txt:1 (cmake_minimum_required):\n",
      "        Compatibility with CMake < 3.10 will be removed from a future version of\n",
      "        CMake.\n",
      "      \n",
      "        Update the VERSION argument <min> value.  Or, use the <min>...<max> syntax\n",
      "        to tell CMake that the project requires at least <min> but has been updated\n",
      "        to work with policies introduced by <max> or earlier.\n",
      "      \n",
      "      \n",
      "      -- The C compiler identification is unknown\n",
      "      CMake Error at CMakeLists.txt:3 (ENABLE_LANGUAGE):\n",
      "        No CMAKE_C_COMPILER could be found.\n",
      "      \n",
      "        Tell CMake where to find the compiler by setting either the environment\n",
      "        variable \"CC\" or the CMake cache entry CMAKE_C_COMPILER to the full path to\n",
      "        the compiler, or to the compiler name if it is in the PATH.\n",
      "      \n",
      "      \n",
      "      -- Configuring incomplete, errors occurred!\n",
      "      --\n",
      "      -------\n",
      "      ------------\n",
      "      -----------------\n",
      "      ----------------------\n",
      "      ---------------------------\n",
      "      --------------------------------\n",
      "      -- Trying 'Ninja (Visual Studio 17 2022 x64 v143)' generator - failure\n",
      "      --------------------------------------------------------------------------------\n",
      "      \n",
      "      \n",
      "      \n",
      "      --------------------------------------------------------------------------------\n",
      "      -- Trying 'Visual Studio 17 2022 x64 v143' generator\n",
      "      --------------------------------\n",
      "      ---------------------------\n",
      "      ----------------------\n",
      "      -----------------\n",
      "      ------------\n",
      "      -------\n",
      "      --\n",
      "      Not searching for unused variables given on the command line.\n",
      "      CMake Deprecation Warning at CMakeLists.txt:1 (cmake_minimum_required):\n",
      "        Compatibility with CMake < 3.10 will be removed from a future version of\n",
      "        CMake.\n",
      "      \n",
      "        Update the VERSION argument <min> value.  Or, use the <min>...<max> syntax\n",
      "        to tell CMake that the project requires at least <min> but has been updated\n",
      "        to work with policies introduced by <max> or earlier.\n",
      "      \n",
      "      \n",
      "      CMake Error at CMakeLists.txt:2 (PROJECT):\n",
      "        Generator\n",
      "      \n",
      "          Visual Studio 17 2022\n",
      "      \n",
      "        could not find any instance of Visual Studio.\n",
      "      \n",
      "      \n",
      "      \n",
      "      -- Configuring incomplete, errors occurred!\n",
      "      --\n",
      "      -------\n",
      "      ------------\n",
      "      -----------------\n",
      "      ----------------------\n",
      "      ---------------------------\n",
      "      --------------------------------\n",
      "      -- Trying 'Visual Studio 17 2022 x64 v143' generator - failure\n",
      "      --------------------------------------------------------------------------------\n",
      "      \n",
      "      \n",
      "      \n",
      "      --------------------------------------------------------------------------------\n",
      "      -- Trying 'Ninja (Visual Studio 16 2019 x64 v142)' generator\n",
      "      --------------------------------\n",
      "      ---------------------------\n",
      "      ----------------------\n",
      "      -----------------\n",
      "      ------------\n",
      "      -------\n",
      "      --\n",
      "      Not searching for unused variables given on the command line.\n",
      "      CMake Deprecation Warning at CMakeLists.txt:1 (cmake_minimum_required):\n",
      "        Compatibility with CMake < 3.10 will be removed from a future version of\n",
      "        CMake.\n",
      "      \n",
      "        Update the VERSION argument <min> value.  Or, use the <min>...<max> syntax\n",
      "        to tell CMake that the project requires at least <min> but has been updated\n",
      "        to work with policies introduced by <max> or earlier.\n",
      "      \n",
      "      \n",
      "      -- The C compiler identification is unknown\n",
      "      CMake Error at CMakeLists.txt:3 (ENABLE_LANGUAGE):\n",
      "        No CMAKE_C_COMPILER could be found.\n",
      "      \n",
      "        Tell CMake where to find the compiler by setting either the environment\n",
      "        variable \"CC\" or the CMake cache entry CMAKE_C_COMPILER to the full path to\n",
      "        the compiler, or to the compiler name if it is in the PATH.\n",
      "      \n",
      "      \n",
      "      -- Configuring incomplete, errors occurred!\n",
      "      --\n",
      "      -------\n",
      "      ------------\n",
      "      -----------------\n",
      "      ----------------------\n",
      "      ---------------------------\n",
      "      --------------------------------\n",
      "      -- Trying 'Ninja (Visual Studio 16 2019 x64 v142)' generator - failure\n",
      "      --------------------------------------------------------------------------------\n",
      "      \n",
      "      \n",
      "      \n",
      "      --------------------------------------------------------------------------------\n",
      "      -- Trying 'Visual Studio 16 2019 x64 v142' generator\n",
      "      --------------------------------\n",
      "      ---------------------------\n",
      "      ----------------------\n",
      "      -----------------\n",
      "      ------------\n",
      "      -------\n",
      "      --\n",
      "      Not searching for unused variables given on the command line.\n",
      "      CMake Deprecation Warning at CMakeLists.txt:1 (cmake_minimum_required):\n",
      "        Compatibility with CMake < 3.10 will be removed from a future version of\n",
      "        CMake.\n",
      "      \n",
      "        Update the VERSION argument <min> value.  Or, use the <min>...<max> syntax\n",
      "        to tell CMake that the project requires at least <min> but has been updated\n",
      "        to work with policies introduced by <max> or earlier.\n",
      "      \n",
      "      \n",
      "      CMake Error at CMakeLists.txt:2 (PROJECT):\n",
      "        Generator\n",
      "      \n",
      "          Visual Studio 16 2019\n",
      "      \n",
      "        could not find any instance of Visual Studio.\n",
      "      \n",
      "      \n",
      "      \n",
      "      -- Configuring incomplete, errors occurred!\n",
      "      --\n",
      "      -------\n",
      "      ------------\n",
      "      -----------------\n",
      "      ----------------------\n",
      "      ---------------------------\n",
      "      --------------------------------\n",
      "      -- Trying 'Visual Studio 16 2019 x64 v142' generator - failure\n",
      "      --------------------------------------------------------------------------------\n",
      "      \n",
      "      \n",
      "      \n",
      "      --------------------------------------------------------------------------------\n",
      "      -- Trying 'Ninja (Visual Studio 15 2017 x64 v141)' generator\n",
      "      --------------------------------\n",
      "      ---------------------------\n",
      "      ----------------------\n",
      "      -----------------\n",
      "      ------------\n",
      "      -------\n",
      "      --\n",
      "      Not searching for unused variables given on the command line.\n",
      "      CMake Deprecation Warning at CMakeLists.txt:1 (cmake_minimum_required):\n",
      "        Compatibility with CMake < 3.10 will be removed from a future version of\n",
      "        CMake.\n",
      "      \n",
      "        Update the VERSION argument <min> value.  Or, use the <min>...<max> syntax\n",
      "        to tell CMake that the project requires at least <min> but has been updated\n",
      "        to work with policies introduced by <max> or earlier.\n",
      "      \n",
      "      \n",
      "      -- The C compiler identification is unknown\n",
      "      CMake Error at CMakeLists.txt:3 (ENABLE_LANGUAGE):\n",
      "        No CMAKE_C_COMPILER could be found.\n",
      "      \n",
      "        Tell CMake where to find the compiler by setting either the environment\n",
      "        variable \"CC\" or the CMake cache entry CMAKE_C_COMPILER to the full path to\n",
      "        the compiler, or to the compiler name if it is in the PATH.\n",
      "      \n",
      "      \n",
      "      -- Configuring incomplete, errors occurred!\n",
      "      --\n",
      "      -------\n",
      "      ------------\n",
      "      -----------------\n",
      "      ----------------------\n",
      "      ---------------------------\n",
      "      --------------------------------\n",
      "      -- Trying 'Ninja (Visual Studio 15 2017 x64 v141)' generator - failure\n",
      "      --------------------------------------------------------------------------------\n",
      "      \n",
      "      \n",
      "      \n",
      "      --------------------------------------------------------------------------------\n",
      "      -- Trying 'Visual Studio 15 2017 x64 v141' generator\n",
      "      --------------------------------\n",
      "      ---------------------------\n",
      "      ----------------------\n",
      "      -----------------\n",
      "      ------------\n",
      "      -------\n",
      "      --\n",
      "      Not searching for unused variables given on the command line.\n",
      "      CMake Deprecation Warning at CMakeLists.txt:1 (cmake_minimum_required):\n",
      "        Compatibility with CMake < 3.10 will be removed from a future version of\n",
      "        CMake.\n",
      "      \n",
      "        Update the VERSION argument <min> value.  Or, use the <min>...<max> syntax\n",
      "        to tell CMake that the project requires at least <min> but has been updated\n",
      "        to work with policies introduced by <max> or earlier.\n",
      "      \n",
      "      \n",
      "      CMake Error at CMakeLists.txt:2 (PROJECT):\n",
      "        Generator\n",
      "      \n",
      "          Visual Studio 15 2017\n",
      "      \n",
      "        could not find any instance of Visual Studio.\n",
      "      \n",
      "      \n",
      "      \n",
      "      -- Configuring incomplete, errors occurred!\n",
      "      --\n",
      "      -------\n",
      "      ------------\n",
      "      -----------------\n",
      "      ----------------------\n",
      "      ---------------------------\n",
      "      --------------------------------\n",
      "      -- Trying 'Visual Studio 15 2017 x64 v141' generator - failure\n",
      "      --------------------------------------------------------------------------------\n",
      "      \n",
      "      \n",
      "      \n",
      "      --------------------------------------------------------------------------------\n",
      "      -- Trying 'NMake Makefiles (Visual Studio 17 2022 x64 v144)' generator\n",
      "      --------------------------------\n",
      "      ---------------------------\n",
      "      ----------------------\n",
      "      -----------------\n",
      "      ------------\n",
      "      -------\n",
      "      --\n",
      "      Not searching for unused variables given on the command line.\n",
      "      CMake Deprecation Warning at CMakeLists.txt:1 (cmake_minimum_required):\n",
      "        Compatibility with CMake < 3.10 will be removed from a future version of\n",
      "        CMake.\n",
      "      \n",
      "        Update the VERSION argument <min> value.  Or, use the <min>...<max> syntax\n",
      "        to tell CMake that the project requires at least <min> but has been updated\n",
      "        to work with policies introduced by <max> or earlier.\n",
      "      \n",
      "      \n",
      "      CMake Error at CMakeLists.txt:2 (PROJECT):\n",
      "        Running\n",
      "      \n",
      "         'nmake' '-?'\n",
      "      \n",
      "        failed with:\n",
      "      \n",
      "         no such file or directory\n",
      "      \n",
      "      \n",
      "      -- Configuring incomplete, errors occurred!\n",
      "      --\n",
      "      -------\n",
      "      ------------\n",
      "      -----------------\n",
      "      ----------------------\n",
      "      ---------------------------\n",
      "      --------------------------------\n",
      "      -- Trying 'NMake Makefiles (Visual Studio 17 2022 x64 v144)' generator - failure\n",
      "      --------------------------------------------------------------------------------\n",
      "      \n",
      "      \n",
      "      \n",
      "      --------------------------------------------------------------------------------\n",
      "      -- Trying 'NMake Makefiles (Visual Studio 17 2022 x64 v143)' generator\n",
      "      --------------------------------\n",
      "      ---------------------------\n",
      "      ----------------------\n",
      "      -----------------\n",
      "      ------------\n",
      "      -------\n",
      "      --\n",
      "      Not searching for unused variables given on the command line.\n",
      "      CMake Deprecation Warning at CMakeLists.txt:1 (cmake_minimum_required):\n",
      "        Compatibility with CMake < 3.10 will be removed from a future version of\n",
      "        CMake.\n",
      "      \n",
      "        Update the VERSION argument <min> value.  Or, use the <min>...<max> syntax\n",
      "        to tell CMake that the project requires at least <min> but has been updated\n",
      "        to work with policies introduced by <max> or earlier.\n",
      "      \n",
      "      \n",
      "      CMake Error at CMakeLists.txt:2 (PROJECT):\n",
      "        Running\n",
      "      \n",
      "         'nmake' '-?'\n",
      "      \n",
      "        failed with:\n",
      "      \n",
      "         no such file or directory\n",
      "      \n",
      "      \n",
      "      -- Configuring incomplete, errors occurred!\n",
      "      --\n",
      "      -------\n",
      "      ------------\n",
      "      -----------------\n",
      "      ----------------------\n",
      "      ---------------------------\n",
      "      --------------------------------\n",
      "      -- Trying 'NMake Makefiles (Visual Studio 17 2022 x64 v143)' generator - failure\n",
      "      --------------------------------------------------------------------------------\n",
      "      \n",
      "      \n",
      "      \n",
      "      --------------------------------------------------------------------------------\n",
      "      -- Trying 'NMake Makefiles (Visual Studio 16 2019 x64 v142)' generator\n",
      "      --------------------------------\n",
      "      ---------------------------\n",
      "      ----------------------\n",
      "      -----------------\n",
      "      ------------\n",
      "      -------\n",
      "      --\n",
      "      Not searching for unused variables given on the command line.\n",
      "      CMake Deprecation Warning at CMakeLists.txt:1 (cmake_minimum_required):\n",
      "        Compatibility with CMake < 3.10 will be removed from a future version of\n",
      "        CMake.\n",
      "      \n",
      "        Update the VERSION argument <min> value.  Or, use the <min>...<max> syntax\n",
      "        to tell CMake that the project requires at least <min> but has been updated\n",
      "        to work with policies introduced by <max> or earlier.\n",
      "      \n",
      "      \n",
      "      CMake Error at CMakeLists.txt:2 (PROJECT):\n",
      "        Running\n",
      "      \n",
      "         'nmake' '-?'\n",
      "      \n",
      "        failed with:\n",
      "      \n",
      "         no such file or directory\n",
      "      \n",
      "      \n",
      "      -- Configuring incomplete, errors occurred!\n",
      "      --\n",
      "      -------\n",
      "      ------------\n",
      "      -----------------\n",
      "      ----------------------\n",
      "      ---------------------------\n",
      "      --------------------------------\n",
      "      -- Trying 'NMake Makefiles (Visual Studio 16 2019 x64 v142)' generator - failure\n",
      "      --------------------------------------------------------------------------------\n",
      "      \n",
      "      \n",
      "      \n",
      "      --------------------------------------------------------------------------------\n",
      "      -- Trying 'NMake Makefiles (Visual Studio 15 2017 x64 v141)' generator\n",
      "      --------------------------------\n",
      "      ---------------------------\n",
      "      ----------------------\n",
      "      -----------------\n",
      "      ------------\n",
      "      -------\n",
      "      --\n",
      "      Not searching for unused variables given on the command line.\n",
      "      CMake Deprecation Warning at CMakeLists.txt:1 (cmake_minimum_required):\n",
      "        Compatibility with CMake < 3.10 will be removed from a future version of\n",
      "        CMake.\n",
      "      \n",
      "        Update the VERSION argument <min> value.  Or, use the <min>...<max> syntax\n",
      "        to tell CMake that the project requires at least <min> but has been updated\n",
      "        to work with policies introduced by <max> or earlier.\n",
      "      \n",
      "      \n",
      "      CMake Error at CMakeLists.txt:2 (PROJECT):\n",
      "        Running\n",
      "      \n",
      "         'nmake' '-?'\n",
      "      \n",
      "        failed with:\n",
      "      \n",
      "         no such file or directory\n",
      "      \n",
      "      \n",
      "      -- Configuring incomplete, errors occurred!\n",
      "      --\n",
      "      -------\n",
      "      ------------\n",
      "      -----------------\n",
      "      ----------------------\n",
      "      ---------------------------\n",
      "      --------------------------------\n",
      "      -- Trying 'NMake Makefiles (Visual Studio 15 2017 x64 v141)' generator - failure\n",
      "      --------------------------------------------------------------------------------\n",
      "      \n",
      "                      ********************************************************************************\n",
      "                      scikit-build could not get a working generator for your system. Aborting build.\n",
      "      \n",
      "                      Building windows wheels requires Microsoft Visual Studio.\n",
      "                  Get it from:\n",
      "      n\n",
      "                   https://visualstudio.microsoft.com/vs/\n",
      "      \n",
      "                      ********************************************************************************\n",
      "      [end of output]\n",
      "  \n",
      "  note: This error originates from a subprocess, and is likely not a problem with pip.\n",
      "  ERROR: Failed building wheel for qiskit-aer\n",
      "ERROR: ERROR: Failed to build installable wheels for some pyproject.toml based projects (qiskit-aer)\n"
     ]
    }
   ],
   "source": [
    "%pip install qiskit-aer\n"
   ]
  },
  {
   "attachments": {
    "image.png": {
     "image/png": "[encoded data removed]"
    }
   },
   "cell_type": "markdown",
   "metadata": {},
   "source": [
    "### Creating an IBM Account\n",
    "\n",
    "IBM requires you to make an account to access their quantum hardware. They have free and paid plans depending on how many jobs you'll be running. For now, we'll just sign up for the free plan, which provides you with 10 minutes of free runtime every month. This will be more than enough time to complete the tutorial.\n",
    "\n",
    "Make an account with the \"Open Plan\" option from this link: https://www.ibm.com/quantum/pricing\n",
    "\n",
    "Then, copy your API token for later use. (Don't share this with anyone!)\n",
    "\n",
    "![image.png](attachment:image.png)"
   ]
  },
  {
   "cell_type": "markdown",
   "metadata": {},
   "source": [
    "### Setting up a Quantum Channel\n",
    "\n",
    "To run our code on IBM's quantum computers, we have to set up a channel to connect us to their computers. \n",
    "\n",
    "Paste the API token from your account into the text below that says `YOUR_TOKEN_HERE`. Then, run the code cell to set up the quantum channel."
   ]
  },
  {
   "cell_type": "code",
   "execution_count": null,
   "metadata": {},
   "outputs": [],
   "source": [
    "from qiskit_ibm_runtime import QiskitRuntimeService\n",
    "\n",
    "service = QiskitRuntimeService(\n",
    "    channel='ibm_quantum',\n",
    "    instance='ibm-q/open/main',\n",
    "    token='YOUR_TOKEN_HERE'\n",
    ")\n",
    "\n",
    "# You can also save your API credentials on disk for future use\n",
    "# QiskitRuntimeService.save_account(channel='ibm_quantum', instance='ibm-q/open/main', token='YOUR_TOKEN_HERE')"
   ]
  },
  {
   "cell_type": "code",
   "execution_count": 1,
   "metadata": {},
   "outputs": [],
   "source": [
    "from qiskit_ibm_runtime import QiskitRuntimeService\n",
    "\n",
    "# If you saved your credentials, you can now run this line to\n",
    "# quickly set up a channel without your API token\n",
    "service = QiskitRuntimeService()"
   ]
  },
  {
   "cell_type": "markdown",
   "metadata": {},
   "source": [
    "## Qiskit Circuits and Operators"
   ]
  },
  {
   "cell_type": "markdown",
   "metadata": {},
   "source": [
    "As mentioned previously, quantum computers use quantum circuits, which are made up of quantum logic gates. Since quantum computing is a new field, we will almost always be thinking at the circuit level. With the Qiskit Circuit library, we can create these quantum circuits as well as draw diagrams of them.\n"
   ]
  },
  {
   "cell_type": "code",
   "execution_count": 2,
   "metadata": {},
   "outputs": [],
   "source": [
    "# Import the Qiskit Circuit library\n",
    "from qiskit import QuantumCircuit "
   ]
  },
  {
   "cell_type": "markdown",
   "metadata": {},
   "source": [
    "The following code snippets all use the Qiskit Circuit library. Note how similar each code block is! "
   ]
  },
  {
   "cell_type": "markdown",
   "metadata": {},
   "source": [
    "### Hadamard Gate "
   ]
  },
  {
   "cell_type": "code",
   "execution_count": 3,
   "metadata": {},
   "outputs": [
    {
     "data": {
      "image/png": "[encoded data removed]",
      "text/plain": [
       "<Figure size 185.453x117.056 with 1 Axes>"
      ]
     },
     "execution_count": 3,
     "metadata": {},
     "output_type": "execute_result"
    }
   ],
   "source": [
    "# Create a quantum circuit with 1 qubit\n",
    "qc = QuantumCircuit(1) \n",
    "\n",
    "# Add a Hadamard gate to the 0th qubit\n",
    "qc.h(0)\n",
    "\n",
    "# Draw a diagram of the circuit with matplotlib\n",
    "qc.draw(\"mpl\")"
   ]
  },
  {
   "cell_type": "markdown",
   "metadata": {},
   "source": [
    "### X (NOT) Gate  \n"
   ]
  },
  {
   "cell_type": "code",
   "execution_count": 4,
   "metadata": {},
   "outputs": [
    {
     "data": {
      "image/png": "[encoded data removed]",
      "text/plain": [
       "<Figure size 185.453x117.056 with 1 Axes>"
      ]
     },
     "execution_count": 4,
     "metadata": {},
     "output_type": "execute_result"
    }
   ],
   "source": [
    "qc = QuantumCircuit(1) \n",
    "qc.x(0)  # Add an X gate to the 0th qubit\n",
    "qc.draw(output='mpl') "
   ]
  },
  {
   "cell_type": "markdown",
   "metadata": {},
   "source": [
    "### Z Gate"
   ]
  },
  {
   "cell_type": "code",
   "execution_count": 5,
   "metadata": {},
   "outputs": [
    {
     "data": {
      "image/png": "[encoded data removed]",
      "text/plain": [
       "<Figure size 185.453x117.056 with 1 Axes>"
      ]
     },
     "execution_count": 5,
     "metadata": {},
     "output_type": "execute_result"
    }
   ],
   "source": [
    "qc = QuantumCircuit(1)\n",
    "qc.z(0)  # Add a Z gate to the 0th qubit\n",
    "qc.draw(output='mpl')"
   ]
  },
  {
   "cell_type": "markdown",
   "metadata": {},
   "source": [
    "### CNOT Gate "
   ]
  },
  {
   "cell_type": "markdown",
   "metadata": {},
   "source": [
    "Recall that a CNOT Gate is applied to two qubits, unlike the previous gates."
   ]
  },
  {
   "cell_type": "code",
   "execution_count": 6,
   "metadata": {},
   "outputs": [
    {
     "data": {
      "image/png": "[encoded data removed]",
      "text/plain": [
       "<Figure size 203.683x200.667 with 1 Axes>"
      ]
     },
     "execution_count": 6,
     "metadata": {},
     "output_type": "execute_result"
    }
   ],
   "source": [
    "# Create a quantum circuit with 2 qubits\n",
    "qc = QuantumCircuit(2)\n",
    "\n",
    "# Add a CNOT gate with the 0th qubit as the control qubit\n",
    "# and the 1st qubit as the target qubit\n",
    "qc.cx(0,1)  \n",
    "\n",
    "qc.draw(output='mpl')"
   ]
  },
  {
   "cell_type": "markdown",
   "metadata": {},
   "source": [
    "Next, we will move on to the role of operators in quantum computing. "
   ]
  },
  {
   "cell_type": "markdown",
   "metadata": {},
   "source": [
    "Operators are essential to measuring, analyzing, and transforming quantum states. Operators allows us to transform a qubit within a circuit. They are also used to represent measurable physical properties like spin. In this way, they can provide information about the state of the qubits. The Pauli Operators are the most important and common operators used in quantum computing. These operators are the X, Y, and Z gates:\n",
    "\n",
    "$$\n",
    "X = \\begin{bmatrix} 0 & 1 \\\\ 1 & 0 \\end{bmatrix}\n",
    "\\:\n",
    "Y = \\begin{bmatrix} 0 & -i \\\\ i & 0 \\end{bmatrix}\n",
    "\\:\n",
    "Z = \\begin{bmatrix} 1 & 0 \\\\ 0 & -1 \\end{bmatrix}\n",
    "$$\n",
    "\n"
   ]
  },
  {
   "cell_type": "markdown",
   "metadata": {},
   "source": [
    "We can take this up a notch by using different Qiskit classes to work with operators. One commonly used class is SparsePauliOp. This class allows for user to create more complex Pauli Operators, such as $ZZ$, $XX$, etc., which are operators that act on joint quantum states of two qubits (like how the CNOT gate works on two qubits). Such operators can be used to provide inishgt on these states as well as the correlation between the qubits in these states."
   ]
  },
  {
   "cell_type": "markdown",
   "metadata": {},
   "source": [
    "Below is a run down on creating a two-qubit Bell state and measuring it with the $ZZ$ and $XX$ operators. A Bell state is a two-qubit state that is *maximally entangled* and is represented as \n",
    "\n",
    "$$ \\ket{\\Phi^+} = \\dfrac{1}{\\sqrt{2}}(\\ket{00} + \\ket{11}) $$\n",
    "\n",
    "Note that in this state, if you measure one of the qubits as $\\ket{0}$, it means that the other qubit also collapses to $\\ket{0}$. If you measure one of the qubits as $\\ket{1}$, the other qubits also becomes $\\ket{1}$. This is what it means to be maximally entangled (the states of the two qubits are so intertwined with each other that doing something to one of the two directly affects the properties of the other).\n",
    "\n",
    "For now, it is important to note that SparsePauliOp is used to create observables on the two qubits created in this circuit. "
   ]
  },
  {
   "cell_type": "markdown",
   "metadata": {},
   "source": [
    "Use of Pauli Operators:"
   ]
  },
  {
   "cell_type": "code",
   "execution_count": 7,
   "metadata": {},
   "outputs": [
    {
     "data": {
      "text/plain": [
       "Pauli('Z')"
      ]
     },
     "execution_count": 7,
     "metadata": {},
     "output_type": "execute_result"
    }
   ],
   "source": [
    "from qiskit.quantum_info import Pauli\n",
    "\n",
    "# Make a one qubit quantum circuit with a Hadamard gate\n",
    "qc = QuantumCircuit(1)\n",
    "qc.h(0)\n",
    "\n",
    "# Define an observable (e.g., Pauli-Z operator)\n",
    "observable = Pauli('Z')\n",
    "\n",
    "observable"
   ]
  },
  {
   "cell_type": "markdown",
   "metadata": {},
   "source": [
    "Use of Sparse Pauli Operators:"
   ]
  },
  {
   "cell_type": "code",
   "execution_count": 9,
   "metadata": {},
   "outputs": [
    {
     "data": {
      "text/plain": [
       "[SparsePauliOp(['ZZ'],\n",
       "               coeffs=[1.+0.j]),\n",
       " SparsePauliOp(['XX'],\n",
       "               coeffs=[1.+0.j])]"
      ]
     },
     "execution_count": 9,
     "metadata": {},
     "output_type": "execute_result"
    }
   ],
   "source": [
    "from qiskit.quantum_info import SparsePauliOp\n",
    "\n",
    "# Define a quantum circuit with 2 qubits\n",
    "qc = QuantumCircuit(2)\n",
    "qc.h(0) # Apply Hadamard gate - create superposition\n",
    "qc.cx(0, 1) # Apply CNot Gate - entangle qubits\n",
    "\n",
    "# Define ZZ and XX observables for measuring properties of the two qubits above.\n",
    "observables_labels = [\"ZZ\", \"XX\"]\n",
    "observables = [SparsePauliOp(label) for label in observables_labels]\n",
    "\n",
    "observables"
   ]
  },
  {
   "cell_type": "markdown",
   "metadata": {},
   "source": [
    "Later in this tutorial, we will show how you can use these observables to extract meaningful information from the quantum circuit."
   ]
  },
  {
   "cell_type": "markdown",
   "metadata": {},
   "source": [
    "## Qiskit Primitives"
   ]
  },
  {
   "cell_type": "markdown",
   "metadata": {},
   "source": [
    "As you may already know, in computer science a *primitive* is the simplest building block of a programming language (e.g. ints, floats, bools, chars, etc.). Note that programming languages are used to abstract away all of the electrical signals that happen in the hardware which allow your program to run. \n",
    "\n",
    "The same is true for quantum computers. Currently, the quantum computing field mostly thinks with circuits. To get meaningful information from these circuits, quantum computers can either calculate expectation values or sample quantum states. These are the two most common tasks that quantum computers do, and are what Qiskit's primitives are based on."
   ]
  },
  {
   "cell_type": "markdown",
   "metadata": {},
   "source": [
    "Qiskit has two primitives: ***Sampler*** and ***Estimator***\n",
    "\n",
    "1. Estimator is used to compute the expectation values of observables in a circuit\n",
    "2. Sampler is used to compute quasi-probabilities of outcomes in a circuit.\n",
    "\n",
    "Note that here, quasi-probabilities refer to the theoretical probabilities of a qubit's value after they have been transformed and measured in a circuit."
   ]
  },
  {
   "cell_type": "code",
   "execution_count": 11,
   "metadata": {},
   "outputs": [
    {
     "ename": "NameError",
     "evalue": "name 'AerSimulator' is not defined",
     "output_type": "error",
     "traceback": [
      "\u001b[1;31m---------------------------------------------------------------------------\u001b[0m",
      "\u001b[1;31mNameError\u001b[0m                                 Traceback (most recent call last)",
      "Cell \u001b[1;32mIn[11], line 14\u001b[0m\n\u001b[0;32m     11\u001b[0m observable \u001b[38;5;241m=\u001b[39m Pauli(\u001b[38;5;124m'\u001b[39m\u001b[38;5;124mZ\u001b[39m\u001b[38;5;124m'\u001b[39m)\n\u001b[0;32m     13\u001b[0m \u001b[38;5;66;03m# Choose a backend (more on in the following section)\u001b[39;00m\n\u001b[1;32m---> 14\u001b[0m backend \u001b[38;5;241m=\u001b[39m \u001b[43mAerSimulator\u001b[49m\n\u001b[0;32m     16\u001b[0m \u001b[38;5;66;03m# Create the estimator primitive  and calculate the expectation value of our observable\u001b[39;00m\n\u001b[0;32m     17\u001b[0m estimator \u001b[38;5;241m=\u001b[39m Estimator(backend \u001b[38;5;241m=\u001b[39m backend) \n",
      "\u001b[1;31mNameError\u001b[0m: name 'AerSimulator' is not defined"
     ]
    }
   ],
   "source": [
    "##### Estimator Example #####\n",
    "\n",
    "# Import Estimator library\n",
    "from qiskit.primitives import Estimator\n",
    "\n",
    "# The example circuit is from our example of Pauli Operators above\n",
    "qc = QuantumCircuit(1)\n",
    "qc.h(0)\n",
    "\n",
    "# Define observables\n",
    "observable = Pauli('Z')\n",
    "\n",
    "# Choose a backend (more on in the following section)\n",
    "backend = AerSimulator\n",
    "\n",
    "# Create the estimator primitive  and calculate the expectation value of our observable\n",
    "estimator = Estimator(backend = backend) \n",
    "job = estimator.run(circuits=[qc], observables=[observable])\n",
    "result = job.result()\n",
    "\n",
    "# Output expectation value\n",
    "print(f\"Expectation value: {result.values[0]}\")"
   ]
  },
  {
   "cell_type": "code",
   "execution_count": 1,
   "metadata": {},
   "outputs": [
    {
     "ename": "NameError",
     "evalue": "name 'QuantumCircuit' is not defined",
     "output_type": "error",
     "traceback": [
      "\u001b[1;31m---------------------------------------------------------------------------\u001b[0m",
      "\u001b[1;31mNameError\u001b[0m                                 Traceback (most recent call last)",
      "Cell \u001b[1;32mIn[1], line 7\u001b[0m\n\u001b[0;32m      4\u001b[0m \u001b[38;5;28;01mfrom\u001b[39;00m \u001b[38;5;21;01mqiskit_ibm_runtime\u001b[39;00m \u001b[38;5;28;01mimport\u001b[39;00m SamplerV2 \u001b[38;5;28;01mas\u001b[39;00m Sampler\n\u001b[0;32m      6\u001b[0m \u001b[38;5;66;03m# Create a Bell state\u001b[39;00m\n\u001b[1;32m----> 7\u001b[0m qc \u001b[38;5;241m=\u001b[39m \u001b[43mQuantumCircuit\u001b[49m(\u001b[38;5;241m2\u001b[39m)\n\u001b[0;32m      8\u001b[0m qc\u001b[38;5;241m.\u001b[39mh(\u001b[38;5;241m0\u001b[39m)  \u001b[38;5;66;03m# Create superposition\u001b[39;00m\n\u001b[0;32m      9\u001b[0m qc\u001b[38;5;241m.\u001b[39mcx(\u001b[38;5;241m0\u001b[39m, \u001b[38;5;241m1\u001b[39m)  \u001b[38;5;66;03m# Entangle qubits\u001b[39;00m\n",
      "\u001b[1;31mNameError\u001b[0m: name 'QuantumCircuit' is not defined"
     ]
    }
   ],
   "source": [
    "##### Sampler Example #####\n",
    "\n",
    "# Import Sampler Library\n",
    "from qiskit_ibm_runtime import SamplerV2 as Sampler\n",
    "\n",
    "# Create a Bell state\n",
    "qc = QuantumCircuit(2)\n",
    "qc.h(0)  # Create superposition\n",
    "qc.cx(0, 1)  # Entangle qubits\n",
    "\n",
    "# Instantiate and run sampler\n",
    "sampler = Sampler(backend=backend) \n",
    "\n",
    "# Note that unlike the estimator primitive, you do not need observables\n",
    "job = sampler.run(circuits=[qc])\n",
    "result = job.result()\n",
    "\n",
    "# Extract Quasi-Probabilities For Qubit\n",
    "print(result.quasi_dists[0])"
   ]
  },
  {
   "cell_type": "markdown",
   "metadata": {},
   "source": [
    "## Transpilation"
   ]
  },
  {
   "cell_type": "markdown",
   "metadata": {},
   "source": [
    "In classical computing, to run a program we write it first has to be compiled. In this compilation stage, our code gets translated from human-readable to machine-readable code. Furthermore, since every computer has different architectures and instruction sets, a compiler has make sure that the machine-readable code that it outputs can be read by the computer the program is being run on.\n",
    "\n",
    "Similarly, quantum computers have *transpilation*, which can be thought of as compilation for quantum computers. Under the hood, quantum computers use topology to create circuits in different ways (this is used to take advantage of problem symmetries and help with things like error correction). So, transpilation is when a quantum circuit is translated to match a quantum computer's topology. In this stage, circuit instructions are also transformed to match the quantum computer's instruction set and are optimized (just like with a compiler). \n",
    "\n",
    "It turns out that this stage is what separates beginners from experts. So, transpilation gets very complicated very quickly. In this section we will give a high-level overview of this stage and highlight the most important components."
   ]
  },
  {
   "cell_type": "code",
   "execution_count": null,
   "metadata": {},
   "outputs": [],
   "source": [
    "from qiskit.transpiler.preset_passmanagers import generate_preset_pass_manager\n",
    "from qiskit_ibm_runtime.fake_provider import FakeAlmadenV2"
   ]
  },
  {
   "cell_type": "markdown",
   "metadata": {},
   "source": [
    "## Running Jobs"
   ]
  },
  {
   "cell_type": "markdown",
   "metadata": {},
   "source": [
    "The first step in running a quantum job is choosing where it will be executed, which is called a backend. A backend in Qiskit is either a simulator or a real quantum device. In this section, we will explore what both of these options look like.\n",
    "\n"
   ]
  },
  {
   "cell_type": "markdown",
   "metadata": {},
   "source": [
    "Choosing a Simulator"
   ]
  },
  {
   "cell_type": "markdown",
   "metadata": {},
   "source": [
    "Simulators emulate quantum computations on classical hardware. They are fast, noise-free (unless specified), and ideal for testing and debugging circuits. Qiskit has the following simulators:  \n",
    "- AerSimulator   \n",
    "- Aer Provider\n",
    "- QasamSimulator\n",
    "- Statevector Simulator\n",
    "- Unitary Simulator  \n",
    "- AerError\n",
    "\n",
    "These are local sumulators that run on your local machine and are provided by the qiskit-aer module.\n",
    "\n",
    "In addition, Qiskit has simulators that run in the cloud and that are provided by the qiskit-ibm-runtime module.  \n",
    "\n",
    "For now, we will focus on local sumulators, specifically on AerSumulator. AerSimulator provides versatile options for simulating quantum circults by emulating different types of simulations, which include QASM simulator, Statevector Simulation, and Unitary Simulator.  \n",
    "\n",
    "- QASM Simulator: Is useful to analyze probabilistic measurement because they mimic quantum measurements and provide a histogram of outcomes. \n",
    "- Statevector Simulator: Is useful to study the exact quantum state for debudding or theoretical analysis because it provides the exact quantum state of a circuit as an amplitude vector \n",
    "\n",
    "- Unitary Simulator: Is useful to understand the mathemtical transofrmation of a quantum circuit because it computes the unitary matrix representing the quanatum circuit. \n",
    "\n",
    "Below, we will be accesing AerSimulator's Unitary Simulator. "
   ]
  },
  {
   "cell_type": "code",
   "execution_count": 7,
   "metadata": {},
   "outputs": [
    {
     "name": "stdout",
     "output_type": "stream",
     "text": [
      "{'00': 483, '11': 541}\n"
     ]
    }
   ],
   "source": [
    "# To start, import the neccesary libraries, which are the following: \n",
    "from qiskit_aer import Aer \n",
    "from qiskit import QuantumCircuit\n",
    "# We will create a CNOT gate like we did in the example above \n",
    "qc = QuantumCircuit(2)\n",
    "qc.h(0)\n",
    "qc.cx(0, 1)  \n",
    "\n",
    "# We wil call meausre_all to ensure that every qubit in the circuit \n",
    "# is measured. Without this, no classical results would be returned and \n",
    "# the quantum state would remain in superposition or entanglement. \n",
    "qc.measure_all() #add measurements\n",
    "\n",
    "#simulator backend\n",
    "simulator = Aer.get_backend('aer_simulator')\n",
    "\n",
    "\"\"\"Notice that within the execulte parameter we set shots to equal 1024. \n",
    "Shots referes to the number of times of quantum circuit is executed \n",
    "to gaher measurement outcomes. This is neccesary since quantum measurements\n",
    "are probabilistic so running multiple times allows us to estimate the \n",
    "probability distribution of the results. \"\"\"\n",
    "# Run the circuit\n",
    "job = simulator.run(qc, shots=1024)\n",
    "result = job.result() \n",
    "print(result.get_counts(qc))\n"
   ]
  },
  {
   "cell_type": "markdown",
   "metadata": {},
   "source": [
    "Choosing a Real Device\n",
    "\n",
    "After setting up an account through IBM, you can set up a backend using QiskkitRuntimeService to get access to a real quantum computing device.  \n",
    "\n"
   ]
  },
  {
   "cell_type": "code",
   "execution_count": null,
   "metadata": {},
   "outputs": [],
   "source": [
    "\"\"\"\n",
    "RECALL the set up that occured above\n",
    "import qiskit\n",
    "from qiskit_ibm_runtime import QiskitRuntimeService\n",
    "\n",
    "# Setup the quantum channel\n",
    "service = QiskitRuntimeService(channel=\"ibm_quantum\",\n",
    "                              token = \"YOUR_TOKEN_HERE\")\n",
    "\"\"\""
   ]
  },
  {
   "cell_type": "markdown",
   "metadata": {},
   "source": [
    "If you do not want to select a specific device, you can run the following command to set your default device as the device that is currently facing the least traffic. The least_busy function's parameters allow us to specificy that the backend we are looking for does not include simulators (only realy devices) and are in operation. "
   ]
  },
  {
   "cell_type": "code",
   "execution_count": 3,
   "metadata": {},
   "outputs": [],
   "source": [
    "backend = service.least_busy(simulator=False, operational=True)"
   ]
  },
  {
   "cell_type": "markdown",
   "metadata": {},
   "source": [
    "In order to view what devices are available to use on IBM's service, you can use the following command:"
   ]
  },
  {
   "cell_type": "code",
   "execution_count": null,
   "metadata": {},
   "outputs": [],
   "source": [
    "print(service.backends())"
   ]
  },
  {
   "cell_type": "markdown",
   "metadata": {},
   "source": [
    "Once we have chosen a device from this list, we can set it as our backend. (For this example, we will be selecting imbq quito.)"
   ]
  },
  {
   "cell_type": "code",
   "execution_count": null,
   "metadata": {},
   "outputs": [],
   "source": [
    "backend = service.backend(\"Insert Device Name Here\")"
   ]
  },
  {
   "cell_type": "markdown",
   "metadata": {},
   "source": [
    "We can now successfully create the circuit, choose a device, execute the circuite, and extract the measurements of the qubits. "
   ]
  },
  {
   "cell_type": "code",
   "execution_count": null,
   "metadata": {},
   "outputs": [],
   "source": [
    "from qiskit import QuantumCircuit, transpile\n",
    "from qiskit_ibm_runtime import QiskitRuntimeService \n",
    "#from qiskit_ibm_runtime import job_monitor\n",
    "\n",
    "# Define a quantum circuit\n",
    "qc = QuantumCircuit(2)\n",
    "qc.h(0)\n",
    "qc.cx(0, 1)\n",
    "\n",
    "\n",
    "# Load IBM Quantum service and choose a real device\n",
    "service = QiskitRuntimeService()\n",
    "backend = service.backend('Insert Device Name Here') \n",
    "qc.measure_all()\n",
    "\n",
    "# Transpile the circuit for the device\n",
    "qc = transpile(qc, backend)\n",
    "\n",
    "# Execute the circuit on the real devic and specific the number of shots\n",
    "job = backend.run(qc, shots=1024)   \n",
    "\n",
    "#monitor job status\n",
    "#job_monitor(job) \n",
    "\n",
    "#retrieve results \n",
    "result = job.result()\n",
    "counts = result.get_counts()\n",
    "print(counts)"
   ]
  },
  {
   "cell_type": "markdown",
   "metadata": {},
   "source": [
    "Pubs "
   ]
  },
  {
   "cell_type": "markdown",
   "metadata": {},
   "source": [
    "Another sphere of running jobs is the concept of PUBS. A PUB is essentially a tuple that carrie sthe circuit, parameters, and other input needed for quantum computations. The Estimator and Sampler privitives accept PUBS as inputs in their run() method , execute the workloads, and return results with structure.\n",
    "\n",
    " Our earlier example (from our Qiskit Primitives section) of running an circuit using the Estimator primitive was a basic example of calculating the expectation value of a single circuit with one observable. However, we can extend of the Estimator primitive to handle parameterized circuits and vectorized workloads. This allows us to calculate expectations for multiple observables and over multiple parameter values. Adding parameters is useful because it allows us to compute a large number of expectation values in a single job.  \n",
    "\n",
    " The same goes for the Sampler primitive. Our earlier example (from our Qiskit Primitives section) focused on demostrating the basic functinoality of the Sampler primitive, which is calculating quasi-probabilities. The functionality of the Sampler primitive can be extended to combine the circuit with a parameter sweep to compute results for multiple configurations in one job by enabling vectorized execution."
   ]
  },
  {
   "cell_type": "markdown",
   "metadata": {},
   "source": [
    "We will explore what PUBS look like applied below in our workflow example. "
   ]
  },
  {
   "cell_type": "markdown",
   "metadata": {},
   "source": [
    "## Post-processing and Plotting"
   ]
  },
  {
   "cell_type": "markdown",
   "metadata": {},
   "source": [
    "For plotting and post-processing the data after running the quantum program, we will use matplotlib and qiskit.visualization for visualizing the results.\n",
    "\n",
    "We will also handle the following: \n",
    "- data analysis \n",
    "- normalization\n",
    "- error analysis \n",
    "- more visialization enhancements"
   ]
  },
  {
   "cell_type": "markdown",
   "metadata": {},
   "source": [
    "Import Libraries"
   ]
  },
  {
   "cell_type": "code",
   "execution_count": null,
   "metadata": {},
   "outputs": [],
   "source": [
    "import matplotlib.pyplot as plt\n",
    "import numpy as np\n",
    "from qiskit.visualization import plot_histogram\n",
    "from qiskit.quantum_info import SparsePauliOp\n",
    "from qiskit_ibm_runtime import QiskitRuntimeService, SamplerV2 as Sampler, EstimatorV2 as Estimator\n",
    "from scipy.stats import norm\n",
    "import seaborn as sns"
   ]
  },
  {
   "cell_type": "markdown",
   "metadata": {},
   "source": [
    "Initialize Quiskit service and Select Backend"
   ]
  },
  {
   "cell_type": "code",
   "execution_count": null,
   "metadata": {},
   "outputs": [],
   "source": [
    "# Initialize Qiskit service and select backend\n",
    "service = QiskitRuntimeService()\n",
    "backend = service.least_busy(simulator=False, operational=True)\n",
    "\n",
    "# Create Sampler object to run the job\n",
    "sampler = Sampler(backend=backend)"
   ]
  },
  {
   "cell_type": "markdown",
   "metadata": {},
   "source": [
    "Define Quantum Circuit"
   ]
  },
  {
   "cell_type": "code",
   "execution_count": null,
   "metadata": {},
   "outputs": [],
   "source": [
    "# Define a quantum circuit (replace this with your actual quantum circuit)\n",
    "from qiskit import QuantumCircuit\n",
    "qc = QuantumCircuit(2)\n",
    "qc.h(0)\n",
    "qc.cx(0, 1)\n",
    "qc.measure_all()"
   ]
  },
  {
   "cell_type": "markdown",
   "metadata": {},
   "source": [
    "Run the Sampler Job and Retrieve Results "
   ]
  },
  {
   "cell_type": "code",
   "execution_count": null,
   "metadata": {},
   "outputs": [],
   "source": [
    "# Run the job using Sampler\n",
    "job = sampler.run([qc])\n",
    "result = job.result()\n",
    "\n",
    "# 1. Handle and Normalize Quasi-Distribution Results\n",
    "counts = result.quasi_dists[0]\n",
    "print(\"Quasi-Distribution Results:\", counts)\n",
    "\n",
    "# Normalize the quasi-distribution (if necessary)\n",
    "total_count = sum(counts.values())\n",
    "normalized_counts = {key: val / total_count for key, val in counts.items()}\n",
    "\n",
    "# Statistical analysis of the quasi-distribution\n",
    "avg = np.mean(list(normalized_counts.values()))\n",
    "std_dev = np.std(list(normalized_counts.values()))\n",
    "print(f\"Average Quasi-Distribution Value: {avg}, Standard Deviation: {std_dev}\")"
   ]
  },
  {
   "cell_type": "markdown",
   "metadata": {},
   "source": [
    "Plot Quasi-Distribution"
   ]
  },
  {
   "cell_type": "code",
   "execution_count": null,
   "metadata": {},
   "outputs": [],
   "source": [
    "# Plot the Quasi-Distribution\n",
    "plt.figure(figsize=(10, 5))\n",
    "plt.subplot(1, 2, 1)\n",
    "plot_histogram(normalized_counts, color='blue')\n",
    "plt.title(\"Normalized Quasi-Distribution\")"
   ]
  },
  {
   "cell_type": "markdown",
   "metadata": {},
   "source": [
    "Handle Expectation values with error analysis "
   ]
  },
  {
   "cell_type": "code",
   "execution_count": null,
   "metadata": {},
   "outputs": [],
   "source": [
    "# 2. Handle Expectation Values with Error Analysis\n",
    "# Define observables (ZZ and XX)\n",
    "observables = [SparsePauliOp(\"ZZ\"), SparsePauliOp(\"XX\")]\n",
    "estimator = Estimator(backend=backend)\n",
    "\n",
    "# Run the Estimator job\n",
    "job = estimator.run([(qc, observables)])\n",
    "result = job.result()\n",
    "\n",
    "# Get the expectation values\n",
    "expectation_values = result[0]\n",
    "print(\"Expectation Values:\", expectation_values)\n",
    "\n",
    "# Assuming the results are in the form of a dictionary, extract them\n",
    "observables = list(expectation_values.keys())\n",
    "values = list(expectation_values.values())\n",
    "\n",
    "# Error values (example, replace with actual errors if available)\n",
    "errors = [0.1, 0.05]  # Example for error values for each observable, we can play around with the numbers\n",
    "\n",
    "# Plot Expectation Values with error bars\n",
    "plt.subplot(1, 2, 2)\n",
    "plt.bar(observables, values, yerr=errors, capsize=5, color='green')\n",
    "plt.xlabel(\"Observables\")\n",
    "plt.ylabel(\"Expectation Value\")\n",
    "plt.title(\"Expectation Values with Error Bars\")"
   ]
  },
  {
   "cell_type": "markdown",
   "metadata": {},
   "source": [
    "Combine and Show Plots"
   ]
  },
  {
   "cell_type": "code",
   "execution_count": null,
   "metadata": {},
   "outputs": [],
   "source": [
    "# 3. Combine the Plots into a Single Figure\n",
    "plt.tight_layout()\n",
    "plt.show()"
   ]
  },
  {
   "cell_type": "markdown",
   "metadata": {},
   "source": [
    "Advanced analysis - Fitting a Normal distribution "
   ]
  },
  {
   "cell_type": "code",
   "execution_count": null,
   "metadata": {},
   "outputs": [],
   "source": [
    "# 4. Advanced Data Analysis (Optional):\n",
    "# Fit the normalized quasi-distribution to a normal distribution and plot\n",
    "sns.histplot(list(normalized_counts.values()), kde=True, stat=\"density\", bins=30, color='purple')\n",
    "\n",
    "# Fit a normal distribution to the data\n",
    "mu, std = norm.fit(list(normalized_counts.values()))\n",
    "print(f\"Fitted Normal Distribution Parameters: Mean = {mu}, Std = {std}\")\n",
    "\n",
    "# Plot the fitted Gaussian distribution\n",
    "xmin, xmax = plt.xlim()\n",
    "x = np.linspace(xmin, xmax, 100)\n",
    "p = norm.pdf(x, mu, std)\n",
    "plt.plot(x, p, 'k', linewidth=2)\n",
    "plt.title(\"Fitted Normal Distribution to Quasi-Distribution\")\n",
    "plt.show()"
   ]
  },
  {
   "cell_type": "markdown",
   "metadata": {},
   "source": [
    "# Part III. The Qiskit Workflow\n",
    "\n",
    "In this section, we will be exploring the typical workflow when programming with Qiskit. In general, we follow the following steps:\n",
    "\n",
    "1. Map the Problem to Circuits and Operators\n",
    "2. Optimize for Quantum Hardware\n",
    "3. Execute on the Backend\n",
    "4. Post-process and Plot\n",
    "\n",
    "To illustrate these steps, we will investigate two problems regarding the 4-qubit GHZ state, one which uses a Sampler and one that uses an Estimator. In general, the GHZ state is a maximally entangled quantum state that involves $n$ qubits. For this example, we will be using for qubits. In Dirac Notation, this four-qubit state is written as:\n",
    "\n",
    "$$\n",
    "\\ket{GHZ} = \\dfrac{1}{\\sqrt{2}}(\\ket{0000} + \\ket{1111})\n",
    "$$\n",
    "\n",
    "Note that this is very similar to the Bell State, and that the Bell State is like a 2-qubit GHZ state."
   ]
  },
  {
   "cell_type": "markdown",
   "metadata": {},
   "source": [
    "## Finding Entanglement\n",
    "\n",
    "The first problem we'd like to investigate is the entanglement found between the qubits in the GHZ state. To do so, we will need to find the expectation values of $ZZ$ gates. These operators measure the correlation between qubits, which is dependent on quantum entanglement. Due to quantum mechanics, this measurement isn't always the same. So, the expectation value of the $ZZ$ gates give us the expected correlation between two qubits."
   ]
  },
  {
   "cell_type": "markdown",
   "metadata": {},
   "source": [
    "### Step 1: Map the Problem to Circuits and Operators"
   ]
  },
  {
   "cell_type": "code",
   "execution_count": null,
   "metadata": {},
   "outputs": [],
   "source": [
    "# Circuit with 4 qubits\n",
    "ghz_e = QuantumCircuit(4)\n",
    "\n",
    "# Add the gates for the GHZ state\n",
    "ghz_e.h(0)\n",
    "for i in range(3):\n",
    "    ghz_e.cx(i, i+1)\n",
    "\n",
    "ghz_e.draw(output=\"mpl\")"
   ]
  },
  {
   "cell_type": "code",
   "execution_count": null,
   "metadata": {},
   "outputs": [],
   "source": [
    "# Set up the observables\n",
    "\n",
    "# NOTE: NEED EXPLANATION FOR WHY THESE ARE THE OBSERVABLES\n",
    "observables_labels = [\"ZZII\", \"ZIZI\", \"ZIIZ\"]\n",
    "observables = [SparsePauliOp(label) for label in observables_labels]"
   ]
  },
  {
   "cell_type": "markdown",
   "metadata": {},
   "source": [
    "### Step 2: Optimize for Quantum Hardware"
   ]
  },
  {
   "cell_type": "code",
   "execution_count": null,
   "metadata": {},
   "outputs": [],
   "source": [
    "backend = service.least_busy(simulator=False, operational=True)\n",
    " \n",
    "# Transpile the quantum circuit\n",
    "pass_manager = generate_preset_pass_manager(backend=backend, optimization_level=1)\n",
    "ghz_e_transpiled = pass_manager.run(ghz_e)\n",
    "\n",
    "ghz_e_transpiled.draw('mpl', idle_wires=False)"
   ]
  },
  {
   "cell_type": "markdown",
   "metadata": {},
   "source": [
    "### Step 3: Execute on the Backend"
   ]
  },
  {
   "cell_type": "code",
   "execution_count": null,
   "metadata": {},
   "outputs": [],
   "source": [
    "# Construct the Estimator instance\n",
    "estimator = Estimator(mode=backend)\n",
    "estimator.options.resilience_level = 1\n",
    "estimator.options.default_shots = 5000\n",
    " \n",
    "mapped_observables = [\n",
    "    observable.apply_layout(ghz_e_transpiled.layout) for observable in observables\n",
    "]\n",
    " \n",
    "# One pub, with one circuit to run against five different observables.\n",
    "job = estimator.run([(ghz_e_transpiled, mapped_observables)])\n",
    " \n",
    "# Use the job ID to retrieve your job data later\n",
    "print(f\"Job ID: {job.job_id()}\")"
   ]
  },
  {
   "cell_type": "code",
   "execution_count": null,
   "metadata": {},
   "outputs": [],
   "source": [
    "# TODO: this is from ibm, add explanation and maybe edit\n",
    "\n",
    "# This is the result of the entire submission.  You submitted one Pub,\n",
    "# so this contains one inner result (and some metadata of its own).\n",
    "job_result = job.result()\n",
    " \n",
    "# This is the result from our single pub, which had six observables,\n",
    "# so contains information on all six.\n",
    "pub_result = job.result()[0]"
   ]
  },
  {
   "cell_type": "markdown",
   "metadata": {},
   "source": [
    "### Step 4: Post-Process and Plot"
   ]
  },
  {
   "cell_type": "code",
   "execution_count": null,
   "metadata": {},
   "outputs": [],
   "source": [
    "# Plot the result\n",
    "# TODO: add explanation and figure out this code\n",
    " \n",
    "values = pub_result.data.evs\n",
    "errors = pub_result.data.stds\n",
    " \n",
    "# plotting graph\n",
    "plt.plot(observables_labels, values, \"-o\")\n",
    "plt.xlabel(\"Observables\")\n",
    "plt.ylabel(\"Values\")\n",
    "plt.show()"
   ]
  },
  {
   "cell_type": "markdown",
   "metadata": {},
   "source": [
    "*TODO: Include an explanation why this is the graph we expect*"
   ]
  },
  {
   "cell_type": "markdown",
   "metadata": {},
   "source": [
    "## Getting Measurements\n",
    "\n",
    "The second problem we'd like to investigate is what values do we get when we measure the GHZ state. Since the GHZ state is maximally entangled, we expect to see a range of different values upon measurement. We can visualize this range by creating a probability distribution of the resulting values after measurement. To do so, we would need to use a Sampler."
   ]
  },
  {
   "cell_type": "markdown",
   "metadata": {},
   "source": [
    "### Step 1: Map the Problem to a Circuit"
   ]
  },
  {
   "cell_type": "code",
   "execution_count": null,
   "metadata": {},
   "outputs": [],
   "source": [
    "# Quantum circuit with 4 quantum channels (classical channels to be added later)\n",
    "ghz_s = QuantumCircuit(4)\n",
    "\n",
    "# Create the circuit for a 4-qubit GHZ state\n",
    "ghz_s.h(0)\n",
    "for i in range(3):\n",
    "    ghz_s.cx(i, i+1)\n",
    "\n",
    "\n",
    "# We need to measure the state and store it \n",
    "ghz_s.measure_all() # measure_all adds the classical channels by default\n",
    "\n",
    "ghz_s.draw('mpl')"
   ]
  },
  {
   "cell_type": "code",
   "execution_count": null,
   "metadata": {},
   "outputs": [],
   "source": [
    "# We do not need any observables since we are sampling measurements taken from the circuit"
   ]
  },
  {
   "cell_type": "markdown",
   "metadata": {},
   "source": [
    "### Step 2: Optimize for Quantum Hardware"
   ]
  },
  {
   "cell_type": "code",
   "execution_count": null,
   "metadata": {},
   "outputs": [],
   "source": [
    "backend = service.least_busy(simulator=False, operational=True)\n",
    "# backend = service.backend(\"ibm_brisbane\")\n",
    "# backend = FakeAlmadenV2()\n",
    "\n",
    "# Transpile the quantum circuit\n",
    "pass_manager = generate_preset_pass_manager(backend=backend, optimization_level=1)\n",
    "ghz_s_transpiled = pass_manager.run(ghz_s)\n",
    "\n",
    "ghz_s_transpiled.draw('mpl', idle_wires=False)"
   ]
  },
  {
   "cell_type": "markdown",
   "metadata": {},
   "source": [
    "### Step 3: Execute on the Backend"
   ]
  },
  {
   "cell_type": "code",
   "execution_count": null,
   "metadata": {},
   "outputs": [],
   "source": [
    "# Construct the Estimator instance\n",
    "sampler = Sampler(mode=backend)\n",
    "sampler.options.default_shots = 5000 # TODO: learn what this stuff does\n",
    " \n",
    "\n",
    "# One pub, with one circuit to run against no parameters\n",
    "job = sampler.run([(ghz_s_transpiled)])\n",
    " \n",
    "# Use the job ID to retrieve your job data later\n",
    "print(f\"Job ID: {job.job_id()}\")"
   ]
  },
  {
   "cell_type": "code",
   "execution_count": null,
   "metadata": {},
   "outputs": [],
   "source": [
    "# TODO: get job results once its done running from ibm\n",
    "\n",
    "# Get results\n",
    "\n",
    "# job = service.job(\"cwvfpwvtdtng00879rrg\")\n",
    "job_result = job.result()\n",
    " \n",
    "# This is the result from our single pub, which had no parameters\n",
    "pub_result = job.result()[0]"
   ]
  },
  {
   "cell_type": "markdown",
   "metadata": {},
   "source": [
    "### Step 4: Post-Process and Plot"
   ]
  },
  {
   "cell_type": "code",
   "execution_count": null,
   "metadata": {},
   "outputs": [],
   "source": [
    "quasi_dists = job_result.quasi_dists[0]\n",
    " \n",
    "# plotting graph\n",
    "plot_histogram(quasi_dists)"
   ]
  },
  {
   "cell_type": "markdown",
   "metadata": {},
   "source": [
    "*TODO: do some analysis/interpretation of the graph*"
   ]
  },
  {
   "cell_type": "markdown",
   "metadata": {},
   "source": [
    "# Part IV: Combining Classical and Quantum Computing\n",
    "\n",
    "Building upon the Qiskit workflow, we will create a truly random password generator that makes use of both quantum and classical computation.\n",
    "\n",
    "First, let's generate some random numbers with our newly gained quantum computing skills. We create a quantum circuit with 8 qubits, put them in superposition, and then measure them. We then convert the results of our job into an integer. The function `generate_random_number()` below implements this behavior. Read through this function and try to identify the different parts of the Qiskit workflow that you learned earlier.\n",
    "\n",
    "*NOTE:* Instead of running this on IBM's server, we will use the AerSimulator instead for efficiency purposes. For an extra challenge, you can apply what you learned in the last section to change the code to run the job on IBM's service."
   ]
  },
  {
   "cell_type": "code",
   "execution_count": null,
   "metadata": {},
   "outputs": [],
   "source": [
    "from qiskit import QuantumCircuit\n",
    "from qiskit_aer import AerSimulator\n",
    "import numpy as np\n",
    "\n",
    "def generate_random_number():\n",
    "    while True: \n",
    "\n",
    "        # Circuit w/ 4 qubits and 4 classical bits\n",
    "        qc = QuantumCircuit(8, 8)\n",
    "        \n",
    "        # Put each qubit in superposition\n",
    "        for i in range(8):\n",
    "            qc.h(i)\n",
    "        \n",
    "        # Measure all qubits\n",
    "        qc.measure(range(8), range(8))\n",
    "        \n",
    "        # AerSimulator backend\n",
    "        simulator = AerSimulator()\n",
    "        job = simulator.run(qc, shots=1)\n",
    "        result = job.result()\n",
    "        counts = result.get_counts()\n",
    "        \n",
    "        # Binary result converted into an integer\n",
    "        random_binary = list(counts.keys())[0]\n",
    "        random_number = int(random_binary, 2)\n",
    "        \n",
    "        return random_number"
   ]
  },
  {
   "cell_type": "markdown",
   "metadata": {},
   "source": [
    "Now, let's use this function to create a whole list of random numbers. We'll use the function below to generate a list of random numbers."
   ]
  },
  {
   "cell_type": "code",
   "execution_count": null,
   "metadata": {},
   "outputs": [],
   "source": [
    "def generate_random_numbers(n):\n",
    "    random_numbers = [generate_random_number() for _ in range(n)]\n",
    "    return random_numbers"
   ]
  },
  {
   "cell_type": "markdown",
   "metadata": {},
   "source": [
    "Now, run the code cell below to generate a list of 10 random numbers. Try adjusting the value to generate larger or smaller lists. "
   ]
  },
  {
   "cell_type": "code",
   "execution_count": null,
   "metadata": {},
   "outputs": [],
   "source": [
    "random_numbers = generate_random_numbers(10)\n",
    "print(random_numbers)"
   ]
  },
  {
   "cell_type": "markdown",
   "metadata": {},
   "source": [
    "Now that we made some truly random numbers, let's create a function that turns our numbers into characters. To do that, we'll map each number to a character that can be used in a password. The function `num_to_char()` is defined below and will convert a given integer to a password character."
   ]
  },
  {
   "cell_type": "code",
   "execution_count": null,
   "metadata": {},
   "outputs": [],
   "source": [
    "# Map a given number to a valid password character\n",
    "def num_to_pchar(num):\n",
    "    # Map to one of the 93 possible ASCII characters in the range 33-126\n",
    "    num = ((num % 93) + 33)\n",
    "    return chr(num)"
   ]
  },
  {
   "cell_type": "markdown",
   "metadata": {},
   "source": [
    "Use the `num_to_char()` function to complete the `generate_password()` function below, which will take in a list of integers and return a password as a string."
   ]
  },
  {
   "cell_type": "code",
   "execution_count": null,
   "metadata": {},
   "outputs": [],
   "source": [
    "# Create a string from a given list of numbers\n",
    "def generate_password(nums):\n",
    "    password = \"\"\n",
    "\n",
    "    # TODO: Implement this function!\n",
    "    # Hint: Call `num_to_pchar()` on each number\n",
    "\n",
    "    # SOLUTION:\n",
    "    for num in nums:\n",
    "        pword += num_to_pchar(num)\n",
    "    \n",
    "    \n",
    "    return password"
   ]
  },
  {
   "cell_type": "markdown",
   "metadata": {},
   "source": [
    "Now we can combine this with our random number generator we made before to generate a random password! If you implemented the `generate_password()` function correctly, running the code below will print a randomly generated password. \n",
    "\n",
    "Try editing the amount of random numbers you generate, as this will correlate to how many characters are in the password."
   ]
  },
  {
   "cell_type": "code",
   "execution_count": null,
   "metadata": {},
   "outputs": [],
   "source": [
    "rand_nums = generate_random_numbers(10)  # Generate a list of random numbers\n",
    "password = generate_password(rand_nums)  # Turn the numbers into a password\n",
    "\n",
    "print(password)"
   ]
  },
  {
   "cell_type": "markdown",
   "metadata": {},
   "source": [
    "# Part V: Conclusion"
   ]
  },
  {
   "cell_type": "markdown",
   "metadata": {},
   "source": [
    "To conclude this tutorial, we have provided some resources to guide you to further explore more quantum computing concepts and applications. "
   ]
  },
  {
   "cell_type": "markdown",
   "metadata": {},
   "source": [
    "[**Grover's Algorithm**](https://github.com/lynkos/grovers-algorithm/blob/main/src/grovers_algorithm.ipynb) - Learn about one of the most popular quantum algorithms and how to use it.  \n",
    "\n",
    "[**Grover's Algorithm Applications**](https://github.com/qiskit-community/qiskit-algorithms/blob/main/docs/tutorials/07_grover_examples.ipynb) - Apply Grover's Algorithm to different use cases.\n",
    "\n",
    "[**Advanced Circuit Tutorials**](https://github.com/CQCL/qiskit-tutorial/tree/master/qiskit/terra) - Dive deeper into quantum circuits and how to create them with Qiskit. \n",
    "\n",
    "[**Plotting Data**](https://github.com/CQCL/qiskit-tutorial/blob/master/qiskit/basics/plotting_data_in_qiskit.ipynb) - Learn different ways of vizualizing data using the Qiskit library.\n",
    "\n",
    "[**Algorithms Tutorials**](https://github.com/qiskit-community/qiskit-algorithms/tree/main/docs/tutorials) - Explore more popular quantum algorithms and their applications."
   ]
  },
  {
   "cell_type": "markdown",
   "metadata": {},
   "source": [
    "# References\n",
    "\n",
    "1. https://www.ibm.com/topics/qubit\n",
    "2. https://github.com/lynkos/grovers-algorithm/blob/main/src/grovers_algorithm.ipynb\n",
    "3. https://www.youtube.com/playlist?list=PLOFEBzvs-VvrgHZt3exM_NNiNKtZlHvZi\n",
    "4. https://docs.quantum.ibm.com/guides\n",
    "5. https://www.youtube.com/watch?v=8VgBPEcZ_X0 \n",
    "6. https://dojo.qulacs.org/en/latest/notebooks/1.4_quantum_circuit_diagram.html\n",
    "7. https://www.techtarget.com/searchdatacenter/tip/Classical-vs-quantum-computing-What-are-the-differences\n",
    "8. https://python-reference.readthedocs.io/en/latest/docs/str/ASCII.html"
   ]
  }
 ],
 "metadata": {
  "kernelspec": {
   "display_name": "qenv",
   "language": "python",
   "name": "python3"
  },
  "language_info": {
   "codemirror_mode": {
    "name": "ipython",
    "version": 3
   },
   "file_extension": ".py",
   "mimetype": "text/x-python",
   "name": "python",
   "nbconvert_exporter": "python",
   "pygments_lexer": "ipython3",
   "version": "3.13.0"
  }
 },
 "nbformat": 4,
 "nbformat_minor": 2
}
