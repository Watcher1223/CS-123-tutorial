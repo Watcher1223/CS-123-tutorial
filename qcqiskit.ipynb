{
 "cells": [
  {
   "cell_type": "markdown",
   "metadata": {},
   "source": [
    "# Learning Quantum Computing with Qiskit\n",
    "\n",
    "Quantum computing [Motivation]: <br>\n",
    "Quantum computing is a rapidly advancing field with the potential to redefine computation and problem-solving as we know it. As technology advances, quantum computers show promise in tackling challenges that are currently out of reach for classical computers. By understanding the basics of quantum computing, enthusiasts and professionals alike can begin to appreciate its transformative capabilities and future applications. <br>\n",
    "Quantum computers, for example, can solve problems exponentially faster than traditional computers, allowing them to tackle issues that would take classical computers thousands of years in mere minutes. Additionally, quantum computing has significant implications for cybersecurity. While it threatens current encryption protocols, it also drives the development of post-quantum cryptography, which promises stronger data protection. Through this tutorial, we aim to provide users with an introduction to quantum concepts specifically the threats it poses to the current encription protocols. \n",
    "\n",
    "#### Learning Objectives\n",
    "By the end of this tutorial, you will:\n",
    "+ Understand the basics of quantum computing\n",
    "+ Know how to use the Qiskit library\n",
    "+ Learn tools to start quantum computing projects"
   ]
  },
  {
   "cell_type": "markdown",
   "metadata": {},
   "source": [
    "# I. Introduction to Quantum Computing\n",
    "\n",
    "In this section, we’ll provide an overview of foundational concepts of quantum computing concepts. This will be a theory-focused section, setting up a foundation of knowledge necessary for Part II, where users will engage in hands-on exercises with Qiskit. The main goal is to introduce key differences between classical and quantum computing, along with essential quantum concepts, in a beginner-friendly manner. After completing Part I, users should have a high-level understanding of how quantum computing works and feel prepared to explore the basics of coding in Qiskit. "
   ]
  },
  {
   "cell_type": "markdown",
   "metadata": {},
   "source": [
    "## Classical Computing vs. Quantum Computing\n",
    "\n",
    "Quantum computing works in a different way than the classical computing that we're used to. A classical computer is what you are viewing this on right now, and includes things like laptops, pcs, smartphones, and tablets. Quantum computers are a lot more rare, and are typically kept in strictly monitored environments that prevent physical disturbance of the computer. Although classical computers are more popular, quantum computers have a much higher processing power. And even though they are both computers, they way they operate is fundamentally different. Below highlights the differences in how these computers work:  \n",
    "\n",
    "### Classical Computers\n",
    "* Store data in bits\n",
    "* Operations are based on Boolean algebra\n",
    "* Circuits are modeled from classical physics\n",
    "* Bits can only be in two states: 0 or 1\n",
    "\n",
    "### Quantum Computers\n",
    "* Store data in qubits\n",
    "* Operations are based on linear algebra\n",
    "* Circuits are modeled from quantum mechanics\n",
    "* There is an infinite amount of qubit states\n"
   ]
  },
  {
   "cell_type": "markdown",
   "metadata": {},
   "source": [
    "## What is a Qubit?\n",
    "\n",
    "A Qubit, also known as a quantum qubit is the basic unit of information in quantum computing.\n",
    "A qubit is a two-state quantum system that can represent a 0, a 1, or any proportion of both. Qubits are created by manipulating and measuring quantum particles, such as electrons, photons, or trapped ions. \n",
    "\n",
    "How it works:<br>\n",
    "Qubits use quantum mechanical phenomena like superposition and entanglement to process information. For example, the spin of an electron can be used to create a qubit, with spin up and spin down representing the two states. \n",
    "\n",
    "By definition: <br>\n",
    "1. Superposition is the principle that a quantum system can exist in multiple states simultaneously. For instance, in a classical scenario, a coin must be either heads or tails when observed. However, in quantum mechanics, a qubit can be in a state of \"0\" and \"1\" at the same time until it is measured. When the qubit is measured, it \"collapses\" into one of the two possible outcomes (either \"0\" or \"1\").\n",
    "\n",
    "2. Entanglement is a quantum phenomenon where two or more particles become interconnected in such a way that the state of one particle directly affects the state of the other, no matter the distance between them. This connection creates a \"shared\" state across particles.\n",
    "\n",
    "Furthermore, Qubits behave differently from bits, the basic unit of information in classical computing, because of the quantum properties they're based on. Quantum computing uses qubits to execute calculations instead of the electrical signals used in classical computing. \n",
    "  "
   ]
  },
  {
   "cell_type": "markdown",
   "metadata": {},
   "source": [
    "## Major Concepts and Terminology"
   ]
  },
  {
   "cell_type": "markdown",
   "metadata": {},
   "source": [
    "**Probability Distributions**\n",
    "\n",
    "In classical computing calculations yield definite answers (like 0s and 1s). However, quantum computing typically produces outcomes in terms of probability distributions. This means that the state of a quantum system is not fixed until it is measured.   \n",
    "\n",
    "One example of this is presented through qubit superposition, as mentioned above, where a qubit can simulatnaeously represent both 0 and 1 until it is measured. Until this point, qubits are considered by the probability of it being measured as 0 or 1. When this idea is applied, for example in quantum circuits, results will reflect these probabilities over many runs, providing a meaningful distrbutoin of possible outcomes.   \n",
    "\n",
    "Each possible state in a quantum system has a complex number called an amplitude, which when squared, gives the probability of observing that state upon measurement. The probability distribution is derived from these amplitudes and provides a snapshot of where the qubit is likely found. \n",
    "\n",
    "Understanding probability distribution is fundamental to interpreting quantum computing results.  Thankfully, Quiskit includes tools to visualize these distributions which we will go over later in this tutorial. \n"
   ]
  },
  {
   "cell_type": "markdown",
   "metadata": {},
   "source": [
    "**Interference** \n",
    "\n",
    "Interference is the manner in which different paths of quantum information overlap and either reinforce or cancel each other. This interference is key to algorithms because it is used to affect the probability amplitides of certain outcomes. Interference is the foundation of algorithms like Grover’s Search where the probabilities of correct values are amplified to appear ore frequently. At the same time, Grover’s Serach also uses destrictuve interference to diminish the probabilities of other outcomes. These ideas are key to understanding why quantum computers perform more efficiently than classical computers. "
   ]
  },
  {
   "cell_type": "markdown",
   "metadata": {},
   "source": [
    "**Decoherence** \n",
    "\n",
    "Decoherence is the process where a quantum system looses it quantum properties and reverts back to a classical system. Environmental factors (such as electromagnetic waves interaciting with quibits) that disrupt the quantum system are responsible for this process. This disruption can cause quibits in the system to loose their key properties, such as superoostion and entanglements. Ultimately, this leads to erros during computation and is one of the main challenged faced in the proces of building reliable quantum computers. \n",
    "\n",
    "\n"
   ]
  },
  {
   "cell_type": "markdown",
   "metadata": {},
   "source": [
    "## Quantum Logic Gates\n",
    "[comment]: <> (Need to include examples)\n",
    "At the circuit level, classical computers are a bunch of logic gates. Similarly, the circuits for quantum computers make use of *quantum logic gates*. Mathematically, these logic gates are matrices. When a qubit goes through a gate in a quantum circuit, the qubit (as a vector) gets left-multiplied by the gates (as a matrix). Here, we will go over the some of the major gates and provide some examples for clarity.\n",
    "\n",
    "### X Gate\n",
    "$$ \n",
    "X = \n",
    "\\begin{bmatrix}\n",
    "0 & 1 \\\\\n",
    "1 & 0\n",
    "\\end{bmatrix}\n",
    "$$ \n",
    "\n",
    "So,\n",
    "\n",
    "$$\n",
    "X\\ket{0} = \\ket{1}\n",
    "\\newline\n",
    "X\\ket{1} = \\ket{0}\n",
    "\\newline\n",
    "X\\ket{\\psi} = \\alpha\\ket{1} + \\beta\\ket{0}\n",
    "$$\n",
    "\n",
    "We can think of the $X$-gate as a NOT gate.\n",
    "\n",
    "### Z Gate\n",
    "$$ \n",
    "Z = \n",
    "\\begin{bmatrix}\n",
    "1 & 0 \\\\\n",
    "0 & -1\n",
    "\\end{bmatrix}\n",
    "$$ \n",
    "\n",
    "So,\n",
    "\n",
    "$$\n",
    "Z\\ket{0} = \\ket{0}\n",
    "\\newline\n",
    "Z\\ket{1} = -\\ket{1}\n",
    "\\newline\n",
    "Z\\ket{\\psi} = \\alpha\\ket{0} - \\beta\\ket{1}\n",
    "$$\n",
    "\n",
    "The $Z$-gate performs a *phase shift* within our qubit, which is necessary to fully manipulate it. Here, the *phase* is the negative assign that got attached to $\\ket{1}$\n",
    "\n",
    "### Hadamard Gate\n",
    "$$\n",
    "H =\n",
    "\\begin{bmatrix}\n",
    "\\frac{1}{\\sqrt{2}} & \\frac{1}{\\sqrt{2}} \\\\\n",
    "\\frac{1}{\\sqrt{2}} & -\\frac{1}{\\sqrt{2}}\n",
    "\\end{bmatrix}\n",
    "$$\n",
    "\n",
    "So,\n",
    "\n",
    "$$\n",
    "H\\ket{0} = \\frac{1}{\\sqrt{2}}\\ket{0} + \\frac{1}{\\sqrt{2}}\\ket{1}\n",
    "\\newline\n",
    "H\\ket{1} = \\frac{1}{\\sqrt{2}}\\ket{0} - \\frac{1}{\\sqrt{2}}\\ket{1}\n",
    "\\newline\n",
    "H\\ket{\\psi} = \\frac{\\alpha}{\\sqrt{2}}\\ket{0} - \\frac{\\beta}{\\sqrt{2}}\\ket{1}\n",
    "$$\n",
    "\n",
    "The Hadamard gate puts a qubit into an equal superposition. This means that when we ultimately measure the output (covered in the next section), there will be an equal chance to get any one of the qubit's basis states. Note that for $\\ket{1}$, it adds a phase.\n",
    "\n",
    "### CNOT Gate\n",
    "Unlike the past three gates, the CNOT gates act on two qubits at a time.\n",
    "$$\n",
    "CNOT =\n",
    "\\begin{bmatrix}\n",
    "1 & 0 & 0 & 0 \\\\\n",
    "0 & 1 & 0 & 0 \\\\\n",
    "0 & 0 & 0 & 1 \\\\\n",
    "0 & 0 & 1 & 0 \\\\\n",
    "\\end{bmatrix}\n",
    "$$\n",
    "\n",
    "So,\n",
    "\n",
    "$$\n",
    "CNOT\\ket{00} = \\ket{00}\n",
    "\\newline\n",
    "CNOT\\ket{01} = \\ket{01}\n",
    "\\newline\n",
    "CNOT\\ket{10} = \\ket{11}\n",
    "\\newline\n",
    "CNOT\\ket{00} = \\ket{10}\n",
    "$$\n",
    "\n",
    "The CNOT gate is a *controlled* NOT gate. It applies an X-gate on the target qubit depending on the value of the control qubit. Here, the control qubit is the left qubit, and the target qubit is the right qubit. This gate is used to entangle qubits together.\n"
   ]
  },
  {
   "cell_type": "markdown",
   "metadata": {},
   "source": [
    "## Measurement"
   ]
  },
  {
   "cell_type": "markdown",
   "metadata": {},
   "source": [
    "# References\n",
    "\n",
    "1. https://www.ibm.com/topics/qubit\n",
    "2. https://github.com/lynkos/grovers-algorithm/blob/main/src/grovers_algorithm.ipynb"
   ]
  },
  {
   "cell_type": "markdown",
   "metadata": {},
   "source": [
    "# Quantum Algorithms  \n",
    "\n",
    "Delete this when the code is done.\n",
    "\n",
    "Grover’s Search Algorithm\n",
    "Task: Run Grover’s Search Algorithm using Qiskit\n",
    "Task: Use Grover’s Search Algorithm to decrypt an encrypted password\n"
   ]
  },
  {
   "cell_type": "code",
   "execution_count": 4,
   "metadata": {},
   "outputs": [
    {
     "name": "stdout",
     "output_type": "stream",
     "text": [
      "Target: 5\n",
      "Result: 5\n"
     ]
    }
   ],
   "source": [
    "import math\n",
    "import random\n",
    "\n",
    "def oracle(x, target):\n",
    "    \"\"\"Oracle function that checks if x is the target.\"\"\"\n",
    "    return x == target\n",
    "\n",
    "def diffuser(amplitudes):\n",
    "    \"\"\"Diffusion operator.\"\"\"\n",
    "    n = len(amplitudes)\n",
    "    mean = sum(amplitudes) / n\n",
    "    return [2 * mean - amplitude for amplitude in amplitudes]\n",
    "\n",
    "def grover_search(n, target):\n",
    "    \"\"\"Grover's search algorithm.\"\"\"\n",
    "    amplitudes = [1 / math.sqrt(n) for _ in range(n)]\n",
    "    iterations = int(math.pi / 4 * math.sqrt(n))\n",
    "\n",
    "    for _ in range(iterations):\n",
    "        for i in range(n):\n",
    "            if oracle(i, target):\n",
    "                amplitudes[i] *= -1\n",
    "        amplitudes = diffuser(amplitudes)\n",
    "\n",
    "    return amplitudes.index(max(amplitudes))\n",
    "\n",
    "# Example usage\n",
    "n = 8\n",
    "target = 5\n",
    "result = grover_search(n, target)\n",
    "print(\"Target:\", target)\n",
    "print(\"Result:\", result)\n"
   ]
  },
  {
   "cell_type": "code",
   "execution_count": null,
   "metadata": {},
   "outputs": [],
   "source": [
    "# Create a password and encrypt it"
   ]
  },
  {
   "cell_type": "code",
   "execution_count": null,
   "metadata": {},
   "outputs": [],
   "source": [
    "# Decrypt the password "
   ]
  },
  {
   "cell_type": "code",
   "execution_count": null,
   "metadata": {},
   "outputs": [],
   "source": [
    "# Apply Grovers Algothim "
   ]
  }
 ],
 "metadata": {
  "kernelspec": {
   "display_name": "Python 3",
   "language": "python",
   "name": "python3"
  },
  "language_info": {
   "codemirror_mode": {
    "name": "ipython",
    "version": 3
   },
   "file_extension": ".py",
   "mimetype": "text/x-python",
   "name": "python",
   "nbconvert_exporter": "python",
   "pygments_lexer": "ipython3",
   "version": "3.10.6"
  }
 },
 "nbformat": 4,
 "nbformat_minor": 2
}
